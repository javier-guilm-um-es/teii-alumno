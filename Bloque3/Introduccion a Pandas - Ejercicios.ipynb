{
 "cells": [
  {
   "cell_type": "markdown",
   "id": "vertical-grenada",
   "metadata": {
    "toc": true
   },
   "source": [
    "<h1>Tabla de contenidos<span class=\"tocSkip\"></span></h1>\n",
    "<div class=\"toc\"><ul class=\"toc-item\"><li><span><a href=\"#Alumno\" data-toc-modified-id=\"Alumno-1\"><span class=\"toc-item-num\">1&nbsp;&nbsp;</span>Alumno</a></span></li><li><span><a href=\"#Ejercicios-de-Pandas\" data-toc-modified-id=\"Ejercicios-de-Pandas-2\"><span class=\"toc-item-num\">2&nbsp;&nbsp;</span>Ejercicios de Pandas</a></span><ul class=\"toc-item\"><li><span><a href=\"#Series\" data-toc-modified-id=\"Series-2.1\"><span class=\"toc-item-num\">2.1&nbsp;&nbsp;</span>Series</a></span><ul class=\"toc-item\"><li><span><a href=\"#Asigna-el-nombre-&quot;alfabeto&quot;-a-la-siguiente-serie-y-comprueba-si-muestra-el-nombre.\" data-toc-modified-id=\"Asigna-el-nombre-&quot;alfabeto&quot;-a-la-siguiente-serie-y-comprueba-si-muestra-el-nombre.-2.1.1\"><span class=\"toc-item-num\">2.1.1&nbsp;&nbsp;</span>Asigna el nombre \"alfabeto\" a la siguiente serie y comprueba si muestra el nombre.</a></span></li><li><span><a href=\"#Escribe-una-expresión-que,-dadas-dos-series,-diga-si-todos-los-elementos-de-la-primera-son-mayores-que-los-correspondientes-de-la-segunda.\" data-toc-modified-id=\"Escribe-una-expresión-que,-dadas-dos-series,-diga-si-todos-los-elementos-de-la-primera-son-mayores-que-los-correspondientes-de-la-segunda.-2.1.2\"><span class=\"toc-item-num\">2.1.2&nbsp;&nbsp;</span>Escribe una expresión que, dadas dos series, diga si todos los elementos de la primera son mayores que los correspondientes de la segunda.</a></span></li><li><span><a href=\"#Escribe-una-expresión-que,-dadas-dos-series,-diga-si-hay-algún-elemento-de-la-primera-menor-o-igual-que-el-correspondiente-de-la-segunda.\" data-toc-modified-id=\"Escribe-una-expresión-que,-dadas-dos-series,-diga-si-hay-algún-elemento-de-la-primera-menor-o-igual-que-el-correspondiente-de-la-segunda.-2.1.3\"><span class=\"toc-item-num\">2.1.3&nbsp;&nbsp;</span>Escribe una expresión que, dadas dos series, diga si hay algún elemento de la primera menor o igual que el correspondiente de la segunda.</a></span></li><li><span><a href=\"#Extrae-todos-los-elementos-de-la-serie-dada-que-se-encuentran-en-las-posiciones-indicadas-por-la-lista.\" data-toc-modified-id=\"Extrae-todos-los-elementos-de-la-serie-dada-que-se-encuentran-en-las-posiciones-indicadas-por-la-lista.-2.1.4\"><span class=\"toc-item-num\">2.1.4&nbsp;&nbsp;</span>Extrae todos los elementos de la serie dada que se encuentran en las posiciones indicadas por la lista.</a></span></li><li><span><a href=\"#Construye-una-serie-que-sea-el-resultado-de-añadirle-a-una-serie-dada-los-elementos-de-otra.\" data-toc-modified-id=\"Construye-una-serie-que-sea-el-resultado-de-añadirle-a-una-serie-dada-los-elementos-de-otra.-2.1.5\"><span class=\"toc-item-num\">2.1.5&nbsp;&nbsp;</span>Construye una serie que sea el resultado de añadirle a una serie dada los elementos de otra.</a></span></li><li><span><a href=\"#Ordena-la-serie-resultante-anterior,-primero-por-el-valor-del-índice-y-después-por-valor-de-la-serie.\" data-toc-modified-id=\"Ordena-la-serie-resultante-anterior,-primero-por-el-valor-del-índice-y-después-por-valor-de-la-serie.-2.1.6\"><span class=\"toc-item-num\">2.1.6&nbsp;&nbsp;</span>Ordena la serie resultante anterior, primero por el valor del índice y después por valor de la serie.</a></span></li><li><span><a href=\"#Dadas-las-dos-series-que-se-muestran,-calcula-la-media-del-error-cuadrático-entre-ambas.\" data-toc-modified-id=\"Dadas-las-dos-series-que-se-muestran,-calcula-la-media-del-error-cuadrático-entre-ambas.-2.1.7\"><span class=\"toc-item-num\">2.1.7&nbsp;&nbsp;</span>Dadas las dos series que se muestran, calcula la media del error cuadrático entre ambas.</a></span></li><li><span><a href=\"#Convierte-la-siguiente-serie-de-fechas-introducidas-como-cadenas-a-una-serie-de-tipo-datetime.\" data-toc-modified-id=\"Convierte-la-siguiente-serie-de-fechas-introducidas-como-cadenas-a-una-serie-de-tipo-datetime.-2.1.8\"><span class=\"toc-item-num\">2.1.8&nbsp;&nbsp;</span>Convierte la siguiente serie de fechas introducidas como cadenas a una serie de tipo <code>datetime</code>.</a></span></li><li><span><a href=\"#Crea-tres-series-a-partir-de-la-serie-anterior-ser,-donde-cada-una-contenga-el-día,-la-siguiente,-el-mes,-y-la-última,-el-año-de-cada-fecha.\" data-toc-modified-id=\"Crea-tres-series-a-partir-de-la-serie-anterior-ser,-donde-cada-una-contenga-el-día,-la-siguiente,-el-mes,-y-la-última,-el-año-de-cada-fecha.-2.1.9\"><span class=\"toc-item-num\">2.1.9&nbsp;&nbsp;</span>Crea tres series a partir de la serie anterior <code>ser</code>, donde cada una contenga el día, la siguiente, el mes, y la última, el año de cada fecha.</a></span></li><li><span><a href=\"#Crea-una-serie-con-valores-aleatorios-pero-cuyo-índice-tenga-12-entradas-del-tipo-datetime-con-el-primer-día-de-cada-mes-del-año-2022.\" data-toc-modified-id=\"Crea-una-serie-con-valores-aleatorios-pero-cuyo-índice-tenga-12-entradas-del-tipo-datetime-con-el-primer-día-de-cada-mes-del-año-2022.-2.1.10\"><span class=\"toc-item-num\">2.1.10&nbsp;&nbsp;</span>Crea una serie con valores aleatorios pero cuyo índice tenga 12 entradas del tipo <code>datetime</code> con el primer día de cada mes del año 2022.</a></span></li><li><span><a href=\"#Obtén-la-lista-de-las-posiciones-de-los-elementos-de-ser2-dentro-de-la-serie-ser1.\" data-toc-modified-id=\"Obtén-la-lista-de-las-posiciones-de-los-elementos-de-ser2-dentro-de-la-serie-ser1.-2.1.11\"><span class=\"toc-item-num\">2.1.11&nbsp;&nbsp;</span>Obtén la lista de las posiciones de los elementos de <code>ser2</code> dentro de la serie <code>ser1</code>.</a></span></li><li><span><a href=\"#Dadas-las-siguientes-dos-series-que-representan-frutas-y-peso-comprado-de-cada-una-de-ellas,-obtén-el-peso-medio-comprado-de-cada-tipo-de-fruta.\" data-toc-modified-id=\"Dadas-las-siguientes-dos-series-que-representan-frutas-y-peso-comprado-de-cada-una-de-ellas,-obtén-el-peso-medio-comprado-de-cada-tipo-de-fruta.-2.1.12\"><span class=\"toc-item-num\">2.1.12&nbsp;&nbsp;</span>Dadas las siguientes dos series que representan frutas y peso comprado de cada una de ellas, obtén el peso medio comprado de cada tipo de fruta.</a></span></li></ul></li><li><span><a href=\"#DataFrames\" data-toc-modified-id=\"DataFrames-2.2\"><span class=\"toc-item-num\">2.2&nbsp;&nbsp;</span>DataFrames</a></span><ul class=\"toc-item\"><li><span><a href=\"#A-partir-de-las-series-que-se-indican,-crea-un-DataFrame-que-las-tenga-como-columnas,-dándole-un-nombre-a-cada-una-de-ellas.\" data-toc-modified-id=\"A-partir-de-las-series-que-se-indican,-crea-un-DataFrame-que-las-tenga-como-columnas,-dándole-un-nombre-a-cada-una-de-ellas.-2.2.1\"><span class=\"toc-item-num\">2.2.1&nbsp;&nbsp;</span>A partir de las series que se indican, crea un DataFrame que las tenga como columnas, dándole un nombre a cada una de ellas.</a></span></li><li><span><a href=\"#Crea-un-DataFrame-a-partir-del-fichero-planets.csv-y-seleccionando-solamente-las-columnas-method-y-distance.\" data-toc-modified-id=\"Crea-un-DataFrame-a-partir-del-fichero-planets.csv-y-seleccionando-solamente-las-columnas-method-y-distance.-2.2.2\"><span class=\"toc-item-num\">2.2.2&nbsp;&nbsp;</span>Crea un DataFrame a partir del fichero <code>planets.csv</code> y seleccionando solamente las columnas <code>method</code> y <code>distance</code>.</a></span></li><li><span><a href=\"#Extrae-una-de-cada-10-filas-del-dataset-anterior-empezando-por-la-fila-0.\" data-toc-modified-id=\"Extrae-una-de-cada-10-filas-del-dataset-anterior-empezando-por-la-fila-0.-2.2.3\"><span class=\"toc-item-num\">2.2.3&nbsp;&nbsp;</span>Extrae una de cada 10 filas del dataset anterior empezando por la fila 0.</a></span></li><li><span><a href=\"#Dado-el-dataset-de-coches-Cars93_miss.csv-accesible-en-la-siguiente-URL,-encuentra-el-fabricante,-modelo,-tipo-y-precio-del-coche-más-caro.\" data-toc-modified-id=\"Dado-el-dataset-de-coches-Cars93_miss.csv-accesible-en-la-siguiente-URL,-encuentra-el-fabricante,-modelo,-tipo-y-precio-del-coche-más-caro.-2.2.4\"><span class=\"toc-item-num\">2.2.4&nbsp;&nbsp;</span>Dado el dataset de coches <code>Cars93_miss.csv</code> accesible en la siguiente URL, encuentra el fabricante, modelo, tipo y precio del coche más caro.</a></span></li><li><span><a href=\"#Obtén-una-expresión-que-devuelva-si-el-anterior-dataset-de-coches-tiene-algún-valor-NaN.\" data-toc-modified-id=\"Obtén-una-expresión-que-devuelva-si-el-anterior-dataset-de-coches-tiene-algún-valor-NaN.-2.2.5\"><span class=\"toc-item-num\">2.2.5&nbsp;&nbsp;</span>Obtén una expresión que devuelva si el anterior dataset de coches tiene algún valor NaN.</a></span></li><li><span><a href=\"#Calcula-una-nueva-columna-en-el-dataset-de-coches-que-contenga-el-precio-normalizado-con-respecto-a-su-valor-máximo-y-mínimo.\" data-toc-modified-id=\"Calcula-una-nueva-columna-en-el-dataset-de-coches-que-contenga-el-precio-normalizado-con-respecto-a-su-valor-máximo-y-mínimo.-2.2.6\"><span class=\"toc-item-num\">2.2.6&nbsp;&nbsp;</span>Calcula una nueva columna en el dataset de coches que contenga el precio normalizado con respecto a su valor máximo y mínimo.</a></span></li><li><span><a href=\"#Encuentra-los-tres-vehículos-con-mayor-precio,-ignorando-los-que-no-tengan-precio-asignado-(NaN).\" data-toc-modified-id=\"Encuentra-los-tres-vehículos-con-mayor-precio,-ignorando-los-que-no-tengan-precio-asignado-(NaN).-2.2.7\"><span class=\"toc-item-num\">2.2.7&nbsp;&nbsp;</span>Encuentra los tres vehículos con mayor precio, ignorando los que no tengan precio asignado (NaN).</a></span></li></ul></li><li><span><a href=\"#Agrupaciones\" data-toc-modified-id=\"Agrupaciones-2.3\"><span class=\"toc-item-num\">2.3&nbsp;&nbsp;</span>Agrupaciones</a></span><ul class=\"toc-item\"><li><span><a href=\"#Dado-el-siguiente-dataset,-obtén-la-suma-de-los-ingresos-por-trimestre.-Cada-trimestre-estará-representado-por-su-primer-mes-(enero,-abril,-julio,-octubre).\" data-toc-modified-id=\"Dado-el-siguiente-dataset,-obtén-la-suma-de-los-ingresos-por-trimestre.-Cada-trimestre-estará-representado-por-su-primer-mes-(enero,-abril,-julio,-octubre).-2.3.1\"><span class=\"toc-item-num\">2.3.1&nbsp;&nbsp;</span>Dado el siguiente dataset, obtén la suma de los ingresos por trimestre. Cada trimestre estará representado por su primer mes (enero, abril, julio, octubre).</a></span></li></ul></li></ul></li></ul></div>"
   ]
  },
  {
   "cell_type": "markdown",
   "id": "39938e2f-7834-4881-8fe0-0091e412f110",
   "metadata": {},
   "source": [
    "# Alumno"
   ]
  },
  {
   "cell_type": "markdown",
   "id": "48332deb-2090-4822-8426-5df5bbaaf0ee",
   "metadata": {},
   "source": [
    "*- Jesús Aragón García - Javier Guil Molina*"
   ]
  },
  {
   "cell_type": "markdown",
   "id": "herbal-cartoon",
   "metadata": {},
   "source": [
    "# Ejercicios de Pandas\n",
    "Antes de empezar, importemos los módulos que vamos a utilizar."
   ]
  },
  {
   "cell_type": "code",
   "execution_count": 2,
   "id": "gross-knitting",
   "metadata": {},
   "outputs": [],
   "source": [
    "import numpy as np\n",
    "import pandas as pd"
   ]
  },
  {
   "cell_type": "markdown",
   "id": "local-sense",
   "metadata": {},
   "source": [
    "## Series"
   ]
  },
  {
   "cell_type": "markdown",
   "id": "sacred-cardiff",
   "metadata": {},
   "source": [
    "### Asigna el nombre \"alfabeto\" a la siguiente serie y comprueba si muestra el nombre.\n",
    "\n",
    "Pista: El atributo `.name` de una serie te permite asignarle un nombre."
   ]
  },
  {
   "cell_type": "code",
   "execution_count": 2,
   "id": "foreign-washington",
   "metadata": {},
   "outputs": [
    {
     "data": {
      "text/plain": [
       "0    a\n",
       "1    b\n",
       "2    c\n",
       "3    e\n",
       "4    d\n",
       "dtype: object"
      ]
     },
     "execution_count": 2,
     "metadata": {},
     "output_type": "execute_result"
    }
   ],
   "source": [
    "ser = pd.Series(list('abcedfghijklmnopqrstuvwxyz'))\n",
    "ser.head()"
   ]
  },
  {
   "cell_type": "code",
   "execution_count": 3,
   "id": "compressed-eight",
   "metadata": {},
   "outputs": [
    {
     "data": {
      "text/plain": [
       "0    a\n",
       "1    b\n",
       "2    c\n",
       "3    e\n",
       "4    d\n",
       "Name: alfabeto, dtype: object"
      ]
     },
     "execution_count": 3,
     "metadata": {},
     "output_type": "execute_result"
    }
   ],
   "source": [
    "# Solución\n",
    "ser.name = \"alfabeto\"\n",
    "ser.head()"
   ]
  },
  {
   "cell_type": "markdown",
   "id": "parliamentary-london",
   "metadata": {},
   "source": [
    "### Escribe una expresión que, dadas dos series, diga si todos los elementos de la primera son mayores que los correspondientes de la segunda."
   ]
  },
  {
   "cell_type": "code",
   "execution_count": 48,
   "id": "diagnostic-toner",
   "metadata": {},
   "outputs": [],
   "source": [
    "s1 = pd.Series(np.random.randint(1,10,size=10))\n",
    "s2 = s1+1"
   ]
  },
  {
   "cell_type": "code",
   "execution_count": 49,
   "id": "92b7fa21",
   "metadata": {},
   "outputs": [
    {
     "data": {
      "text/plain": [
       "False"
      ]
     },
     "execution_count": 49,
     "metadata": {},
     "output_type": "execute_result"
    }
   ],
   "source": [
    "# Solución\n",
    "len(s1[(s1>s2)]) == len(s1)"
   ]
  },
  {
   "cell_type": "markdown",
   "id": "9cf4f6a1",
   "metadata": {},
   "source": [
    "### Escribe una expresión que, dadas dos series, diga si hay algún elemento de la primera menor o igual que el correspondiente de la segunda. "
   ]
  },
  {
   "cell_type": "code",
   "execution_count": 59,
   "id": "65b40b3b",
   "metadata": {},
   "outputs": [],
   "source": [
    "s3 = pd.Series(np.random.randint(1,10,size=10))\n",
    "s4 = pd.Series(np.random.randint(1,10,size=10))"
   ]
  },
  {
   "cell_type": "code",
   "execution_count": 81,
   "id": "better-cleaners",
   "metadata": {},
   "outputs": [
    {
     "data": {
      "text/plain": [
       "True"
      ]
     },
     "execution_count": 81,
     "metadata": {},
     "output_type": "execute_result"
    }
   ],
   "source": [
    "# Solución\n",
    "len(s3[((s3-s4) <= 0)]) > 0 "
   ]
  },
  {
   "cell_type": "markdown",
   "id": "public-royal",
   "metadata": {},
   "source": [
    "### Extrae todos los elementos de la serie dada que se encuentran en las posiciones indicadas por la lista."
   ]
  },
  {
   "cell_type": "code",
   "execution_count": 71,
   "id": "dedicated-treasurer",
   "metadata": {},
   "outputs": [],
   "source": [
    "ser = pd.Series(list('abcdefghijklmnopqrstuvwxyz'))\n",
    "pos = [0, 4, 8, 14, 20]"
   ]
  },
  {
   "cell_type": "code",
   "execution_count": 78,
   "id": "incorporate-telephone",
   "metadata": {},
   "outputs": [
    {
     "data": {
      "text/plain": [
       "0     a\n",
       "4     e\n",
       "8     i\n",
       "14    o\n",
       "20    u\n",
       "dtype: object"
      ]
     },
     "execution_count": 78,
     "metadata": {},
     "output_type": "execute_result"
    }
   ],
   "source": [
    "# Solución\n",
    "ser[pos]"
   ]
  },
  {
   "cell_type": "markdown",
   "id": "photographic-renaissance",
   "metadata": {},
   "source": [
    "### Construye una serie que sea el resultado de añadirle a una serie dada los elementos de otra.\n",
    "\n",
    "Pista: Usa el método `.append()` aplicado a un objeto Serie."
   ]
  },
  {
   "cell_type": "code",
   "execution_count": 79,
   "id": "classical-access",
   "metadata": {},
   "outputs": [],
   "source": [
    "ser1 = pd.Series(range(5))\n",
    "ser2 = pd.Series([0.2, 0.3, 0.4])"
   ]
  },
  {
   "cell_type": "code",
   "execution_count": 101,
   "id": "7179722f",
   "metadata": {},
   "outputs": [
    {
     "data": {
      "text/plain": [
       "0    0.0\n",
       "0    0.2\n",
       "dtype: float64"
      ]
     },
     "execution_count": 101,
     "metadata": {},
     "output_type": "execute_result"
    }
   ],
   "source": [
    "# Solución\n",
    "ser = pd.Series(ser1.append(ser2))\n",
    "ser[0]"
   ]
  },
  {
   "cell_type": "markdown",
   "id": "ae06a8ab",
   "metadata": {},
   "source": [
    "Prueba a mostrar el resultado y responde a estas preguntas: ¿Qué ha sucedido con el índice? ¿Cuál es el tipo de datos de la serie resultante? ¿Qué sucede si indexamos directamente la serie con el índice `0` por ejemplo?"
   ]
  },
  {
   "cell_type": "code",
   "execution_count": 102,
   "id": "warming-document",
   "metadata": {},
   "outputs": [
    {
     "data": {
      "text/plain": [
       "0    0.0\n",
       "0    0.2\n",
       "dtype: float64"
      ]
     },
     "execution_count": 102,
     "metadata": {},
     "output_type": "execute_result"
    }
   ],
   "source": [
    "# Solución y respuesta a las preguntas\n",
    "#a.¿Qué ha sucedido con el índice?\n",
    "#Ha mantenido los ínidices de las series originales de manera que habrá índices repetidos. \n",
    "#Esto se puede evitar incluyendo como segundo argumento ignore_index = True\n",
    "\n",
    "#b.¿Cuál es el tipo de datos de la serie resultante?\n",
    "#float64 pues cogerá el tipo de mayor precisión numérica entre todos los elementos añadidos\n",
    "\n",
    "#c.¿Qué sucede si indexamos directamente la serie con el índice 0 por ejemplo?\n",
    "#Como podemos ver si ejecutamos ser[0] saldrán todos los elementos cuyo índice sea 0\n",
    "ser[0]"
   ]
  },
  {
   "cell_type": "markdown",
   "id": "surface-baghdad",
   "metadata": {},
   "source": [
    "### Ordena la serie resultante anterior, primero por el valor del índice y después por valor de la serie.\n",
    "\n",
    "Pista: Usa los métodos `.sort_index()` y `.sort_values()`.\n",
    "\n",
    "Prueba ambos métodos y comprueba el resultado."
   ]
  },
  {
   "cell_type": "code",
   "execution_count": 110,
   "id": "governmental-express",
   "metadata": {},
   "outputs": [
    {
     "data": {
      "text/plain": [
       "0    0.0\n",
       "0    0.2\n",
       "1    0.3\n",
       "1    1.0\n",
       "2    0.4\n",
       "2    2.0\n",
       "3    3.0\n",
       "4    4.0\n",
       "dtype: float64"
      ]
     },
     "execution_count": 110,
     "metadata": {},
     "output_type": "execute_result"
    }
   ],
   "source": [
    "# Solución\n",
    "ser.sort_values().sort_index()\n",
    "#De esta manera ordenará primero por índices y después por los valores de aquellos elementos con el mismo índice"
   ]
  },
  {
   "cell_type": "markdown",
   "id": "introductory-lancaster",
   "metadata": {},
   "source": [
    "### Dadas las dos series que se muestran, calcula la media del error cuadrático entre ambas.\n",
    "\n",
    "La fórmula del error cuadrático entre $x$ e $y$ es $(x - y)^2$."
   ]
  },
  {
   "cell_type": "code",
   "execution_count": 67,
   "id": "turned-meaning",
   "metadata": {},
   "outputs": [
    {
     "name": "stdout",
     "output_type": "stream",
     "text": [
      "0    0\n",
      "1    1\n",
      "2    2\n",
      "3    3\n",
      "4    4\n",
      "5    5\n",
      "6    6\n",
      "7    7\n",
      "8    8\n",
      "9    9\n",
      "dtype: int64\n",
      "0    0.548814\n",
      "1    1.715189\n",
      "2    2.602763\n",
      "3    3.544883\n",
      "4    4.423655\n",
      "5    5.645894\n",
      "6    6.437587\n",
      "7    7.891773\n",
      "8    8.963663\n",
      "9    9.383442\n",
      "dtype: float64\n"
     ]
    }
   ],
   "source": [
    "np.random.seed(0)\n",
    "x = pd.Series(range(10))\n",
    "y = pd.Series(range(10)) + np.random.random(10)\n",
    "print(x)\n",
    "print(y)"
   ]
  },
  {
   "cell_type": "code",
   "execution_count": 68,
   "id": "vanilla-species",
   "metadata": {},
   "outputs": [
    {
     "data": {
      "text/plain": [
       "0.41319910235287544"
      ]
     },
     "execution_count": 68,
     "metadata": {},
     "output_type": "execute_result"
    }
   ],
   "source": [
    "# Solución\n",
    "(((x-y)**2).values).mean()"
   ]
  },
  {
   "cell_type": "markdown",
   "id": "wrapped-trail",
   "metadata": {},
   "source": [
    "### Convierte la siguiente serie de fechas introducidas como cadenas a una serie de tipo `datetime`. \n",
    "\n",
    "Pista: `pandas.to_datetime()`."
   ]
  },
  {
   "cell_type": "code",
   "execution_count": 125,
   "id": "premium-emperor",
   "metadata": {},
   "outputs": [],
   "source": [
    "ser = pd.Series(['02 Jan 2010T00:00:01',\n",
    "                 '02-02-2011',\n",
    "                 '20120303',\n",
    "                 '2013/04/04',\n",
    "                 '2014-05-05',\n",
    "                 '2015-06-06T12:20'])"
   ]
  },
  {
   "cell_type": "code",
   "execution_count": 128,
   "id": "sacred-quick",
   "metadata": {},
   "outputs": [
    {
     "data": {
      "text/plain": [
       "0   2010-01-02 00:00:01\n",
       "1   2011-02-02 00:00:00\n",
       "2   2012-03-03 00:00:00\n",
       "3   2013-04-04 00:00:00\n",
       "4   2014-05-05 00:00:00\n",
       "5   2015-06-06 12:20:00\n",
       "dtype: datetime64[ns]"
      ]
     },
     "execution_count": 128,
     "metadata": {},
     "output_type": "execute_result"
    }
   ],
   "source": [
    "# Solución\n",
    "ser = pd.to_datetime(ser)\n",
    "ser"
   ]
  },
  {
   "cell_type": "markdown",
   "id": "polar-carpet",
   "metadata": {},
   "source": [
    "### Crea tres series a partir de la serie anterior `ser`, donde cada una contenga el día, la siguiente, el mes, y la última, el año de cada fecha.\n",
    "\n",
    "Pista: Una serie del tipo `datetime` tiene un atributo `.dt` que es un objeto que contiene todo lo necesario. Pulsa el tabulador para que Jupyter te ayude a elegir el método adecuado."
   ]
  },
  {
   "cell_type": "code",
   "execution_count": 134,
   "id": "automatic-democrat",
   "metadata": {},
   "outputs": [
    {
     "name": "stdout",
     "output_type": "stream",
     "text": [
      "0    2\n",
      "1    2\n",
      "2    3\n",
      "3    4\n",
      "4    5\n",
      "5    6\n",
      "dtype: int64\n",
      "0    1\n",
      "1    2\n",
      "2    3\n",
      "3    4\n",
      "4    5\n",
      "5    6\n",
      "dtype: int64\n",
      "0    2010\n",
      "1    2011\n",
      "2    2012\n",
      "3    2013\n",
      "4    2014\n",
      "5    2015\n",
      "dtype: int64\n"
     ]
    }
   ],
   "source": [
    "# Solución\n",
    "ser1 = ser.dt.day\n",
    "ser2 = ser.dt.month\n",
    "ser3 = ser.dt.year\n",
    "print(ser1)\n",
    "print(ser2)\n",
    "print(ser3)\n"
   ]
  },
  {
   "cell_type": "markdown",
   "id": "intelligent-sponsorship",
   "metadata": {},
   "source": [
    "### Crea una serie con valores aleatorios pero cuyo índice tenga 12 entradas del tipo `datetime` con el primer día de cada mes del año 2022.\n",
    "\n",
    "Los índices deben empezar por el 01-01-2022 y terminar en el 01-12-2022.\n",
    "\n",
    "Pista: Para generar la secuencia de fechas puedes usar la función `pandas.date_range()`."
   ]
  },
  {
   "cell_type": "code",
   "execution_count": 148,
   "id": "neural-trauma",
   "metadata": {},
   "outputs": [
    {
     "data": {
      "text/plain": [
       "2022-01-01     3\n",
       "2022-02-01     4\n",
       "2022-03-01     1\n",
       "2022-04-01     1\n",
       "2022-05-01     7\n",
       "2022-06-01     1\n",
       "2022-07-01     7\n",
       "2022-08-01     4\n",
       "2022-09-01    11\n",
       "2022-10-01     4\n",
       "2022-11-01     9\n",
       "2022-12-01     9\n",
       "dtype: int64"
      ]
     },
     "execution_count": 148,
     "metadata": {},
     "output_type": "execute_result"
    }
   ],
   "source": [
    "# Solución\n",
    "fechas = pd.Series(np.random.randint(1,12,size=12), index = [pd.date_range(start=\"01-01-2022\", periods=12, freq='MS')])\n",
    "fechas"
   ]
  },
  {
   "cell_type": "markdown",
   "id": "demonstrated-conditioning",
   "metadata": {},
   "source": [
    "### Obtén la lista de las posiciones de los elementos de `ser2` dentro de la serie `ser1`."
   ]
  },
  {
   "cell_type": "code",
   "execution_count": 62,
   "id": "facial-theme",
   "metadata": {},
   "outputs": [],
   "source": [
    "ser1 = pd.Series([10, 9, 6, 5, 3, 1, 9, 8, 13])\n",
    "ser2 = pd.Series([1, 3, 10, 13])\n",
    "\n",
    "# Ejemplo de salida en este caso: [5, 4, 0, 8]"
   ]
  },
  {
   "cell_type": "markdown",
   "id": "a2776470",
   "metadata": {},
   "source": [
    "Pista: puedes usar `np.where` con una serie de Pandas, pero ten en cuenta que lo que devuelve puede ser de un tipo algo diferente de lo que nos gustaría:"
   ]
  },
  {
   "cell_type": "code",
   "execution_count": 63,
   "id": "da2ce678",
   "metadata": {},
   "outputs": [
    {
     "data": {
      "text/plain": [
       "(array([1, 6]),)"
      ]
     },
     "execution_count": 63,
     "metadata": {},
     "output_type": "execute_result"
    }
   ],
   "source": [
    "# Obtener los índices elementos de la serie que sean igual a 9\n",
    "np.where(ser1 == 9)"
   ]
  },
  {
   "cell_type": "markdown",
   "id": "b8c599bd",
   "metadata": {},
   "source": [
    "Como ves, `np.where` devuelve una tupla con un array de índices coincidentes."
   ]
  },
  {
   "cell_type": "code",
   "execution_count": 64,
   "id": "thick-miller",
   "metadata": {},
   "outputs": [
    {
     "data": {
      "text/plain": [
       "[5, 4, 0, 8]"
      ]
     },
     "execution_count": 64,
     "metadata": {},
     "output_type": "execute_result"
    }
   ],
   "source": [
    "# Solución\n",
    "lista = []\n",
    "for elemento in ser2:\n",
    "    lista.extend(np.where(ser1 == elemento)[0])\n",
    "lista"
   ]
  },
  {
   "cell_type": "markdown",
   "id": "elementary-assistant",
   "metadata": {},
   "source": [
    "### Dadas las siguientes dos series que representan frutas y peso comprado de cada una de ellas, obtén el peso medio comprado de cada tipo de fruta.\n",
    "\n",
    "Pista: puedes usar `.groupby` con una serie de Pandas."
   ]
  },
  {
   "cell_type": "code",
   "execution_count": 65,
   "id": "baking-guatemala",
   "metadata": {},
   "outputs": [
    {
     "name": "stdout",
     "output_type": "stream",
     "text": [
      "[1.0, 2.0, 3.0, 4.0, 5.0, 6.0, 7.0, 8.0, 9.0, 10.0]\n",
      "['manzana', 'banana', 'manzana', 'banana', 'banana', 'zanahoria', 'manzana', 'zanahoria', 'manzana', 'manzana']\n"
     ]
    }
   ],
   "source": [
    "np.random.seed(0)\n",
    "frutas = pd.Series(np.random.choice(['manzana', 'banana', 'zanahoria'], 10))\n",
    "pesos = pd.Series(np.linspace(1, 10, 10))\n",
    "print(pesos.tolist())\n",
    "print(frutas.tolist())\n",
    "\n",
    "# Ejemplo de salida:\n",
    "# banana       3.666667\n",
    "# manzana      6.000000\n",
    "# zanahoria    7.000000"
   ]
  },
  {
   "cell_type": "code",
   "execution_count": 72,
   "id": "charitable-pixel",
   "metadata": {},
   "outputs": [
    {
     "data": {
      "text/plain": [
       "banana       3.666667\n",
       "manzana      6.000000\n",
       "zanahoria    7.000000\n",
       "dtype: float64"
      ]
     },
     "execution_count": 72,
     "metadata": {},
     "output_type": "execute_result"
    }
   ],
   "source": [
    "# Solución\n",
    "pesos.groupby(frutas).mean()"
   ]
  },
  {
   "cell_type": "markdown",
   "id": "bibliographic-think",
   "metadata": {},
   "source": [
    "## DataFrames"
   ]
  },
  {
   "cell_type": "markdown",
   "id": "equivalent-functionality",
   "metadata": {},
   "source": [
    "### A partir de las series que se indican, crea un DataFrame que las tenga como columnas, dándole un nombre a cada una de ellas."
   ]
  },
  {
   "cell_type": "code",
   "execution_count": 3,
   "id": "under-yield",
   "metadata": {},
   "outputs": [],
   "source": [
    "ser1 = pd.Series(list('abcedfghijklmnopqrstuvwxyz'))\n",
    "ser2 = pd.Series(np.arange(26))"
   ]
  },
  {
   "cell_type": "code",
   "execution_count": 4,
   "id": "retired-century",
   "metadata": {},
   "outputs": [
    {
     "data": {
      "text/html": [
       "<div>\n",
       "<style scoped>\n",
       "    .dataframe tbody tr th:only-of-type {\n",
       "        vertical-align: middle;\n",
       "    }\n",
       "\n",
       "    .dataframe tbody tr th {\n",
       "        vertical-align: top;\n",
       "    }\n",
       "\n",
       "    .dataframe thead th {\n",
       "        text-align: right;\n",
       "    }\n",
       "</style>\n",
       "<table border=\"1\" class=\"dataframe\">\n",
       "  <thead>\n",
       "    <tr style=\"text-align: right;\">\n",
       "      <th></th>\n",
       "      <th>letra</th>\n",
       "      <th>posición</th>\n",
       "    </tr>\n",
       "  </thead>\n",
       "  <tbody>\n",
       "    <tr>\n",
       "      <th>0</th>\n",
       "      <td>a</td>\n",
       "      <td>0</td>\n",
       "    </tr>\n",
       "    <tr>\n",
       "      <th>1</th>\n",
       "      <td>b</td>\n",
       "      <td>1</td>\n",
       "    </tr>\n",
       "    <tr>\n",
       "      <th>2</th>\n",
       "      <td>c</td>\n",
       "      <td>2</td>\n",
       "    </tr>\n",
       "    <tr>\n",
       "      <th>3</th>\n",
       "      <td>e</td>\n",
       "      <td>3</td>\n",
       "    </tr>\n",
       "    <tr>\n",
       "      <th>4</th>\n",
       "      <td>d</td>\n",
       "      <td>4</td>\n",
       "    </tr>\n",
       "    <tr>\n",
       "      <th>5</th>\n",
       "      <td>f</td>\n",
       "      <td>5</td>\n",
       "    </tr>\n",
       "    <tr>\n",
       "      <th>6</th>\n",
       "      <td>g</td>\n",
       "      <td>6</td>\n",
       "    </tr>\n",
       "    <tr>\n",
       "      <th>7</th>\n",
       "      <td>h</td>\n",
       "      <td>7</td>\n",
       "    </tr>\n",
       "    <tr>\n",
       "      <th>8</th>\n",
       "      <td>i</td>\n",
       "      <td>8</td>\n",
       "    </tr>\n",
       "    <tr>\n",
       "      <th>9</th>\n",
       "      <td>j</td>\n",
       "      <td>9</td>\n",
       "    </tr>\n",
       "    <tr>\n",
       "      <th>10</th>\n",
       "      <td>k</td>\n",
       "      <td>10</td>\n",
       "    </tr>\n",
       "    <tr>\n",
       "      <th>11</th>\n",
       "      <td>l</td>\n",
       "      <td>11</td>\n",
       "    </tr>\n",
       "    <tr>\n",
       "      <th>12</th>\n",
       "      <td>m</td>\n",
       "      <td>12</td>\n",
       "    </tr>\n",
       "    <tr>\n",
       "      <th>13</th>\n",
       "      <td>n</td>\n",
       "      <td>13</td>\n",
       "    </tr>\n",
       "    <tr>\n",
       "      <th>14</th>\n",
       "      <td>o</td>\n",
       "      <td>14</td>\n",
       "    </tr>\n",
       "    <tr>\n",
       "      <th>15</th>\n",
       "      <td>p</td>\n",
       "      <td>15</td>\n",
       "    </tr>\n",
       "    <tr>\n",
       "      <th>16</th>\n",
       "      <td>q</td>\n",
       "      <td>16</td>\n",
       "    </tr>\n",
       "    <tr>\n",
       "      <th>17</th>\n",
       "      <td>r</td>\n",
       "      <td>17</td>\n",
       "    </tr>\n",
       "    <tr>\n",
       "      <th>18</th>\n",
       "      <td>s</td>\n",
       "      <td>18</td>\n",
       "    </tr>\n",
       "    <tr>\n",
       "      <th>19</th>\n",
       "      <td>t</td>\n",
       "      <td>19</td>\n",
       "    </tr>\n",
       "    <tr>\n",
       "      <th>20</th>\n",
       "      <td>u</td>\n",
       "      <td>20</td>\n",
       "    </tr>\n",
       "    <tr>\n",
       "      <th>21</th>\n",
       "      <td>v</td>\n",
       "      <td>21</td>\n",
       "    </tr>\n",
       "    <tr>\n",
       "      <th>22</th>\n",
       "      <td>w</td>\n",
       "      <td>22</td>\n",
       "    </tr>\n",
       "    <tr>\n",
       "      <th>23</th>\n",
       "      <td>x</td>\n",
       "      <td>23</td>\n",
       "    </tr>\n",
       "    <tr>\n",
       "      <th>24</th>\n",
       "      <td>y</td>\n",
       "      <td>24</td>\n",
       "    </tr>\n",
       "    <tr>\n",
       "      <th>25</th>\n",
       "      <td>z</td>\n",
       "      <td>25</td>\n",
       "    </tr>\n",
       "  </tbody>\n",
       "</table>\n",
       "</div>"
      ],
      "text/plain": [
       "   letra  posición\n",
       "0      a         0\n",
       "1      b         1\n",
       "2      c         2\n",
       "3      e         3\n",
       "4      d         4\n",
       "5      f         5\n",
       "6      g         6\n",
       "7      h         7\n",
       "8      i         8\n",
       "9      j         9\n",
       "10     k        10\n",
       "11     l        11\n",
       "12     m        12\n",
       "13     n        13\n",
       "14     o        14\n",
       "15     p        15\n",
       "16     q        16\n",
       "17     r        17\n",
       "18     s        18\n",
       "19     t        19\n",
       "20     u        20\n",
       "21     v        21\n",
       "22     w        22\n",
       "23     x        23\n",
       "24     y        24\n",
       "25     z        25"
      ]
     },
     "execution_count": 4,
     "metadata": {},
     "output_type": "execute_result"
    }
   ],
   "source": [
    "# Solución\n",
    "tabla = pd.DataFrame({\"letra\":ser1, \"posición\":ser2})\n",
    "tabla"
   ]
  },
  {
   "cell_type": "markdown",
   "id": "willing-mistress",
   "metadata": {},
   "source": [
    "### Crea un DataFrame a partir del fichero `planets.csv` y seleccionando solamente las columnas `method` y `distance`.\n",
    "\n",
    "Pista: Cuando leemos un dataset de un fichero, por ejemplo, en formato `.csv`, podemos seleccionar las columnas que queremos pasándole un argumento llamado `usecols` con la lista de los nombres de las columnas entre comillas."
   ]
  },
  {
   "cell_type": "code",
   "execution_count": 8,
   "id": "brutal-elder",
   "metadata": {},
   "outputs": [
    {
     "data": {
      "text/html": [
       "<div>\n",
       "<style scoped>\n",
       "    .dataframe tbody tr th:only-of-type {\n",
       "        vertical-align: middle;\n",
       "    }\n",
       "\n",
       "    .dataframe tbody tr th {\n",
       "        vertical-align: top;\n",
       "    }\n",
       "\n",
       "    .dataframe thead th {\n",
       "        text-align: right;\n",
       "    }\n",
       "</style>\n",
       "<table border=\"1\" class=\"dataframe\">\n",
       "  <thead>\n",
       "    <tr style=\"text-align: right;\">\n",
       "      <th></th>\n",
       "      <th>method</th>\n",
       "      <th>distance</th>\n",
       "    </tr>\n",
       "  </thead>\n",
       "  <tbody>\n",
       "    <tr>\n",
       "      <th>0</th>\n",
       "      <td>Radial Velocity</td>\n",
       "      <td>77.40</td>\n",
       "    </tr>\n",
       "    <tr>\n",
       "      <th>1</th>\n",
       "      <td>Radial Velocity</td>\n",
       "      <td>56.95</td>\n",
       "    </tr>\n",
       "    <tr>\n",
       "      <th>2</th>\n",
       "      <td>Radial Velocity</td>\n",
       "      <td>19.84</td>\n",
       "    </tr>\n",
       "    <tr>\n",
       "      <th>3</th>\n",
       "      <td>Radial Velocity</td>\n",
       "      <td>110.62</td>\n",
       "    </tr>\n",
       "    <tr>\n",
       "      <th>4</th>\n",
       "      <td>Radial Velocity</td>\n",
       "      <td>119.47</td>\n",
       "    </tr>\n",
       "    <tr>\n",
       "      <th>...</th>\n",
       "      <td>...</td>\n",
       "      <td>...</td>\n",
       "    </tr>\n",
       "    <tr>\n",
       "      <th>1030</th>\n",
       "      <td>Transit</td>\n",
       "      <td>172.00</td>\n",
       "    </tr>\n",
       "    <tr>\n",
       "      <th>1031</th>\n",
       "      <td>Transit</td>\n",
       "      <td>148.00</td>\n",
       "    </tr>\n",
       "    <tr>\n",
       "      <th>1032</th>\n",
       "      <td>Transit</td>\n",
       "      <td>174.00</td>\n",
       "    </tr>\n",
       "    <tr>\n",
       "      <th>1033</th>\n",
       "      <td>Transit</td>\n",
       "      <td>293.00</td>\n",
       "    </tr>\n",
       "    <tr>\n",
       "      <th>1034</th>\n",
       "      <td>Transit</td>\n",
       "      <td>260.00</td>\n",
       "    </tr>\n",
       "  </tbody>\n",
       "</table>\n",
       "<p>1035 rows × 2 columns</p>\n",
       "</div>"
      ],
      "text/plain": [
       "               method  distance\n",
       "0     Radial Velocity     77.40\n",
       "1     Radial Velocity     56.95\n",
       "2     Radial Velocity     19.84\n",
       "3     Radial Velocity    110.62\n",
       "4     Radial Velocity    119.47\n",
       "...               ...       ...\n",
       "1030          Transit    172.00\n",
       "1031          Transit    148.00\n",
       "1032          Transit    174.00\n",
       "1033          Transit    293.00\n",
       "1034          Transit    260.00\n",
       "\n",
       "[1035 rows x 2 columns]"
      ]
     },
     "execution_count": 8,
     "metadata": {},
     "output_type": "execute_result"
    }
   ],
   "source": [
    "# Solución\n",
    "planetas = pd.read_csv(\"planets.csv\", usecols=[\"method\", \"distance\"])\n",
    "planetas"
   ]
  },
  {
   "cell_type": "markdown",
   "id": "78af0ec4",
   "metadata": {},
   "source": [
    "¿Cuántos elementos tiene el dataset?"
   ]
  },
  {
   "cell_type": "code",
   "execution_count": 9,
   "id": "59bccea5",
   "metadata": {},
   "outputs": [
    {
     "data": {
      "text/plain": [
       "1035"
      ]
     },
     "execution_count": 9,
     "metadata": {},
     "output_type": "execute_result"
    }
   ],
   "source": [
    "# Solución\n",
    "len(planetas)"
   ]
  },
  {
   "cell_type": "markdown",
   "id": "electrical-thickness",
   "metadata": {},
   "source": [
    "### Extrae una de cada 10 filas del dataset anterior empezando por la fila 0."
   ]
  },
  {
   "cell_type": "code",
   "execution_count": 10,
   "id": "impressive-plain",
   "metadata": {},
   "outputs": [
    {
     "data": {
      "text/html": [
       "<div>\n",
       "<style scoped>\n",
       "    .dataframe tbody tr th:only-of-type {\n",
       "        vertical-align: middle;\n",
       "    }\n",
       "\n",
       "    .dataframe tbody tr th {\n",
       "        vertical-align: top;\n",
       "    }\n",
       "\n",
       "    .dataframe thead th {\n",
       "        text-align: right;\n",
       "    }\n",
       "</style>\n",
       "<table border=\"1\" class=\"dataframe\">\n",
       "  <thead>\n",
       "    <tr style=\"text-align: right;\">\n",
       "      <th></th>\n",
       "      <th>method</th>\n",
       "      <th>distance</th>\n",
       "    </tr>\n",
       "  </thead>\n",
       "  <tbody>\n",
       "    <tr>\n",
       "      <th>0</th>\n",
       "      <td>Radial Velocity</td>\n",
       "      <td>77.40</td>\n",
       "    </tr>\n",
       "    <tr>\n",
       "      <th>10</th>\n",
       "      <td>Radial Velocity</td>\n",
       "      <td>74.79</td>\n",
       "    </tr>\n",
       "    <tr>\n",
       "      <th>20</th>\n",
       "      <td>Radial Velocity</td>\n",
       "      <td>12.53</td>\n",
       "    </tr>\n",
       "    <tr>\n",
       "      <th>30</th>\n",
       "      <td>Imaging</td>\n",
       "      <td>165.00</td>\n",
       "    </tr>\n",
       "    <tr>\n",
       "      <th>40</th>\n",
       "      <td>Eclipse Timing Variations</td>\n",
       "      <td>500.00</td>\n",
       "    </tr>\n",
       "    <tr>\n",
       "      <th>...</th>\n",
       "      <td>...</td>\n",
       "      <td>...</td>\n",
       "    </tr>\n",
       "    <tr>\n",
       "      <th>990</th>\n",
       "      <td>Transit</td>\n",
       "      <td>450.00</td>\n",
       "    </tr>\n",
       "    <tr>\n",
       "      <th>1000</th>\n",
       "      <td>Transit</td>\n",
       "      <td>200.00</td>\n",
       "    </tr>\n",
       "    <tr>\n",
       "      <th>1010</th>\n",
       "      <td>Transit</td>\n",
       "      <td>125.00</td>\n",
       "    </tr>\n",
       "    <tr>\n",
       "      <th>1020</th>\n",
       "      <td>Transit</td>\n",
       "      <td>340.00</td>\n",
       "    </tr>\n",
       "    <tr>\n",
       "      <th>1030</th>\n",
       "      <td>Transit</td>\n",
       "      <td>172.00</td>\n",
       "    </tr>\n",
       "  </tbody>\n",
       "</table>\n",
       "<p>104 rows × 2 columns</p>\n",
       "</div>"
      ],
      "text/plain": [
       "                         method  distance\n",
       "0               Radial Velocity     77.40\n",
       "10              Radial Velocity     74.79\n",
       "20              Radial Velocity     12.53\n",
       "30                      Imaging    165.00\n",
       "40    Eclipse Timing Variations    500.00\n",
       "...                         ...       ...\n",
       "990                     Transit    450.00\n",
       "1000                    Transit    200.00\n",
       "1010                    Transit    125.00\n",
       "1020                    Transit    340.00\n",
       "1030                    Transit    172.00\n",
       "\n",
       "[104 rows x 2 columns]"
      ]
     },
     "execution_count": 10,
     "metadata": {},
     "output_type": "execute_result"
    }
   ],
   "source": [
    "# Solución\n",
    "planetas[::10]"
   ]
  },
  {
   "cell_type": "markdown",
   "id": "adverse-surprise",
   "metadata": {},
   "source": [
    "### Dado el dataset de coches `Cars93_miss.csv` accesible en la siguiente URL, encuentra el fabricante, modelo, tipo y precio del coche más caro.\n",
    "\n",
    "Nota: Solamente deberán devolverse esas columnas."
   ]
  },
  {
   "cell_type": "code",
   "execution_count": 11,
   "id": "attractive-priority",
   "metadata": {},
   "outputs": [
    {
     "data": {
      "text/html": [
       "<div>\n",
       "<style scoped>\n",
       "    .dataframe tbody tr th:only-of-type {\n",
       "        vertical-align: middle;\n",
       "    }\n",
       "\n",
       "    .dataframe tbody tr th {\n",
       "        vertical-align: top;\n",
       "    }\n",
       "\n",
       "    .dataframe thead th {\n",
       "        text-align: right;\n",
       "    }\n",
       "</style>\n",
       "<table border=\"1\" class=\"dataframe\">\n",
       "  <thead>\n",
       "    <tr style=\"text-align: right;\">\n",
       "      <th></th>\n",
       "      <th>Manufacturer</th>\n",
       "      <th>Model</th>\n",
       "      <th>Type</th>\n",
       "      <th>Min.Price</th>\n",
       "      <th>Price</th>\n",
       "      <th>Max.Price</th>\n",
       "      <th>MPG.city</th>\n",
       "      <th>MPG.highway</th>\n",
       "      <th>AirBags</th>\n",
       "      <th>DriveTrain</th>\n",
       "      <th>...</th>\n",
       "      <th>Passengers</th>\n",
       "      <th>Length</th>\n",
       "      <th>Wheelbase</th>\n",
       "      <th>Width</th>\n",
       "      <th>Turn.circle</th>\n",
       "      <th>Rear.seat.room</th>\n",
       "      <th>Luggage.room</th>\n",
       "      <th>Weight</th>\n",
       "      <th>Origin</th>\n",
       "      <th>Make</th>\n",
       "    </tr>\n",
       "  </thead>\n",
       "  <tbody>\n",
       "    <tr>\n",
       "      <th>0</th>\n",
       "      <td>Acura</td>\n",
       "      <td>Integra</td>\n",
       "      <td>Small</td>\n",
       "      <td>12.9</td>\n",
       "      <td>15.9</td>\n",
       "      <td>18.8</td>\n",
       "      <td>25.0</td>\n",
       "      <td>31.0</td>\n",
       "      <td>None</td>\n",
       "      <td>Front</td>\n",
       "      <td>...</td>\n",
       "      <td>5.0</td>\n",
       "      <td>177.0</td>\n",
       "      <td>102.0</td>\n",
       "      <td>68.0</td>\n",
       "      <td>37.0</td>\n",
       "      <td>26.5</td>\n",
       "      <td>NaN</td>\n",
       "      <td>2705.0</td>\n",
       "      <td>non-USA</td>\n",
       "      <td>Acura Integra</td>\n",
       "    </tr>\n",
       "    <tr>\n",
       "      <th>1</th>\n",
       "      <td>NaN</td>\n",
       "      <td>Legend</td>\n",
       "      <td>Midsize</td>\n",
       "      <td>29.2</td>\n",
       "      <td>33.9</td>\n",
       "      <td>38.7</td>\n",
       "      <td>18.0</td>\n",
       "      <td>25.0</td>\n",
       "      <td>Driver &amp; Passenger</td>\n",
       "      <td>Front</td>\n",
       "      <td>...</td>\n",
       "      <td>5.0</td>\n",
       "      <td>195.0</td>\n",
       "      <td>115.0</td>\n",
       "      <td>71.0</td>\n",
       "      <td>38.0</td>\n",
       "      <td>30.0</td>\n",
       "      <td>15.0</td>\n",
       "      <td>3560.0</td>\n",
       "      <td>non-USA</td>\n",
       "      <td>Acura Legend</td>\n",
       "    </tr>\n",
       "    <tr>\n",
       "      <th>2</th>\n",
       "      <td>Audi</td>\n",
       "      <td>90</td>\n",
       "      <td>Compact</td>\n",
       "      <td>25.9</td>\n",
       "      <td>29.1</td>\n",
       "      <td>32.3</td>\n",
       "      <td>20.0</td>\n",
       "      <td>26.0</td>\n",
       "      <td>Driver only</td>\n",
       "      <td>Front</td>\n",
       "      <td>...</td>\n",
       "      <td>5.0</td>\n",
       "      <td>180.0</td>\n",
       "      <td>102.0</td>\n",
       "      <td>67.0</td>\n",
       "      <td>37.0</td>\n",
       "      <td>28.0</td>\n",
       "      <td>14.0</td>\n",
       "      <td>3375.0</td>\n",
       "      <td>non-USA</td>\n",
       "      <td>Audi 90</td>\n",
       "    </tr>\n",
       "    <tr>\n",
       "      <th>3</th>\n",
       "      <td>Audi</td>\n",
       "      <td>100</td>\n",
       "      <td>Midsize</td>\n",
       "      <td>NaN</td>\n",
       "      <td>37.7</td>\n",
       "      <td>44.6</td>\n",
       "      <td>19.0</td>\n",
       "      <td>26.0</td>\n",
       "      <td>Driver &amp; Passenger</td>\n",
       "      <td>NaN</td>\n",
       "      <td>...</td>\n",
       "      <td>6.0</td>\n",
       "      <td>193.0</td>\n",
       "      <td>106.0</td>\n",
       "      <td>NaN</td>\n",
       "      <td>37.0</td>\n",
       "      <td>31.0</td>\n",
       "      <td>17.0</td>\n",
       "      <td>3405.0</td>\n",
       "      <td>non-USA</td>\n",
       "      <td>Audi 100</td>\n",
       "    </tr>\n",
       "    <tr>\n",
       "      <th>4</th>\n",
       "      <td>BMW</td>\n",
       "      <td>535i</td>\n",
       "      <td>Midsize</td>\n",
       "      <td>NaN</td>\n",
       "      <td>30.0</td>\n",
       "      <td>NaN</td>\n",
       "      <td>22.0</td>\n",
       "      <td>30.0</td>\n",
       "      <td>NaN</td>\n",
       "      <td>Rear</td>\n",
       "      <td>...</td>\n",
       "      <td>4.0</td>\n",
       "      <td>186.0</td>\n",
       "      <td>109.0</td>\n",
       "      <td>69.0</td>\n",
       "      <td>39.0</td>\n",
       "      <td>27.0</td>\n",
       "      <td>13.0</td>\n",
       "      <td>3640.0</td>\n",
       "      <td>non-USA</td>\n",
       "      <td>BMW 535i</td>\n",
       "    </tr>\n",
       "  </tbody>\n",
       "</table>\n",
       "<p>5 rows × 27 columns</p>\n",
       "</div>"
      ],
      "text/plain": [
       "  Manufacturer    Model     Type  Min.Price  Price  Max.Price  MPG.city  \\\n",
       "0        Acura  Integra    Small       12.9   15.9       18.8      25.0   \n",
       "1          NaN   Legend  Midsize       29.2   33.9       38.7      18.0   \n",
       "2         Audi       90  Compact       25.9   29.1       32.3      20.0   \n",
       "3         Audi      100  Midsize        NaN   37.7       44.6      19.0   \n",
       "4          BMW     535i  Midsize        NaN   30.0        NaN      22.0   \n",
       "\n",
       "   MPG.highway             AirBags DriveTrain  ... Passengers  Length  \\\n",
       "0         31.0                None      Front  ...        5.0   177.0   \n",
       "1         25.0  Driver & Passenger      Front  ...        5.0   195.0   \n",
       "2         26.0         Driver only      Front  ...        5.0   180.0   \n",
       "3         26.0  Driver & Passenger        NaN  ...        6.0   193.0   \n",
       "4         30.0                 NaN       Rear  ...        4.0   186.0   \n",
       "\n",
       "   Wheelbase  Width  Turn.circle Rear.seat.room  Luggage.room  Weight  \\\n",
       "0      102.0   68.0         37.0           26.5           NaN  2705.0   \n",
       "1      115.0   71.0         38.0           30.0          15.0  3560.0   \n",
       "2      102.0   67.0         37.0           28.0          14.0  3375.0   \n",
       "3      106.0    NaN         37.0           31.0          17.0  3405.0   \n",
       "4      109.0   69.0         39.0           27.0          13.0  3640.0   \n",
       "\n",
       "    Origin           Make  \n",
       "0  non-USA  Acura Integra  \n",
       "1  non-USA   Acura Legend  \n",
       "2  non-USA        Audi 90  \n",
       "3  non-USA       Audi 100  \n",
       "4  non-USA       BMW 535i  \n",
       "\n",
       "[5 rows x 27 columns]"
      ]
     },
     "execution_count": 11,
     "metadata": {},
     "output_type": "execute_result"
    }
   ],
   "source": [
    "dfcars = pd.read_csv('https://raw.githubusercontent.com/selva86/datasets/master/Cars93_miss.csv')\n",
    "dfcars.head()"
   ]
  },
  {
   "cell_type": "markdown",
   "id": "ce3212f3",
   "metadata": {},
   "source": [
    "En primer lugar, muestra el precio del coche más caro, para lo cual puedes usar `max`:"
   ]
  },
  {
   "cell_type": "code",
   "execution_count": 29,
   "id": "12d97868",
   "metadata": {},
   "outputs": [
    {
     "data": {
      "text/plain": [
       "61.9"
      ]
     },
     "execution_count": 29,
     "metadata": {},
     "output_type": "execute_result"
    }
   ],
   "source": [
    "# Solución:\n",
    "dfcars[\"Price\"].max()"
   ]
  },
  {
   "cell_type": "markdown",
   "id": "b01132a8",
   "metadata": {},
   "source": [
    "A continuación, genera una serie de valores booleanos con el resultado de la comparación con dicho precio:"
   ]
  },
  {
   "cell_type": "code",
   "execution_count": 27,
   "id": "b7a4713e",
   "metadata": {},
   "outputs": [
    {
     "data": {
      "text/plain": [
       "0     False\n",
       "1     False\n",
       "2     False\n",
       "3     False\n",
       "4     False\n",
       "      ...  \n",
       "88    False\n",
       "89    False\n",
       "90    False\n",
       "91    False\n",
       "92    False\n",
       "Length: 93, dtype: bool"
      ]
     },
     "execution_count": 27,
     "metadata": {},
     "output_type": "execute_result"
    }
   ],
   "source": [
    "# Solución\n",
    "pd.Series([elemento == dfcars[\"Price\"].max() for elemento in dfcars[\"Price\"]])"
   ]
  },
  {
   "cell_type": "markdown",
   "id": "b84c063f",
   "metadata": {},
   "source": [
    "A partir de la expresión anterior, obtén la fila del dataframe que cumple la condición de precio máximo: "
   ]
  },
  {
   "cell_type": "code",
   "execution_count": 31,
   "id": "a879df30",
   "metadata": {},
   "outputs": [
    {
     "data": {
      "text/html": [
       "<div>\n",
       "<style scoped>\n",
       "    .dataframe tbody tr th:only-of-type {\n",
       "        vertical-align: middle;\n",
       "    }\n",
       "\n",
       "    .dataframe tbody tr th {\n",
       "        vertical-align: top;\n",
       "    }\n",
       "\n",
       "    .dataframe thead th {\n",
       "        text-align: right;\n",
       "    }\n",
       "</style>\n",
       "<table border=\"1\" class=\"dataframe\">\n",
       "  <thead>\n",
       "    <tr style=\"text-align: right;\">\n",
       "      <th></th>\n",
       "      <th>Manufacturer</th>\n",
       "      <th>Model</th>\n",
       "      <th>Type</th>\n",
       "      <th>Min.Price</th>\n",
       "      <th>Price</th>\n",
       "      <th>Max.Price</th>\n",
       "      <th>MPG.city</th>\n",
       "      <th>MPG.highway</th>\n",
       "      <th>AirBags</th>\n",
       "      <th>DriveTrain</th>\n",
       "      <th>...</th>\n",
       "      <th>Passengers</th>\n",
       "      <th>Length</th>\n",
       "      <th>Wheelbase</th>\n",
       "      <th>Width</th>\n",
       "      <th>Turn.circle</th>\n",
       "      <th>Rear.seat.room</th>\n",
       "      <th>Luggage.room</th>\n",
       "      <th>Weight</th>\n",
       "      <th>Origin</th>\n",
       "      <th>Make</th>\n",
       "    </tr>\n",
       "  </thead>\n",
       "  <tbody>\n",
       "    <tr>\n",
       "      <th>58</th>\n",
       "      <td>Mercedes-Benz</td>\n",
       "      <td>300E</td>\n",
       "      <td>Midsize</td>\n",
       "      <td>43.8</td>\n",
       "      <td>61.9</td>\n",
       "      <td>80.0</td>\n",
       "      <td>19.0</td>\n",
       "      <td>25.0</td>\n",
       "      <td>Driver &amp; Passenger</td>\n",
       "      <td>Rear</td>\n",
       "      <td>...</td>\n",
       "      <td>5.0</td>\n",
       "      <td>NaN</td>\n",
       "      <td>110.0</td>\n",
       "      <td>69.0</td>\n",
       "      <td>37.0</td>\n",
       "      <td>NaN</td>\n",
       "      <td>15.0</td>\n",
       "      <td>3525.0</td>\n",
       "      <td>non-USA</td>\n",
       "      <td>Mercedes-Benz 300E</td>\n",
       "    </tr>\n",
       "  </tbody>\n",
       "</table>\n",
       "<p>1 rows × 27 columns</p>\n",
       "</div>"
      ],
      "text/plain": [
       "     Manufacturer Model     Type  Min.Price  Price  Max.Price  MPG.city  \\\n",
       "58  Mercedes-Benz  300E  Midsize       43.8   61.9       80.0      19.0   \n",
       "\n",
       "    MPG.highway             AirBags DriveTrain  ... Passengers  Length  \\\n",
       "58         25.0  Driver & Passenger       Rear  ...        5.0     NaN   \n",
       "\n",
       "    Wheelbase  Width  Turn.circle Rear.seat.room  Luggage.room  Weight  \\\n",
       "58      110.0   69.0         37.0            NaN          15.0  3525.0   \n",
       "\n",
       "     Origin                Make  \n",
       "58  non-USA  Mercedes-Benz 300E  \n",
       "\n",
       "[1 rows x 27 columns]"
      ]
     },
     "execution_count": 31,
     "metadata": {},
     "output_type": "execute_result"
    }
   ],
   "source": [
    "# Solución\n",
    "dfcars.loc[dfcars[\"Price\"] == dfcars[\"Price\"].max(),:]"
   ]
  },
  {
   "cell_type": "markdown",
   "id": "b62675e5",
   "metadata": {},
   "source": [
    "Por último, selecciona únicamente las columnas del dataframe indicadas (fabricante, modelo, tipo, precio):"
   ]
  },
  {
   "cell_type": "code",
   "execution_count": 30,
   "id": "linear-boundary",
   "metadata": {},
   "outputs": [
    {
     "data": {
      "text/html": [
       "<div>\n",
       "<style scoped>\n",
       "    .dataframe tbody tr th:only-of-type {\n",
       "        vertical-align: middle;\n",
       "    }\n",
       "\n",
       "    .dataframe tbody tr th {\n",
       "        vertical-align: top;\n",
       "    }\n",
       "\n",
       "    .dataframe thead th {\n",
       "        text-align: right;\n",
       "    }\n",
       "</style>\n",
       "<table border=\"1\" class=\"dataframe\">\n",
       "  <thead>\n",
       "    <tr style=\"text-align: right;\">\n",
       "      <th></th>\n",
       "      <th>Type</th>\n",
       "      <th>Model</th>\n",
       "      <th>Price</th>\n",
       "      <th>Manufacturer</th>\n",
       "    </tr>\n",
       "  </thead>\n",
       "  <tbody>\n",
       "    <tr>\n",
       "      <th>58</th>\n",
       "      <td>Midsize</td>\n",
       "      <td>300E</td>\n",
       "      <td>61.9</td>\n",
       "      <td>Mercedes-Benz</td>\n",
       "    </tr>\n",
       "  </tbody>\n",
       "</table>\n",
       "</div>"
      ],
      "text/plain": [
       "       Type Model  Price   Manufacturer\n",
       "58  Midsize  300E   61.9  Mercedes-Benz"
      ]
     },
     "execution_count": 30,
     "metadata": {},
     "output_type": "execute_result"
    }
   ],
   "source": [
    "# Solución\n",
    "dfcars.loc[dfcars[\"Price\"] == dfcars[\"Price\"].max(),{\"Manufacturer\", \"Model\", \"Type\", \"Price\"}]"
   ]
  },
  {
   "cell_type": "markdown",
   "id": "searching-firewall",
   "metadata": {},
   "source": [
    "### Obtén una expresión que devuelva si el anterior dataset de coches tiene algún valor NaN."
   ]
  },
  {
   "cell_type": "code",
   "execution_count": 34,
   "id": "approximate-ensemble",
   "metadata": {},
   "outputs": [
    {
     "data": {
      "text/plain": [
       "True"
      ]
     },
     "execution_count": 34,
     "metadata": {},
     "output_type": "execute_result"
    }
   ],
   "source": [
    "# Solución\n",
    "len(dfcars) != len(dfcars.dropna())"
   ]
  },
  {
   "cell_type": "markdown",
   "id": "younger-ivory",
   "metadata": {},
   "source": [
    "### Calcula una nueva columna en el dataset de coches que contenga el precio normalizado con respecto a su valor máximo y mínimo.\n",
    "\n",
    "Esta normalización se realiza con la siguiente operación: $(precio - precioMinimo)/(precioMaximo - precioMinimo)$\n",
    "\n",
    "Nota: siguiendo su notación, llama a esta nueva columna `Norm.Price`  "
   ]
  },
  {
   "cell_type": "code",
   "execution_count": 36,
   "id": "boring-married",
   "metadata": {},
   "outputs": [
    {
     "data": {
      "text/html": [
       "<div>\n",
       "<style scoped>\n",
       "    .dataframe tbody tr th:only-of-type {\n",
       "        vertical-align: middle;\n",
       "    }\n",
       "\n",
       "    .dataframe tbody tr th {\n",
       "        vertical-align: top;\n",
       "    }\n",
       "\n",
       "    .dataframe thead th {\n",
       "        text-align: right;\n",
       "    }\n",
       "</style>\n",
       "<table border=\"1\" class=\"dataframe\">\n",
       "  <thead>\n",
       "    <tr style=\"text-align: right;\">\n",
       "      <th></th>\n",
       "      <th>Manufacturer</th>\n",
       "      <th>Model</th>\n",
       "      <th>Type</th>\n",
       "      <th>Min.Price</th>\n",
       "      <th>Price</th>\n",
       "      <th>Max.Price</th>\n",
       "      <th>MPG.city</th>\n",
       "      <th>MPG.highway</th>\n",
       "      <th>AirBags</th>\n",
       "      <th>DriveTrain</th>\n",
       "      <th>...</th>\n",
       "      <th>Length</th>\n",
       "      <th>Wheelbase</th>\n",
       "      <th>Width</th>\n",
       "      <th>Turn.circle</th>\n",
       "      <th>Rear.seat.room</th>\n",
       "      <th>Luggage.room</th>\n",
       "      <th>Weight</th>\n",
       "      <th>Origin</th>\n",
       "      <th>Make</th>\n",
       "      <th>Norm.Price</th>\n",
       "    </tr>\n",
       "  </thead>\n",
       "  <tbody>\n",
       "    <tr>\n",
       "      <th>0</th>\n",
       "      <td>Acura</td>\n",
       "      <td>Integra</td>\n",
       "      <td>Small</td>\n",
       "      <td>12.9</td>\n",
       "      <td>15.9</td>\n",
       "      <td>18.8</td>\n",
       "      <td>25.0</td>\n",
       "      <td>31.0</td>\n",
       "      <td>None</td>\n",
       "      <td>Front</td>\n",
       "      <td>...</td>\n",
       "      <td>177.0</td>\n",
       "      <td>102.0</td>\n",
       "      <td>68.0</td>\n",
       "      <td>37.0</td>\n",
       "      <td>26.5</td>\n",
       "      <td>NaN</td>\n",
       "      <td>2705.0</td>\n",
       "      <td>non-USA</td>\n",
       "      <td>Acura Integra</td>\n",
       "      <td>0.508475</td>\n",
       "    </tr>\n",
       "    <tr>\n",
       "      <th>1</th>\n",
       "      <td>NaN</td>\n",
       "      <td>Legend</td>\n",
       "      <td>Midsize</td>\n",
       "      <td>29.2</td>\n",
       "      <td>33.9</td>\n",
       "      <td>38.7</td>\n",
       "      <td>18.0</td>\n",
       "      <td>25.0</td>\n",
       "      <td>Driver &amp; Passenger</td>\n",
       "      <td>Front</td>\n",
       "      <td>...</td>\n",
       "      <td>195.0</td>\n",
       "      <td>115.0</td>\n",
       "      <td>71.0</td>\n",
       "      <td>38.0</td>\n",
       "      <td>30.0</td>\n",
       "      <td>15.0</td>\n",
       "      <td>3560.0</td>\n",
       "      <td>non-USA</td>\n",
       "      <td>Acura Legend</td>\n",
       "      <td>0.494737</td>\n",
       "    </tr>\n",
       "    <tr>\n",
       "      <th>2</th>\n",
       "      <td>Audi</td>\n",
       "      <td>90</td>\n",
       "      <td>Compact</td>\n",
       "      <td>25.9</td>\n",
       "      <td>29.1</td>\n",
       "      <td>32.3</td>\n",
       "      <td>20.0</td>\n",
       "      <td>26.0</td>\n",
       "      <td>Driver only</td>\n",
       "      <td>Front</td>\n",
       "      <td>...</td>\n",
       "      <td>180.0</td>\n",
       "      <td>102.0</td>\n",
       "      <td>67.0</td>\n",
       "      <td>37.0</td>\n",
       "      <td>28.0</td>\n",
       "      <td>14.0</td>\n",
       "      <td>3375.0</td>\n",
       "      <td>non-USA</td>\n",
       "      <td>Audi 90</td>\n",
       "      <td>0.500000</td>\n",
       "    </tr>\n",
       "    <tr>\n",
       "      <th>3</th>\n",
       "      <td>Audi</td>\n",
       "      <td>100</td>\n",
       "      <td>Midsize</td>\n",
       "      <td>NaN</td>\n",
       "      <td>37.7</td>\n",
       "      <td>44.6</td>\n",
       "      <td>19.0</td>\n",
       "      <td>26.0</td>\n",
       "      <td>Driver &amp; Passenger</td>\n",
       "      <td>NaN</td>\n",
       "      <td>...</td>\n",
       "      <td>193.0</td>\n",
       "      <td>106.0</td>\n",
       "      <td>NaN</td>\n",
       "      <td>37.0</td>\n",
       "      <td>31.0</td>\n",
       "      <td>17.0</td>\n",
       "      <td>3405.0</td>\n",
       "      <td>non-USA</td>\n",
       "      <td>Audi 100</td>\n",
       "      <td>NaN</td>\n",
       "    </tr>\n",
       "    <tr>\n",
       "      <th>4</th>\n",
       "      <td>BMW</td>\n",
       "      <td>535i</td>\n",
       "      <td>Midsize</td>\n",
       "      <td>NaN</td>\n",
       "      <td>30.0</td>\n",
       "      <td>NaN</td>\n",
       "      <td>22.0</td>\n",
       "      <td>30.0</td>\n",
       "      <td>NaN</td>\n",
       "      <td>Rear</td>\n",
       "      <td>...</td>\n",
       "      <td>186.0</td>\n",
       "      <td>109.0</td>\n",
       "      <td>69.0</td>\n",
       "      <td>39.0</td>\n",
       "      <td>27.0</td>\n",
       "      <td>13.0</td>\n",
       "      <td>3640.0</td>\n",
       "      <td>non-USA</td>\n",
       "      <td>BMW 535i</td>\n",
       "      <td>NaN</td>\n",
       "    </tr>\n",
       "    <tr>\n",
       "      <th>...</th>\n",
       "      <td>...</td>\n",
       "      <td>...</td>\n",
       "      <td>...</td>\n",
       "      <td>...</td>\n",
       "      <td>...</td>\n",
       "      <td>...</td>\n",
       "      <td>...</td>\n",
       "      <td>...</td>\n",
       "      <td>...</td>\n",
       "      <td>...</td>\n",
       "      <td>...</td>\n",
       "      <td>...</td>\n",
       "      <td>...</td>\n",
       "      <td>...</td>\n",
       "      <td>...</td>\n",
       "      <td>...</td>\n",
       "      <td>...</td>\n",
       "      <td>...</td>\n",
       "      <td>...</td>\n",
       "      <td>...</td>\n",
       "      <td>...</td>\n",
       "    </tr>\n",
       "    <tr>\n",
       "      <th>88</th>\n",
       "      <td>Volkswagen</td>\n",
       "      <td>Eurovan</td>\n",
       "      <td>Van</td>\n",
       "      <td>16.6</td>\n",
       "      <td>19.7</td>\n",
       "      <td>22.7</td>\n",
       "      <td>17.0</td>\n",
       "      <td>21.0</td>\n",
       "      <td>None</td>\n",
       "      <td>Front</td>\n",
       "      <td>...</td>\n",
       "      <td>187.0</td>\n",
       "      <td>115.0</td>\n",
       "      <td>72.0</td>\n",
       "      <td>38.0</td>\n",
       "      <td>34.0</td>\n",
       "      <td>NaN</td>\n",
       "      <td>3960.0</td>\n",
       "      <td>NaN</td>\n",
       "      <td>Volkswagen Eurovan</td>\n",
       "      <td>0.508197</td>\n",
       "    </tr>\n",
       "    <tr>\n",
       "      <th>89</th>\n",
       "      <td>Volkswagen</td>\n",
       "      <td>Passat</td>\n",
       "      <td>Compact</td>\n",
       "      <td>17.6</td>\n",
       "      <td>20.0</td>\n",
       "      <td>22.4</td>\n",
       "      <td>21.0</td>\n",
       "      <td>30.0</td>\n",
       "      <td>None</td>\n",
       "      <td>Front</td>\n",
       "      <td>...</td>\n",
       "      <td>180.0</td>\n",
       "      <td>103.0</td>\n",
       "      <td>67.0</td>\n",
       "      <td>35.0</td>\n",
       "      <td>31.5</td>\n",
       "      <td>14.0</td>\n",
       "      <td>2985.0</td>\n",
       "      <td>non-USA</td>\n",
       "      <td>Volkswagen Passat</td>\n",
       "      <td>0.500000</td>\n",
       "    </tr>\n",
       "    <tr>\n",
       "      <th>90</th>\n",
       "      <td>Volkswagen</td>\n",
       "      <td>Corrado</td>\n",
       "      <td>Sporty</td>\n",
       "      <td>22.9</td>\n",
       "      <td>23.3</td>\n",
       "      <td>23.7</td>\n",
       "      <td>18.0</td>\n",
       "      <td>25.0</td>\n",
       "      <td>None</td>\n",
       "      <td>Front</td>\n",
       "      <td>...</td>\n",
       "      <td>159.0</td>\n",
       "      <td>97.0</td>\n",
       "      <td>66.0</td>\n",
       "      <td>36.0</td>\n",
       "      <td>26.0</td>\n",
       "      <td>15.0</td>\n",
       "      <td>2810.0</td>\n",
       "      <td>non-USA</td>\n",
       "      <td>Volkswagen Corrado</td>\n",
       "      <td>0.500000</td>\n",
       "    </tr>\n",
       "    <tr>\n",
       "      <th>91</th>\n",
       "      <td>Volvo</td>\n",
       "      <td>240</td>\n",
       "      <td>Compact</td>\n",
       "      <td>21.8</td>\n",
       "      <td>22.7</td>\n",
       "      <td>23.5</td>\n",
       "      <td>21.0</td>\n",
       "      <td>28.0</td>\n",
       "      <td>Driver only</td>\n",
       "      <td>Rear</td>\n",
       "      <td>...</td>\n",
       "      <td>190.0</td>\n",
       "      <td>104.0</td>\n",
       "      <td>67.0</td>\n",
       "      <td>37.0</td>\n",
       "      <td>29.5</td>\n",
       "      <td>14.0</td>\n",
       "      <td>2985.0</td>\n",
       "      <td>non-USA</td>\n",
       "      <td>Volvo 240</td>\n",
       "      <td>0.529412</td>\n",
       "    </tr>\n",
       "    <tr>\n",
       "      <th>92</th>\n",
       "      <td>NaN</td>\n",
       "      <td>850</td>\n",
       "      <td>Midsize</td>\n",
       "      <td>24.8</td>\n",
       "      <td>26.7</td>\n",
       "      <td>28.5</td>\n",
       "      <td>20.0</td>\n",
       "      <td>28.0</td>\n",
       "      <td>Driver &amp; Passenger</td>\n",
       "      <td>Front</td>\n",
       "      <td>...</td>\n",
       "      <td>184.0</td>\n",
       "      <td>105.0</td>\n",
       "      <td>69.0</td>\n",
       "      <td>38.0</td>\n",
       "      <td>30.0</td>\n",
       "      <td>15.0</td>\n",
       "      <td>3245.0</td>\n",
       "      <td>non-USA</td>\n",
       "      <td>Volvo 850</td>\n",
       "      <td>0.513514</td>\n",
       "    </tr>\n",
       "  </tbody>\n",
       "</table>\n",
       "<p>93 rows × 28 columns</p>\n",
       "</div>"
      ],
      "text/plain": [
       "   Manufacturer    Model     Type  Min.Price  Price  Max.Price  MPG.city  \\\n",
       "0         Acura  Integra    Small       12.9   15.9       18.8      25.0   \n",
       "1           NaN   Legend  Midsize       29.2   33.9       38.7      18.0   \n",
       "2          Audi       90  Compact       25.9   29.1       32.3      20.0   \n",
       "3          Audi      100  Midsize        NaN   37.7       44.6      19.0   \n",
       "4           BMW     535i  Midsize        NaN   30.0        NaN      22.0   \n",
       "..          ...      ...      ...        ...    ...        ...       ...   \n",
       "88   Volkswagen  Eurovan      Van       16.6   19.7       22.7      17.0   \n",
       "89   Volkswagen   Passat  Compact       17.6   20.0       22.4      21.0   \n",
       "90   Volkswagen  Corrado   Sporty       22.9   23.3       23.7      18.0   \n",
       "91        Volvo      240  Compact       21.8   22.7       23.5      21.0   \n",
       "92          NaN      850  Midsize       24.8   26.7       28.5      20.0   \n",
       "\n",
       "    MPG.highway             AirBags DriveTrain  ... Length  Wheelbase  Width  \\\n",
       "0          31.0                None      Front  ...  177.0      102.0   68.0   \n",
       "1          25.0  Driver & Passenger      Front  ...  195.0      115.0   71.0   \n",
       "2          26.0         Driver only      Front  ...  180.0      102.0   67.0   \n",
       "3          26.0  Driver & Passenger        NaN  ...  193.0      106.0    NaN   \n",
       "4          30.0                 NaN       Rear  ...  186.0      109.0   69.0   \n",
       "..          ...                 ...        ...  ...    ...        ...    ...   \n",
       "88         21.0                None      Front  ...  187.0      115.0   72.0   \n",
       "89         30.0                None      Front  ...  180.0      103.0   67.0   \n",
       "90         25.0                None      Front  ...  159.0       97.0   66.0   \n",
       "91         28.0         Driver only       Rear  ...  190.0      104.0   67.0   \n",
       "92         28.0  Driver & Passenger      Front  ...  184.0      105.0   69.0   \n",
       "\n",
       "    Turn.circle  Rear.seat.room Luggage.room  Weight   Origin  \\\n",
       "0          37.0            26.5          NaN  2705.0  non-USA   \n",
       "1          38.0            30.0         15.0  3560.0  non-USA   \n",
       "2          37.0            28.0         14.0  3375.0  non-USA   \n",
       "3          37.0            31.0         17.0  3405.0  non-USA   \n",
       "4          39.0            27.0         13.0  3640.0  non-USA   \n",
       "..          ...             ...          ...     ...      ...   \n",
       "88         38.0            34.0          NaN  3960.0      NaN   \n",
       "89         35.0            31.5         14.0  2985.0  non-USA   \n",
       "90         36.0            26.0         15.0  2810.0  non-USA   \n",
       "91         37.0            29.5         14.0  2985.0  non-USA   \n",
       "92         38.0            30.0         15.0  3245.0  non-USA   \n",
       "\n",
       "                  Make  Norm.Price  \n",
       "0        Acura Integra    0.508475  \n",
       "1         Acura Legend    0.494737  \n",
       "2              Audi 90    0.500000  \n",
       "3             Audi 100         NaN  \n",
       "4             BMW 535i         NaN  \n",
       "..                 ...         ...  \n",
       "88  Volkswagen Eurovan    0.508197  \n",
       "89   Volkswagen Passat    0.500000  \n",
       "90  Volkswagen Corrado    0.500000  \n",
       "91           Volvo 240    0.529412  \n",
       "92           Volvo 850    0.513514  \n",
       "\n",
       "[93 rows x 28 columns]"
      ]
     },
     "execution_count": 36,
     "metadata": {},
     "output_type": "execute_result"
    }
   ],
   "source": [
    "# Solución\n",
    "dfcars[\"Norm.Price\"] = (dfcars[\"Price\"] - dfcars[\"Min.Price\"])/(dfcars[\"Max.Price\"] - dfcars[\"Min.Price\"])\n",
    "dfcars"
   ]
  },
  {
   "cell_type": "markdown",
   "id": "considerable-mobility",
   "metadata": {},
   "source": [
    "### Encuentra los tres vehículos con mayor precio, ignorando los que no tengan precio asignado (NaN).\n",
    "\n",
    "Pista: Investiga los parámetros del método `.dropna()` para ver si te permite fijarte solamente en un subconjunto de columnas."
   ]
  },
  {
   "cell_type": "code",
   "execution_count": 45,
   "id": "geological-polish",
   "metadata": {},
   "outputs": [
    {
     "data": {
      "text/html": [
       "<div>\n",
       "<style scoped>\n",
       "    .dataframe tbody tr th:only-of-type {\n",
       "        vertical-align: middle;\n",
       "    }\n",
       "\n",
       "    .dataframe tbody tr th {\n",
       "        vertical-align: top;\n",
       "    }\n",
       "\n",
       "    .dataframe thead th {\n",
       "        text-align: right;\n",
       "    }\n",
       "</style>\n",
       "<table border=\"1\" class=\"dataframe\">\n",
       "  <thead>\n",
       "    <tr style=\"text-align: right;\">\n",
       "      <th></th>\n",
       "      <th>Manufacturer</th>\n",
       "      <th>Model</th>\n",
       "      <th>Type</th>\n",
       "      <th>Min.Price</th>\n",
       "      <th>Price</th>\n",
       "      <th>Max.Price</th>\n",
       "      <th>MPG.city</th>\n",
       "      <th>MPG.highway</th>\n",
       "      <th>AirBags</th>\n",
       "      <th>DriveTrain</th>\n",
       "      <th>...</th>\n",
       "      <th>Length</th>\n",
       "      <th>Wheelbase</th>\n",
       "      <th>Width</th>\n",
       "      <th>Turn.circle</th>\n",
       "      <th>Rear.seat.room</th>\n",
       "      <th>Luggage.room</th>\n",
       "      <th>Weight</th>\n",
       "      <th>Origin</th>\n",
       "      <th>Make</th>\n",
       "      <th>Norm.Price</th>\n",
       "    </tr>\n",
       "  </thead>\n",
       "  <tbody>\n",
       "    <tr>\n",
       "      <th>58</th>\n",
       "      <td>Mercedes-Benz</td>\n",
       "      <td>300E</td>\n",
       "      <td>Midsize</td>\n",
       "      <td>43.8</td>\n",
       "      <td>61.9</td>\n",
       "      <td>80.0</td>\n",
       "      <td>19.0</td>\n",
       "      <td>25.0</td>\n",
       "      <td>Driver &amp; Passenger</td>\n",
       "      <td>Rear</td>\n",
       "      <td>...</td>\n",
       "      <td>NaN</td>\n",
       "      <td>110.0</td>\n",
       "      <td>69.0</td>\n",
       "      <td>37.0</td>\n",
       "      <td>NaN</td>\n",
       "      <td>15.0</td>\n",
       "      <td>3525.0</td>\n",
       "      <td>non-USA</td>\n",
       "      <td>Mercedes-Benz 300E</td>\n",
       "      <td>0.5</td>\n",
       "    </tr>\n",
       "    <tr>\n",
       "      <th>47</th>\n",
       "      <td>Infiniti</td>\n",
       "      <td>Q45</td>\n",
       "      <td>Midsize</td>\n",
       "      <td>45.4</td>\n",
       "      <td>47.9</td>\n",
       "      <td>NaN</td>\n",
       "      <td>17.0</td>\n",
       "      <td>22.0</td>\n",
       "      <td>NaN</td>\n",
       "      <td>Rear</td>\n",
       "      <td>...</td>\n",
       "      <td>200.0</td>\n",
       "      <td>113.0</td>\n",
       "      <td>72.0</td>\n",
       "      <td>42.0</td>\n",
       "      <td>29.0</td>\n",
       "      <td>15.0</td>\n",
       "      <td>4000.0</td>\n",
       "      <td>non-USA</td>\n",
       "      <td>Infiniti Q45</td>\n",
       "      <td>NaN</td>\n",
       "    </tr>\n",
       "    <tr>\n",
       "      <th>10</th>\n",
       "      <td>Cadillac</td>\n",
       "      <td>Seville</td>\n",
       "      <td>Midsize</td>\n",
       "      <td>37.5</td>\n",
       "      <td>40.1</td>\n",
       "      <td>42.7</td>\n",
       "      <td>16.0</td>\n",
       "      <td>25.0</td>\n",
       "      <td>Driver &amp; Passenger</td>\n",
       "      <td>Front</td>\n",
       "      <td>...</td>\n",
       "      <td>204.0</td>\n",
       "      <td>111.0</td>\n",
       "      <td>74.0</td>\n",
       "      <td>44.0</td>\n",
       "      <td>31.0</td>\n",
       "      <td>NaN</td>\n",
       "      <td>3935.0</td>\n",
       "      <td>USA</td>\n",
       "      <td>Cadillac Seville</td>\n",
       "      <td>0.5</td>\n",
       "    </tr>\n",
       "  </tbody>\n",
       "</table>\n",
       "<p>3 rows × 28 columns</p>\n",
       "</div>"
      ],
      "text/plain": [
       "     Manufacturer    Model     Type  Min.Price  Price  Max.Price  MPG.city  \\\n",
       "58  Mercedes-Benz     300E  Midsize       43.8   61.9       80.0      19.0   \n",
       "47       Infiniti      Q45  Midsize       45.4   47.9        NaN      17.0   \n",
       "10       Cadillac  Seville  Midsize       37.5   40.1       42.7      16.0   \n",
       "\n",
       "    MPG.highway             AirBags DriveTrain  ... Length  Wheelbase  Width  \\\n",
       "58         25.0  Driver & Passenger       Rear  ...    NaN      110.0   69.0   \n",
       "47         22.0                 NaN       Rear  ...  200.0      113.0   72.0   \n",
       "10         25.0  Driver & Passenger      Front  ...  204.0      111.0   74.0   \n",
       "\n",
       "    Turn.circle  Rear.seat.room Luggage.room  Weight   Origin  \\\n",
       "58         37.0             NaN         15.0  3525.0  non-USA   \n",
       "47         42.0            29.0         15.0  4000.0  non-USA   \n",
       "10         44.0            31.0          NaN  3935.0      USA   \n",
       "\n",
       "                  Make  Norm.Price  \n",
       "58  Mercedes-Benz 300E         0.5  \n",
       "47        Infiniti Q45         NaN  \n",
       "10    Cadillac Seville         0.5  \n",
       "\n",
       "[3 rows x 28 columns]"
      ]
     },
     "execution_count": 45,
     "metadata": {},
     "output_type": "execute_result"
    }
   ],
   "source": [
    "# Solución\n",
    "dfcars.dropna(subset=[\"Price\"]).sort_values(\"Price\", ascending=False).head(3)"
   ]
  },
  {
   "cell_type": "markdown",
   "id": "comfortable-nicaragua",
   "metadata": {},
   "source": [
    "## Agrupaciones"
   ]
  },
  {
   "cell_type": "markdown",
   "id": "original-hebrew",
   "metadata": {},
   "source": [
    "Existe un objeto llamado `Grouper` que nos permite agrupar de múltiples maneras. Por ejemplo, supongamos que tenemos una lista de fechas con unos ingresos y queremos sacar los subtotales por mes, y veamos cómo hacerlo."
   ]
  },
  {
   "cell_type": "markdown",
   "id": "0da272dd",
   "metadata": {},
   "source": [
    "Creamos un dataset con las fechas y los ingresos"
   ]
  },
  {
   "cell_type": "code",
   "execution_count": 46,
   "id": "august-somerset",
   "metadata": {},
   "outputs": [
    {
     "data": {
      "text/html": [
       "<div>\n",
       "<style scoped>\n",
       "    .dataframe tbody tr th:only-of-type {\n",
       "        vertical-align: middle;\n",
       "    }\n",
       "\n",
       "    .dataframe tbody tr th {\n",
       "        vertical-align: top;\n",
       "    }\n",
       "\n",
       "    .dataframe thead th {\n",
       "        text-align: right;\n",
       "    }\n",
       "</style>\n",
       "<table border=\"1\" class=\"dataframe\">\n",
       "  <thead>\n",
       "    <tr style=\"text-align: right;\">\n",
       "      <th></th>\n",
       "      <th>date</th>\n",
       "      <th>Revenue</th>\n",
       "    </tr>\n",
       "  </thead>\n",
       "  <tbody>\n",
       "    <tr>\n",
       "      <th>0</th>\n",
       "      <td>6/2/2017</td>\n",
       "      <td>100</td>\n",
       "    </tr>\n",
       "    <tr>\n",
       "      <th>1</th>\n",
       "      <td>5/23/2017</td>\n",
       "      <td>200</td>\n",
       "    </tr>\n",
       "    <tr>\n",
       "      <th>2</th>\n",
       "      <td>5/20/2017</td>\n",
       "      <td>300</td>\n",
       "    </tr>\n",
       "    <tr>\n",
       "      <th>3</th>\n",
       "      <td>6/22/2017</td>\n",
       "      <td>400</td>\n",
       "    </tr>\n",
       "    <tr>\n",
       "      <th>4</th>\n",
       "      <td>6/21/2017</td>\n",
       "      <td>500</td>\n",
       "    </tr>\n",
       "  </tbody>\n",
       "</table>\n",
       "</div>"
      ],
      "text/plain": [
       "        date  Revenue\n",
       "0   6/2/2017      100\n",
       "1  5/23/2017      200\n",
       "2  5/20/2017      300\n",
       "3  6/22/2017      400\n",
       "4  6/21/2017      500"
      ]
     },
     "execution_count": 46,
     "metadata": {},
     "output_type": "execute_result"
    }
   ],
   "source": [
    "df = pd.DataFrame({'date': ['6/2/2017','5/23/2017','5/20/2017','6/22/2017','6/21/2017'],\n",
    "                   'Revenue':[100,200,300,400,500]})\n",
    "df"
   ]
  },
  {
   "cell_type": "markdown",
   "id": "b84dc998",
   "metadata": {},
   "source": [
    "Convertimos la columna 'date' a tipo fecha"
   ]
  },
  {
   "cell_type": "code",
   "execution_count": 47,
   "id": "homeless-philadelphia",
   "metadata": {},
   "outputs": [
    {
     "data": {
      "text/html": [
       "<div>\n",
       "<style scoped>\n",
       "    .dataframe tbody tr th:only-of-type {\n",
       "        vertical-align: middle;\n",
       "    }\n",
       "\n",
       "    .dataframe tbody tr th {\n",
       "        vertical-align: top;\n",
       "    }\n",
       "\n",
       "    .dataframe thead th {\n",
       "        text-align: right;\n",
       "    }\n",
       "</style>\n",
       "<table border=\"1\" class=\"dataframe\">\n",
       "  <thead>\n",
       "    <tr style=\"text-align: right;\">\n",
       "      <th></th>\n",
       "      <th>date</th>\n",
       "      <th>Revenue</th>\n",
       "    </tr>\n",
       "  </thead>\n",
       "  <tbody>\n",
       "    <tr>\n",
       "      <th>0</th>\n",
       "      <td>2017-06-02</td>\n",
       "      <td>100</td>\n",
       "    </tr>\n",
       "    <tr>\n",
       "      <th>1</th>\n",
       "      <td>2017-05-23</td>\n",
       "      <td>200</td>\n",
       "    </tr>\n",
       "    <tr>\n",
       "      <th>2</th>\n",
       "      <td>2017-05-20</td>\n",
       "      <td>300</td>\n",
       "    </tr>\n",
       "    <tr>\n",
       "      <th>3</th>\n",
       "      <td>2017-06-22</td>\n",
       "      <td>400</td>\n",
       "    </tr>\n",
       "    <tr>\n",
       "      <th>4</th>\n",
       "      <td>2017-06-21</td>\n",
       "      <td>500</td>\n",
       "    </tr>\n",
       "  </tbody>\n",
       "</table>\n",
       "</div>"
      ],
      "text/plain": [
       "        date  Revenue\n",
       "0 2017-06-02      100\n",
       "1 2017-05-23      200\n",
       "2 2017-05-20      300\n",
       "3 2017-06-22      400\n",
       "4 2017-06-21      500"
      ]
     },
     "execution_count": 47,
     "metadata": {},
     "output_type": "execute_result"
    }
   ],
   "source": [
    "df.date = pd.to_datetime(df.date)\n",
    "df"
   ]
  },
  {
   "cell_type": "markdown",
   "id": "898725a9",
   "metadata": {},
   "source": [
    "Generamos una vista agrupada por mes con pd.Grouper indicando la columna y la frecuencia de agrupación"
   ]
  },
  {
   "cell_type": "code",
   "execution_count": 48,
   "id": "hindu-wright",
   "metadata": {},
   "outputs": [
    {
     "data": {
      "text/html": [
       "<div>\n",
       "<style scoped>\n",
       "    .dataframe tbody tr th:only-of-type {\n",
       "        vertical-align: middle;\n",
       "    }\n",
       "\n",
       "    .dataframe tbody tr th {\n",
       "        vertical-align: top;\n",
       "    }\n",
       "\n",
       "    .dataframe thead th {\n",
       "        text-align: right;\n",
       "    }\n",
       "</style>\n",
       "<table border=\"1\" class=\"dataframe\">\n",
       "  <thead>\n",
       "    <tr style=\"text-align: right;\">\n",
       "      <th></th>\n",
       "      <th>Revenue</th>\n",
       "    </tr>\n",
       "    <tr>\n",
       "      <th>date</th>\n",
       "      <th></th>\n",
       "    </tr>\n",
       "  </thead>\n",
       "  <tbody>\n",
       "    <tr>\n",
       "      <th>2017-05-31</th>\n",
       "      <td>500</td>\n",
       "    </tr>\n",
       "    <tr>\n",
       "      <th>2017-06-30</th>\n",
       "      <td>1000</td>\n",
       "    </tr>\n",
       "  </tbody>\n",
       "</table>\n",
       "</div>"
      ],
      "text/plain": [
       "            Revenue\n",
       "date               \n",
       "2017-05-31      500\n",
       "2017-06-30     1000"
      ]
     },
     "execution_count": 48,
     "metadata": {},
     "output_type": "execute_result"
    }
   ],
   "source": [
    "dg = df.groupby(pd.Grouper(key='date', freq='1M')).sum()\n",
    "dg"
   ]
  },
  {
   "cell_type": "markdown",
   "id": "79316410",
   "metadata": {},
   "source": [
    "Si queremos que solamente aparezca el mes, usamos un formateo de cadenas de tiempo con el método `strftime`, \n",
    "donde %B es el nombre del mes"
   ]
  },
  {
   "cell_type": "code",
   "execution_count": 49,
   "id": "careful-jacket",
   "metadata": {},
   "outputs": [
    {
     "data": {
      "text/html": [
       "<div>\n",
       "<style scoped>\n",
       "    .dataframe tbody tr th:only-of-type {\n",
       "        vertical-align: middle;\n",
       "    }\n",
       "\n",
       "    .dataframe tbody tr th {\n",
       "        vertical-align: top;\n",
       "    }\n",
       "\n",
       "    .dataframe thead th {\n",
       "        text-align: right;\n",
       "    }\n",
       "</style>\n",
       "<table border=\"1\" class=\"dataframe\">\n",
       "  <thead>\n",
       "    <tr style=\"text-align: right;\">\n",
       "      <th></th>\n",
       "      <th>Revenue</th>\n",
       "    </tr>\n",
       "    <tr>\n",
       "      <th>date</th>\n",
       "      <th></th>\n",
       "    </tr>\n",
       "  </thead>\n",
       "  <tbody>\n",
       "    <tr>\n",
       "      <th>May</th>\n",
       "      <td>500</td>\n",
       "    </tr>\n",
       "    <tr>\n",
       "      <th>June</th>\n",
       "      <td>1000</td>\n",
       "    </tr>\n",
       "  </tbody>\n",
       "</table>\n",
       "</div>"
      ],
      "text/plain": [
       "      Revenue\n",
       "date         \n",
       "May       500\n",
       "June     1000"
      ]
     },
     "execution_count": 49,
     "metadata": {},
     "output_type": "execute_result"
    }
   ],
   "source": [
    "# https://docs.python.org/3/library/datetime.html#strftime-and-strptime-format-codes\n",
    "dg.index = dg.index.strftime('%B')\n",
    "dg"
   ]
  },
  {
   "cell_type": "markdown",
   "id": "indoor-bunch",
   "metadata": {},
   "source": [
    "### Dado el siguiente dataset, obtén la suma de los ingresos por trimestre. Cada trimestre estará representado por su primer mes (enero, abril, julio, octubre)."
   ]
  },
  {
   "cell_type": "code",
   "execution_count": 50,
   "id": "italic-rebel",
   "metadata": {},
   "outputs": [
    {
     "data": {
      "text/html": [
       "<div>\n",
       "<style scoped>\n",
       "    .dataframe tbody tr th:only-of-type {\n",
       "        vertical-align: middle;\n",
       "    }\n",
       "\n",
       "    .dataframe tbody tr th {\n",
       "        vertical-align: top;\n",
       "    }\n",
       "\n",
       "    .dataframe thead th {\n",
       "        text-align: right;\n",
       "    }\n",
       "</style>\n",
       "<table border=\"1\" class=\"dataframe\">\n",
       "  <thead>\n",
       "    <tr style=\"text-align: right;\">\n",
       "      <th></th>\n",
       "      <th>fecha</th>\n",
       "      <th>ingresos</th>\n",
       "    </tr>\n",
       "  </thead>\n",
       "  <tbody>\n",
       "    <tr>\n",
       "      <th>0</th>\n",
       "      <td>2022-01-01</td>\n",
       "      <td>684</td>\n",
       "    </tr>\n",
       "    <tr>\n",
       "      <th>1</th>\n",
       "      <td>2022-02-01</td>\n",
       "      <td>559</td>\n",
       "    </tr>\n",
       "    <tr>\n",
       "      <th>2</th>\n",
       "      <td>2022-03-01</td>\n",
       "      <td>629</td>\n",
       "    </tr>\n",
       "    <tr>\n",
       "      <th>3</th>\n",
       "      <td>2022-04-01</td>\n",
       "      <td>192</td>\n",
       "    </tr>\n",
       "    <tr>\n",
       "      <th>4</th>\n",
       "      <td>2022-05-01</td>\n",
       "      <td>835</td>\n",
       "    </tr>\n",
       "    <tr>\n",
       "      <th>5</th>\n",
       "      <td>2022-06-01</td>\n",
       "      <td>763</td>\n",
       "    </tr>\n",
       "    <tr>\n",
       "      <th>6</th>\n",
       "      <td>2022-07-01</td>\n",
       "      <td>707</td>\n",
       "    </tr>\n",
       "    <tr>\n",
       "      <th>7</th>\n",
       "      <td>2022-08-01</td>\n",
       "      <td>359</td>\n",
       "    </tr>\n",
       "    <tr>\n",
       "      <th>8</th>\n",
       "      <td>2022-09-01</td>\n",
       "      <td>9</td>\n",
       "    </tr>\n",
       "    <tr>\n",
       "      <th>9</th>\n",
       "      <td>2022-10-01</td>\n",
       "      <td>723</td>\n",
       "    </tr>\n",
       "    <tr>\n",
       "      <th>10</th>\n",
       "      <td>2022-11-01</td>\n",
       "      <td>277</td>\n",
       "    </tr>\n",
       "    <tr>\n",
       "      <th>11</th>\n",
       "      <td>2022-12-01</td>\n",
       "      <td>754</td>\n",
       "    </tr>\n",
       "  </tbody>\n",
       "</table>\n",
       "</div>"
      ],
      "text/plain": [
       "        fecha  ingresos\n",
       "0  2022-01-01       684\n",
       "1  2022-02-01       559\n",
       "2  2022-03-01       629\n",
       "3  2022-04-01       192\n",
       "4  2022-05-01       835\n",
       "5  2022-06-01       763\n",
       "6  2022-07-01       707\n",
       "7  2022-08-01       359\n",
       "8  2022-09-01         9\n",
       "9  2022-10-01       723\n",
       "10 2022-11-01       277\n",
       "11 2022-12-01       754"
      ]
     },
     "execution_count": 50,
     "metadata": {},
     "output_type": "execute_result"
    }
   ],
   "source": [
    "# Generamos un rango de fechas de 12 meses a partir de enero\n",
    "\n",
    "# Usamos MS porque si usamos M tomará el último día del mes y el resultado no sería el mismo\n",
    "rng = pd.date_range(pd.Timestamp('2022-01-01'), periods=12, freq='1MS')  # MS = Month Start\n",
    "\n",
    "# Generamos unos ingresos aleatorios\n",
    "np.random.seed(0)\n",
    "data = np.random.randint(1000,size = 12)\n",
    "\n",
    "# Creamos un DataFrame a partir de las dos columnas\n",
    "df = pd.DataFrame({'fecha':rng, 'ingresos':data})\n",
    "df"
   ]
  },
  {
   "cell_type": "code",
   "execution_count": 59,
   "id": "nutritional-cement",
   "metadata": {},
   "outputs": [
    {
     "data": {
      "text/html": [
       "<div>\n",
       "<style scoped>\n",
       "    .dataframe tbody tr th:only-of-type {\n",
       "        vertical-align: middle;\n",
       "    }\n",
       "\n",
       "    .dataframe tbody tr th {\n",
       "        vertical-align: top;\n",
       "    }\n",
       "\n",
       "    .dataframe thead th {\n",
       "        text-align: right;\n",
       "    }\n",
       "</style>\n",
       "<table border=\"1\" class=\"dataframe\">\n",
       "  <thead>\n",
       "    <tr style=\"text-align: right;\">\n",
       "      <th></th>\n",
       "      <th>ingresos</th>\n",
       "    </tr>\n",
       "    <tr>\n",
       "      <th>fecha</th>\n",
       "      <th></th>\n",
       "    </tr>\n",
       "  </thead>\n",
       "  <tbody>\n",
       "    <tr>\n",
       "      <th>January</th>\n",
       "      <td>1872</td>\n",
       "    </tr>\n",
       "    <tr>\n",
       "      <th>April</th>\n",
       "      <td>1790</td>\n",
       "    </tr>\n",
       "    <tr>\n",
       "      <th>July</th>\n",
       "      <td>1075</td>\n",
       "    </tr>\n",
       "    <tr>\n",
       "      <th>October</th>\n",
       "      <td>1754</td>\n",
       "    </tr>\n",
       "  </tbody>\n",
       "</table>\n",
       "</div>"
      ],
      "text/plain": [
       "         ingresos\n",
       "fecha            \n",
       "January      1872\n",
       "April        1790\n",
       "July         1075\n",
       "October      1754"
      ]
     },
     "execution_count": 59,
     "metadata": {},
     "output_type": "execute_result"
    }
   ],
   "source": [
    "# Solución\n",
    "dg = df.groupby(pd.Grouper(key='fecha', freq='3MS')).sum()\n",
    "dg.index = dg.index.strftime('%B')\n",
    "dg"
   ]
  },
  {
   "cell_type": "code",
   "execution_count": null,
   "id": "05e8cc23",
   "metadata": {},
   "outputs": [],
   "source": []
  }
 ],
 "metadata": {
  "kernelspec": {
   "display_name": "Python 3 (ipykernel)",
   "language": "python",
   "name": "python3"
  },
  "language_info": {
   "codemirror_mode": {
    "name": "ipython",
    "version": 3
   },
   "file_extension": ".py",
   "mimetype": "text/x-python",
   "name": "python",
   "nbconvert_exporter": "python",
   "pygments_lexer": "ipython3",
   "version": "3.8.10"
  },
  "toc": {
   "base_numbering": 1,
   "nav_menu": {},
   "number_sections": true,
   "sideBar": true,
   "skip_h1_title": false,
   "title_cell": "Tabla de contenidos",
   "title_sidebar": "Contents",
   "toc_cell": true,
   "toc_position": {
    "height": "calc(100% - 180px)",
    "left": "10px",
    "top": "150px",
    "width": "310.35px"
   },
   "toc_section_display": true,
   "toc_window_display": true
  }
 },
 "nbformat": 4,
 "nbformat_minor": 5
}
