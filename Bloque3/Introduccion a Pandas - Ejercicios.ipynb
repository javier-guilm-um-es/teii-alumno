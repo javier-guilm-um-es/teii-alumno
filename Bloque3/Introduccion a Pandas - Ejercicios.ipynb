{
 "cells": [
  {
   "cell_type": "markdown",
   "id": "vertical-grenada",
   "metadata": {
    "toc": true
   },
   "source": [
    "<h1>Tabla de contenidos<span class=\"tocSkip\"></span></h1>\n",
    "<div class=\"toc\"><ul class=\"toc-item\"><li><span><a href=\"#Alumno\" data-toc-modified-id=\"Alumno-1\"><span class=\"toc-item-num\">1&nbsp;&nbsp;</span>Alumno</a></span></li><li><span><a href=\"#Ejercicios-de-Pandas\" data-toc-modified-id=\"Ejercicios-de-Pandas-2\"><span class=\"toc-item-num\">2&nbsp;&nbsp;</span>Ejercicios de Pandas</a></span><ul class=\"toc-item\"><li><span><a href=\"#Series\" data-toc-modified-id=\"Series-2.1\"><span class=\"toc-item-num\">2.1&nbsp;&nbsp;</span>Series</a></span><ul class=\"toc-item\"><li><span><a href=\"#Asigna-el-nombre-&quot;alfabeto&quot;-a-la-siguiente-serie-y-comprueba-si-muestra-el-nombre.\" data-toc-modified-id=\"Asigna-el-nombre-&quot;alfabeto&quot;-a-la-siguiente-serie-y-comprueba-si-muestra-el-nombre.-2.1.1\"><span class=\"toc-item-num\">2.1.1&nbsp;&nbsp;</span>Asigna el nombre \"alfabeto\" a la siguiente serie y comprueba si muestra el nombre.</a></span></li><li><span><a href=\"#Escribe-una-expresión-que,-dadas-dos-series,-diga-si-todos-los-elementos-de-la-primera-son-mayores-que-los-correspondientes-de-la-segunda.\" data-toc-modified-id=\"Escribe-una-expresión-que,-dadas-dos-series,-diga-si-todos-los-elementos-de-la-primera-son-mayores-que-los-correspondientes-de-la-segunda.-2.1.2\"><span class=\"toc-item-num\">2.1.2&nbsp;&nbsp;</span>Escribe una expresión que, dadas dos series, diga si todos los elementos de la primera son mayores que los correspondientes de la segunda.</a></span></li><li><span><a href=\"#Escribe-una-expresión-que,-dadas-dos-series,-diga-si-hay-algún-elemento-de-la-primera-menor-o-igual-que-el-correspondiente-de-la-segunda.\" data-toc-modified-id=\"Escribe-una-expresión-que,-dadas-dos-series,-diga-si-hay-algún-elemento-de-la-primera-menor-o-igual-que-el-correspondiente-de-la-segunda.-2.1.3\"><span class=\"toc-item-num\">2.1.3&nbsp;&nbsp;</span>Escribe una expresión que, dadas dos series, diga si hay algún elemento de la primera menor o igual que el correspondiente de la segunda.</a></span></li><li><span><a href=\"#Extrae-todos-los-elementos-de-la-serie-dada-que-se-encuentran-en-las-posiciones-indicadas-por-la-lista.\" data-toc-modified-id=\"Extrae-todos-los-elementos-de-la-serie-dada-que-se-encuentran-en-las-posiciones-indicadas-por-la-lista.-2.1.4\"><span class=\"toc-item-num\">2.1.4&nbsp;&nbsp;</span>Extrae todos los elementos de la serie dada que se encuentran en las posiciones indicadas por la lista.</a></span></li><li><span><a href=\"#Construye-una-serie-que-sea-el-resultado-de-añadirle-a-una-serie-dada-los-elementos-de-otra.\" data-toc-modified-id=\"Construye-una-serie-que-sea-el-resultado-de-añadirle-a-una-serie-dada-los-elementos-de-otra.-2.1.5\"><span class=\"toc-item-num\">2.1.5&nbsp;&nbsp;</span>Construye una serie que sea el resultado de añadirle a una serie dada los elementos de otra.</a></span></li><li><span><a href=\"#Ordena-la-serie-resultante-anterior,-primero-por-el-valor-del-índice-y-después-por-valor-de-la-serie.\" data-toc-modified-id=\"Ordena-la-serie-resultante-anterior,-primero-por-el-valor-del-índice-y-después-por-valor-de-la-serie.-2.1.6\"><span class=\"toc-item-num\">2.1.6&nbsp;&nbsp;</span>Ordena la serie resultante anterior, primero por el valor del índice y después por valor de la serie.</a></span></li><li><span><a href=\"#Dadas-las-dos-series-que-se-muestran,-calcula-la-media-del-error-cuadrático-entre-ambas.\" data-toc-modified-id=\"Dadas-las-dos-series-que-se-muestran,-calcula-la-media-del-error-cuadrático-entre-ambas.-2.1.7\"><span class=\"toc-item-num\">2.1.7&nbsp;&nbsp;</span>Dadas las dos series que se muestran, calcula la media del error cuadrático entre ambas.</a></span></li><li><span><a href=\"#Convierte-la-siguiente-serie-de-fechas-introducidas-como-cadenas-a-una-serie-de-tipo-datetime.\" data-toc-modified-id=\"Convierte-la-siguiente-serie-de-fechas-introducidas-como-cadenas-a-una-serie-de-tipo-datetime.-2.1.8\"><span class=\"toc-item-num\">2.1.8&nbsp;&nbsp;</span>Convierte la siguiente serie de fechas introducidas como cadenas a una serie de tipo <code>datetime</code>.</a></span></li><li><span><a href=\"#Crea-tres-series-a-partir-de-la-serie-anterior-ser,-donde-cada-una-contenga-el-día,-la-siguiente,-el-mes,-y-la-última,-el-año-de-cada-fecha.\" data-toc-modified-id=\"Crea-tres-series-a-partir-de-la-serie-anterior-ser,-donde-cada-una-contenga-el-día,-la-siguiente,-el-mes,-y-la-última,-el-año-de-cada-fecha.-2.1.9\"><span class=\"toc-item-num\">2.1.9&nbsp;&nbsp;</span>Crea tres series a partir de la serie anterior <code>ser</code>, donde cada una contenga el día, la siguiente, el mes, y la última, el año de cada fecha.</a></span></li><li><span><a href=\"#Crea-una-serie-con-valores-aleatorios-pero-cuyo-índice-tenga-12-entradas-del-tipo-datetime-con-el-primer-día-de-cada-mes-del-año-2022.\" data-toc-modified-id=\"Crea-una-serie-con-valores-aleatorios-pero-cuyo-índice-tenga-12-entradas-del-tipo-datetime-con-el-primer-día-de-cada-mes-del-año-2022.-2.1.10\"><span class=\"toc-item-num\">2.1.10&nbsp;&nbsp;</span>Crea una serie con valores aleatorios pero cuyo índice tenga 12 entradas del tipo <code>datetime</code> con el primer día de cada mes del año 2022.</a></span></li><li><span><a href=\"#Obtén-la-lista-de-las-posiciones-de-los-elementos-de-ser2-dentro-de-la-serie-ser1.\" data-toc-modified-id=\"Obtén-la-lista-de-las-posiciones-de-los-elementos-de-ser2-dentro-de-la-serie-ser1.-2.1.11\"><span class=\"toc-item-num\">2.1.11&nbsp;&nbsp;</span>Obtén la lista de las posiciones de los elementos de <code>ser2</code> dentro de la serie <code>ser1</code>.</a></span></li><li><span><a href=\"#Dadas-las-siguientes-dos-series-que-representan-frutas-y-peso-comprado-de-cada-una-de-ellas,-obtén-el-peso-medio-comprado-de-cada-tipo-de-fruta.\" data-toc-modified-id=\"Dadas-las-siguientes-dos-series-que-representan-frutas-y-peso-comprado-de-cada-una-de-ellas,-obtén-el-peso-medio-comprado-de-cada-tipo-de-fruta.-2.1.12\"><span class=\"toc-item-num\">2.1.12&nbsp;&nbsp;</span>Dadas las siguientes dos series que representan frutas y peso comprado de cada una de ellas, obtén el peso medio comprado de cada tipo de fruta.</a></span></li></ul></li><li><span><a href=\"#DataFrames\" data-toc-modified-id=\"DataFrames-2.2\"><span class=\"toc-item-num\">2.2&nbsp;&nbsp;</span>DataFrames</a></span><ul class=\"toc-item\"><li><span><a href=\"#A-partir-de-las-series-que-se-indican,-crea-un-DataFrame-que-las-tenga-como-columnas,-dándole-un-nombre-a-cada-una-de-ellas.\" data-toc-modified-id=\"A-partir-de-las-series-que-se-indican,-crea-un-DataFrame-que-las-tenga-como-columnas,-dándole-un-nombre-a-cada-una-de-ellas.-2.2.1\"><span class=\"toc-item-num\">2.2.1&nbsp;&nbsp;</span>A partir de las series que se indican, crea un DataFrame que las tenga como columnas, dándole un nombre a cada una de ellas.</a></span></li><li><span><a href=\"#Crea-un-DataFrame-a-partir-del-fichero-planets.csv-y-seleccionando-solamente-las-columnas-method-y-distance.\" data-toc-modified-id=\"Crea-un-DataFrame-a-partir-del-fichero-planets.csv-y-seleccionando-solamente-las-columnas-method-y-distance.-2.2.2\"><span class=\"toc-item-num\">2.2.2&nbsp;&nbsp;</span>Crea un DataFrame a partir del fichero <code>planets.csv</code> y seleccionando solamente las columnas <code>method</code> y <code>distance</code>.</a></span></li><li><span><a href=\"#Extrae-una-de-cada-10-filas-del-dataset-anterior-empezando-por-la-fila-0.\" data-toc-modified-id=\"Extrae-una-de-cada-10-filas-del-dataset-anterior-empezando-por-la-fila-0.-2.2.3\"><span class=\"toc-item-num\">2.2.3&nbsp;&nbsp;</span>Extrae una de cada 10 filas del dataset anterior empezando por la fila 0.</a></span></li><li><span><a href=\"#Dado-el-dataset-de-coches-Cars93_miss.csv-accesible-en-la-siguiente-URL,-encuentra-el-fabricante,-modelo,-tipo-y-precio-del-coche-más-caro.\" data-toc-modified-id=\"Dado-el-dataset-de-coches-Cars93_miss.csv-accesible-en-la-siguiente-URL,-encuentra-el-fabricante,-modelo,-tipo-y-precio-del-coche-más-caro.-2.2.4\"><span class=\"toc-item-num\">2.2.4&nbsp;&nbsp;</span>Dado el dataset de coches <code>Cars93_miss.csv</code> accesible en la siguiente URL, encuentra el fabricante, modelo, tipo y precio del coche más caro.</a></span></li><li><span><a href=\"#Obtén-una-expresión-que-devuelva-si-el-anterior-dataset-de-coches-tiene-algún-valor-NaN.\" data-toc-modified-id=\"Obtén-una-expresión-que-devuelva-si-el-anterior-dataset-de-coches-tiene-algún-valor-NaN.-2.2.5\"><span class=\"toc-item-num\">2.2.5&nbsp;&nbsp;</span>Obtén una expresión que devuelva si el anterior dataset de coches tiene algún valor NaN.</a></span></li><li><span><a href=\"#Calcula-una-nueva-columna-en-el-dataset-de-coches-que-contenga-el-precio-normalizado-con-respecto-a-su-valor-máximo-y-mínimo.\" data-toc-modified-id=\"Calcula-una-nueva-columna-en-el-dataset-de-coches-que-contenga-el-precio-normalizado-con-respecto-a-su-valor-máximo-y-mínimo.-2.2.6\"><span class=\"toc-item-num\">2.2.6&nbsp;&nbsp;</span>Calcula una nueva columna en el dataset de coches que contenga el precio normalizado con respecto a su valor máximo y mínimo.</a></span></li><li><span><a href=\"#Encuentra-los-tres-vehículos-con-mayor-precio,-ignorando-los-que-no-tengan-precio-asignado-(NaN).\" data-toc-modified-id=\"Encuentra-los-tres-vehículos-con-mayor-precio,-ignorando-los-que-no-tengan-precio-asignado-(NaN).-2.2.7\"><span class=\"toc-item-num\">2.2.7&nbsp;&nbsp;</span>Encuentra los tres vehículos con mayor precio, ignorando los que no tengan precio asignado (NaN).</a></span></li></ul></li><li><span><a href=\"#Agrupaciones\" data-toc-modified-id=\"Agrupaciones-2.3\"><span class=\"toc-item-num\">2.3&nbsp;&nbsp;</span>Agrupaciones</a></span><ul class=\"toc-item\"><li><span><a href=\"#Dado-el-siguiente-dataset,-obtén-la-suma-de-los-ingresos-por-trimestre.-Cada-trimestre-estará-representado-por-su-primer-mes-(enero,-abril,-julio,-octubre).\" data-toc-modified-id=\"Dado-el-siguiente-dataset,-obtén-la-suma-de-los-ingresos-por-trimestre.-Cada-trimestre-estará-representado-por-su-primer-mes-(enero,-abril,-julio,-octubre).-2.3.1\"><span class=\"toc-item-num\">2.3.1&nbsp;&nbsp;</span>Dado el siguiente dataset, obtén la suma de los ingresos por trimestre. Cada trimestre estará representado por su primer mes (enero, abril, julio, octubre).</a></span></li></ul></li></ul></li></ul></div>"
   ]
  },
  {
   "cell_type": "markdown",
   "id": "39938e2f-7834-4881-8fe0-0091e412f110",
   "metadata": {},
   "source": [
    "# Alumno"
   ]
  },
  {
   "cell_type": "markdown",
   "id": "48332deb-2090-4822-8426-5df5bbaaf0ee",
   "metadata": {},
   "source": [
    "*Sustituye esta frase por tu nombre y apellidos.*"
   ]
  },
  {
   "cell_type": "markdown",
   "id": "herbal-cartoon",
   "metadata": {},
   "source": [
    "# Ejercicios de Pandas\n",
    "Antes de empezar, importemos los módulos que vamos a utilizar."
   ]
  },
  {
   "cell_type": "code",
   "execution_count": null,
   "id": "gross-knitting",
   "metadata": {},
   "outputs": [],
   "source": [
    "import numpy as np\n",
    "import pandas as pd"
   ]
  },
  {
   "cell_type": "markdown",
   "id": "local-sense",
   "metadata": {},
   "source": [
    "## Series"
   ]
  },
  {
   "cell_type": "markdown",
   "id": "sacred-cardiff",
   "metadata": {},
   "source": [
    "### Asigna el nombre \"alfabeto\" a la siguiente serie y comprueba si muestra el nombre.\n",
    "\n",
    "Pista: El atributo `.name` de una serie te permite asignarle un nombre."
   ]
  },
  {
   "cell_type": "code",
   "execution_count": null,
   "id": "foreign-washington",
   "metadata": {},
   "outputs": [],
   "source": [
    "ser = pd.Series(list('abcedfghijklmnopqrstuvwxyz'))\n",
    "ser.head()"
   ]
  },
  {
   "cell_type": "code",
   "execution_count": null,
   "id": "compressed-eight",
   "metadata": {},
   "outputs": [],
   "source": [
    "# Solución\n"
   ]
  },
  {
   "cell_type": "markdown",
   "id": "parliamentary-london",
   "metadata": {},
   "source": [
    "### Escribe una expresión que, dadas dos series, diga si todos los elementos de la primera son mayores que los correspondientes de la segunda."
   ]
  },
  {
   "cell_type": "code",
   "execution_count": null,
   "id": "diagnostic-toner",
   "metadata": {},
   "outputs": [],
   "source": [
    "s1 = pd.Series(np.random.randint(1,10,size=10))\n",
    "s2 = s1+1"
   ]
  },
  {
   "cell_type": "code",
   "execution_count": null,
   "id": "92b7fa21",
   "metadata": {},
   "outputs": [],
   "source": [
    "# Solución\n",
    "\n"
   ]
  },
  {
   "cell_type": "markdown",
   "id": "9cf4f6a1",
   "metadata": {},
   "source": [
    "### Escribe una expresión que, dadas dos series, diga si hay algún elemento de la primera menor o igual que el correspondiente de la segunda. "
   ]
  },
  {
   "cell_type": "code",
   "execution_count": null,
   "id": "65b40b3b",
   "metadata": {},
   "outputs": [],
   "source": [
    "s3 = pd.Series(np.random.randint(1,10,size=10))\n",
    "s4 = pd.Series(np.random.randint(1,10,size=10))"
   ]
  },
  {
   "cell_type": "code",
   "execution_count": null,
   "id": "better-cleaners",
   "metadata": {},
   "outputs": [],
   "source": [
    "# Solución\n",
    "\n"
   ]
  },
  {
   "cell_type": "markdown",
   "id": "public-royal",
   "metadata": {},
   "source": [
    "### Extrae todos los elementos de la serie dada que se encuentran en las posiciones indicadas por la lista."
   ]
  },
  {
   "cell_type": "code",
   "execution_count": null,
   "id": "dedicated-treasurer",
   "metadata": {},
   "outputs": [],
   "source": [
    "ser = pd.Series(list('abcdefghijklmnopqrstuvwxyz'))\n",
    "pos = [0, 4, 8, 14, 20]"
   ]
  },
  {
   "cell_type": "code",
   "execution_count": null,
   "id": "incorporate-telephone",
   "metadata": {},
   "outputs": [],
   "source": [
    "# Solución\n",
    "\n"
   ]
  },
  {
   "cell_type": "markdown",
   "id": "photographic-renaissance",
   "metadata": {},
   "source": [
    "### Construye una serie que sea el resultado de añadirle a una serie dada los elementos de otra.\n",
    "\n",
    "Pista: Usa el método `.append()` aplicado a un objeto Serie."
   ]
  },
  {
   "cell_type": "code",
   "execution_count": null,
   "id": "classical-access",
   "metadata": {},
   "outputs": [],
   "source": [
    "ser1 = pd.Series(range(5))\n",
    "ser2 = pd.Series([0.2, 0.3, 0.4])"
   ]
  },
  {
   "cell_type": "code",
   "execution_count": null,
   "id": "7179722f",
   "metadata": {},
   "outputs": [],
   "source": [
    "# Solución\n",
    "\n"
   ]
  },
  {
   "cell_type": "markdown",
   "id": "ae06a8ab",
   "metadata": {},
   "source": [
    "Prueba a mostrar el resultado y responde a estas preguntas: ¿Qué ha sucedido con el índice? ¿Cuál es el tipo de datos de la serie resultante? ¿Qué sucede si indexamos directamente la serie con el índice `0` por ejemplo?"
   ]
  },
  {
   "cell_type": "code",
   "execution_count": null,
   "id": "warming-document",
   "metadata": {},
   "outputs": [],
   "source": [
    "# Solución y respuesta a las preguntas\n"
   ]
  },
  {
   "cell_type": "markdown",
   "id": "surface-baghdad",
   "metadata": {},
   "source": [
    "### Ordena la serie resultante anterior, primero por el valor del índice y después por valor de la serie.\n",
    "\n",
    "Pista: Usa los métodos `.sort_index()` y `.sort_values()`.\n",
    "\n",
    "Prueba ambos métodos y comprueba el resultado."
   ]
  },
  {
   "cell_type": "code",
   "execution_count": null,
   "id": "governmental-express",
   "metadata": {},
   "outputs": [],
   "source": [
    "# Solución\n",
    "\n"
   ]
  },
  {
   "cell_type": "markdown",
   "id": "introductory-lancaster",
   "metadata": {},
   "source": [
    "### Dadas las dos series que se muestran, calcula la media del error cuadrático entre ambas.\n",
    "\n",
    "La fórmula del error cuadrático entre $x$ e $y$ es $(x - y)^2$."
   ]
  },
  {
   "cell_type": "code",
   "execution_count": null,
   "id": "turned-meaning",
   "metadata": {},
   "outputs": [],
   "source": [
    "np.random.seed(0)\n",
    "x = pd.Series(range(10))\n",
    "y = pd.Series(range(10)) + np.random.random(10)\n",
    "print(x)\n",
    "print(y)"
   ]
  },
  {
   "cell_type": "code",
   "execution_count": null,
   "id": "vanilla-species",
   "metadata": {},
   "outputs": [],
   "source": [
    "# Solución\n",
    "\n"
   ]
  },
  {
   "cell_type": "markdown",
   "id": "wrapped-trail",
   "metadata": {},
   "source": [
    "### Convierte la siguiente serie de fechas introducidas como cadenas a una serie de tipo `datetime`. \n",
    "\n",
    "Pista: `pandas.to_datetime()`."
   ]
  },
  {
   "cell_type": "code",
   "execution_count": null,
   "id": "premium-emperor",
   "metadata": {},
   "outputs": [],
   "source": [
    "ser = pd.Series(['02 Jan 2010T00:00:01',\n",
    "                 '02-02-2011',\n",
    "                 '20120303',\n",
    "                 '2013/04/04',\n",
    "                 '2014-05-05',\n",
    "                 '2015-06-06T12:20'])"
   ]
  },
  {
   "cell_type": "code",
   "execution_count": null,
   "id": "sacred-quick",
   "metadata": {},
   "outputs": [],
   "source": [
    "# Solución\n",
    "\n"
   ]
  },
  {
   "cell_type": "markdown",
   "id": "polar-carpet",
   "metadata": {},
   "source": [
    "### Crea tres series a partir de la serie anterior `ser`, donde cada una contenga el día, la siguiente, el mes, y la última, el año de cada fecha.\n",
    "\n",
    "Pista: Una serie del tipo `datetime` tiene un atributo `.dt` que es un objeto que contiene todo lo necesario. Pulsa el tabulador para que Jupyter te ayude a elegir el método adecuado."
   ]
  },
  {
   "cell_type": "code",
   "execution_count": null,
   "id": "automatic-democrat",
   "metadata": {},
   "outputs": [],
   "source": [
    "# Solución\n",
    "\n"
   ]
  },
  {
   "cell_type": "markdown",
   "id": "intelligent-sponsorship",
   "metadata": {},
   "source": [
    "### Crea una serie con valores aleatorios pero cuyo índice tenga 12 entradas del tipo `datetime` con el primer día de cada mes del año 2022.\n",
    "\n",
    "Los índices deben empezar por el 01-01-2022 y terminar en el 01-12-2022.\n",
    "\n",
    "Pista: Para generar la secuencia de fechas puedes usar la función `pandas.date_range()`."
   ]
  },
  {
   "cell_type": "code",
   "execution_count": null,
   "id": "neural-trauma",
   "metadata": {},
   "outputs": [],
   "source": [
    "# Solución\n",
    "\n"
   ]
  },
  {
   "cell_type": "markdown",
   "id": "demonstrated-conditioning",
   "metadata": {},
   "source": [
    "### Obtén la lista de las posiciones de los elementos de `ser2` dentro de la serie `ser1`."
   ]
  },
  {
   "cell_type": "code",
   "execution_count": null,
   "id": "facial-theme",
   "metadata": {},
   "outputs": [],
   "source": [
    "ser1 = pd.Series([10, 9, 6, 5, 3, 1, 9, 8, 13])\n",
    "ser2 = pd.Series([1, 3, 10, 13])\n",
    "\n",
    "# Ejemplo de salida en este caso: [5, 4, 0, 8]"
   ]
  },
  {
   "cell_type": "markdown",
   "id": "a2776470",
   "metadata": {},
   "source": [
    "Pista: puedes usar `np.where` con una serie de Pandas, pero ten en cuenta que lo que devuelve puede ser de un tipo algo diferente de lo que nos gustaría:"
   ]
  },
  {
   "cell_type": "code",
   "execution_count": null,
   "id": "da2ce678",
   "metadata": {},
   "outputs": [],
   "source": [
    "# Obtener los índices elementos de la serie que sean igual a 9\n",
    "np.where(ser1 == 9)"
   ]
  },
  {
   "cell_type": "markdown",
   "id": "b8c599bd",
   "metadata": {},
   "source": [
    "Como ves, `np.where` devuelve una tupla con un array de índices coincidentes."
   ]
  },
  {
   "cell_type": "code",
   "execution_count": null,
   "id": "thick-miller",
   "metadata": {},
   "outputs": [],
   "source": [
    "# Solución\n",
    "\n"
   ]
  },
  {
   "cell_type": "markdown",
   "id": "elementary-assistant",
   "metadata": {},
   "source": [
    "### Dadas las siguientes dos series que representan frutas y peso comprado de cada una de ellas, obtén el peso medio comprado de cada tipo de fruta.\n",
    "\n",
    "Pista: puedes usar `.groupby` con una serie de Pandas."
   ]
  },
  {
   "cell_type": "code",
   "execution_count": null,
   "id": "baking-guatemala",
   "metadata": {},
   "outputs": [],
   "source": [
    "np.random.seed(0)\n",
    "frutas = pd.Series(np.random.choice(['manzana', 'banana', 'zanahoria'], 10))\n",
    "pesos = pd.Series(np.linspace(1, 10, 10))\n",
    "print(pesos.tolist())\n",
    "print(frutas.tolist())\n",
    "\n",
    "# Ejemplo de salida:\n",
    "# banana       3.666667\n",
    "# manzana      6.000000\n",
    "# zanahoria    7.000000"
   ]
  },
  {
   "cell_type": "code",
   "execution_count": null,
   "id": "charitable-pixel",
   "metadata": {},
   "outputs": [],
   "source": [
    "# Solución\n",
    "\n"
   ]
  },
  {
   "cell_type": "markdown",
   "id": "bibliographic-think",
   "metadata": {},
   "source": [
    "## DataFrames"
   ]
  },
  {
   "cell_type": "markdown",
   "id": "equivalent-functionality",
   "metadata": {},
   "source": [
    "### A partir de las series que se indican, crea un DataFrame que las tenga como columnas, dándole un nombre a cada una de ellas."
   ]
  },
  {
   "cell_type": "code",
   "execution_count": null,
   "id": "under-yield",
   "metadata": {},
   "outputs": [],
   "source": [
    "ser1 = pd.Series(list('abcedfghijklmnopqrstuvwxyz'))\n",
    "ser2 = pd.Series(np.arange(26))"
   ]
  },
  {
   "cell_type": "code",
   "execution_count": null,
   "id": "retired-century",
   "metadata": {},
   "outputs": [],
   "source": [
    "# Solución\n",
    "\n"
   ]
  },
  {
   "cell_type": "markdown",
   "id": "willing-mistress",
   "metadata": {},
   "source": [
    "### Crea un DataFrame a partir del fichero `planets.csv` y seleccionando solamente las columnas `method` y `distance`.\n",
    "\n",
    "Pista: Cuando leemos un dataset de un fichero, por ejemplo, en formato `.csv`, podemos seleccionar las columnas que queremos pasándole un argumento llamado `usecols` con la lista de los nombres de las columnas entre comillas."
   ]
  },
  {
   "cell_type": "code",
   "execution_count": null,
   "id": "brutal-elder",
   "metadata": {},
   "outputs": [],
   "source": [
    "# Solución\n",
    "\n"
   ]
  },
  {
   "cell_type": "markdown",
   "id": "78af0ec4",
   "metadata": {},
   "source": [
    "¿Cuántos elementos tiene el dataset?"
   ]
  },
  {
   "cell_type": "code",
   "execution_count": null,
   "id": "59bccea5",
   "metadata": {},
   "outputs": [],
   "source": [
    "# Solución\n",
    "\n"
   ]
  },
  {
   "cell_type": "markdown",
   "id": "electrical-thickness",
   "metadata": {},
   "source": [
    "### Extrae una de cada 10 filas del dataset anterior empezando por la fila 0."
   ]
  },
  {
   "cell_type": "code",
   "execution_count": null,
   "id": "impressive-plain",
   "metadata": {},
   "outputs": [],
   "source": [
    "# Solución\n",
    "\n"
   ]
  },
  {
   "cell_type": "markdown",
   "id": "adverse-surprise",
   "metadata": {},
   "source": [
    "### Dado el dataset de coches `Cars93_miss.csv` accesible en la siguiente URL, encuentra el fabricante, modelo, tipo y precio del coche más caro.\n",
    "\n",
    "Nota: Solamente deberán devolverse esas columnas."
   ]
  },
  {
   "cell_type": "code",
   "execution_count": null,
   "id": "attractive-priority",
   "metadata": {},
   "outputs": [],
   "source": [
    "dfcars = pd.read_csv('https://raw.githubusercontent.com/selva86/datasets/master/Cars93_miss.csv')\n",
    "dfcars.head()"
   ]
  },
  {
   "cell_type": "markdown",
   "id": "ce3212f3",
   "metadata": {},
   "source": [
    "En primer lugar, muestra el precio del coche más caro, para lo cual puedes usar `max`:"
   ]
  },
  {
   "cell_type": "code",
   "execution_count": null,
   "id": "12d97868",
   "metadata": {},
   "outputs": [],
   "source": [
    "# Solución:\n"
   ]
  },
  {
   "cell_type": "markdown",
   "id": "b01132a8",
   "metadata": {},
   "source": [
    "A continuación, genera una serie de valores booleanos con el resultado de la comparación con dicho precio:"
   ]
  },
  {
   "cell_type": "code",
   "execution_count": null,
   "id": "b7a4713e",
   "metadata": {},
   "outputs": [],
   "source": [
    "# Solución\n"
   ]
  },
  {
   "cell_type": "markdown",
   "id": "b84c063f",
   "metadata": {},
   "source": [
    "A partir de la expresión anterior, obtén la fila del dataframe que cumple la condición de precio máximo: "
   ]
  },
  {
   "cell_type": "code",
   "execution_count": null,
   "id": "a879df30",
   "metadata": {},
   "outputs": [],
   "source": [
    "# Solución\n"
   ]
  },
  {
   "cell_type": "markdown",
   "id": "b62675e5",
   "metadata": {},
   "source": [
    "Por último, selecciona únicamente las columnas del dataframe indicadas (fabricante, modelo, tipo, precio):"
   ]
  },
  {
   "cell_type": "code",
   "execution_count": null,
   "id": "linear-boundary",
   "metadata": {},
   "outputs": [],
   "source": [
    "# Solución\n",
    "\n"
   ]
  },
  {
   "cell_type": "markdown",
   "id": "searching-firewall",
   "metadata": {},
   "source": [
    "### Obtén una expresión que devuelva si el anterior dataset de coches tiene algún valor NaN."
   ]
  },
  {
   "cell_type": "code",
   "execution_count": null,
   "id": "approximate-ensemble",
   "metadata": {},
   "outputs": [],
   "source": [
    "# Solución\n",
    "\n"
   ]
  },
  {
   "cell_type": "markdown",
   "id": "younger-ivory",
   "metadata": {},
   "source": [
    "### Calcula una nueva columna en el dataset de coches que contenga el precio normalizado con respecto a su valor máximo y mínimo.\n",
    "\n",
    "Esta normalización se realiza con la siguiente operación: $(precio - precioMinimo)/(precioMaximo - precioMinimo)$\n",
    "\n",
    "Nota: siguiendo su notación, llama a esta nueva columna `Norm.Price`  "
   ]
  },
  {
   "cell_type": "code",
   "execution_count": null,
   "id": "boring-married",
   "metadata": {},
   "outputs": [],
   "source": [
    "# Solución\n",
    "\n"
   ]
  },
  {
   "cell_type": "markdown",
   "id": "considerable-mobility",
   "metadata": {},
   "source": [
    "### Encuentra los tres vehículos con mayor precio, ignorando los que no tengan precio asignado (NaN).\n",
    "\n",
    "Pista: Investiga los parámetros del método `.dropna()` para ver si te permite fijarte solamente en un subconjunto de columnas."
   ]
  },
  {
   "cell_type": "code",
   "execution_count": null,
   "id": "geological-polish",
   "metadata": {},
   "outputs": [],
   "source": [
    "# Solución\n",
    "\n"
   ]
  },
  {
   "cell_type": "markdown",
   "id": "comfortable-nicaragua",
   "metadata": {},
   "source": [
    "## Agrupaciones"
   ]
  },
  {
   "cell_type": "markdown",
   "id": "original-hebrew",
   "metadata": {},
   "source": [
    "Existe un objeto llamado `Grouper` que nos permite agrupar de múltiples maneras. Por ejemplo, supongamos que tenemos una lista de fechas con unos ingresos y queremos sacar los subtotales por mes, y veamos cómo hacerlo."
   ]
  },
  {
   "cell_type": "markdown",
   "id": "0da272dd",
   "metadata": {},
   "source": [
    "Creamos un dataset con las fechas y los ingresos"
   ]
  },
  {
   "cell_type": "code",
   "execution_count": null,
   "id": "august-somerset",
   "metadata": {},
   "outputs": [],
   "source": [
    "df = pd.DataFrame({'date': ['6/2/2017','5/23/2017','5/20/2017','6/22/2017','6/21/2017'],\n",
    "                   'Revenue':[100,200,300,400,500]})\n",
    "df"
   ]
  },
  {
   "cell_type": "markdown",
   "id": "b84dc998",
   "metadata": {},
   "source": [
    "Convertimos la columna 'date' a tipo fecha"
   ]
  },
  {
   "cell_type": "code",
   "execution_count": null,
   "id": "homeless-philadelphia",
   "metadata": {},
   "outputs": [],
   "source": [
    "df.date = pd.to_datetime(df.date)\n",
    "df"
   ]
  },
  {
   "cell_type": "markdown",
   "id": "898725a9",
   "metadata": {},
   "source": [
    "Generamos una vista agrupada por mes con pd.Grouper indicando la columna y la frecuencia de agrupación"
   ]
  },
  {
   "cell_type": "code",
   "execution_count": null,
   "id": "hindu-wright",
   "metadata": {},
   "outputs": [],
   "source": [
    "dg = df.groupby(pd.Grouper(key='date', freq='1M')).sum()\n",
    "dg"
   ]
  },
  {
   "cell_type": "markdown",
   "id": "79316410",
   "metadata": {},
   "source": [
    "Si queremos que solamente aparezca el mes, usamos un formateo de cadenas de tiempo con el método `strftime`, \n",
    "donde %B es el nombre del mes"
   ]
  },
  {
   "cell_type": "code",
   "execution_count": null,
   "id": "careful-jacket",
   "metadata": {},
   "outputs": [],
   "source": [
    "# https://docs.python.org/3/library/datetime.html#strftime-and-strptime-format-codes\n",
    "dg.index = dg.index.strftime('%B')\n",
    "dg"
   ]
  },
  {
   "cell_type": "markdown",
   "id": "indoor-bunch",
   "metadata": {},
   "source": [
    "### Dado el siguiente dataset, obtén la suma de los ingresos por trimestre. Cada trimestre estará representado por su primer mes (enero, abril, julio, octubre)."
   ]
  },
  {
   "cell_type": "code",
   "execution_count": null,
   "id": "italic-rebel",
   "metadata": {},
   "outputs": [],
   "source": [
    "# Generamos un rango de fechas de 12 meses a partir de enero\n",
    "\n",
    "# Usamos MS porque si usamos M tomará el último día del mes y el resultado no sería el mismo\n",
    "rng = pd.date_range(pd.Timestamp('2022-01-01'), periods=12, freq='1MS')  # MS = Month Start\n",
    "\n",
    "# Generamos unos ingresos aleatorios\n",
    "np.random.seed(0)\n",
    "data = np.random.randint(1000,size = 12)\n",
    "\n",
    "# Creamos un DataFrame a partir de las dos columnas\n",
    "df = pd.DataFrame({'fecha':rng, 'ingresos':data})\n",
    "df"
   ]
  },
  {
   "cell_type": "code",
   "execution_count": null,
   "id": "nutritional-cement",
   "metadata": {},
   "outputs": [],
   "source": [
    "# Solución\n",
    "\n"
   ]
  }
 ],
 "metadata": {
  "kernelspec": {
   "display_name": "Python 3 (ipykernel)",
   "language": "python",
   "name": "python3"
  },
  "language_info": {
   "codemirror_mode": {
    "name": "ipython",
    "version": 3
   },
   "file_extension": ".py",
   "mimetype": "text/x-python",
   "name": "python",
   "nbconvert_exporter": "python",
   "pygments_lexer": "ipython3",
   "version": "3.7.12"
  },
  "toc": {
   "base_numbering": 1,
   "nav_menu": {},
   "number_sections": true,
   "sideBar": true,
   "skip_h1_title": false,
   "title_cell": "Tabla de contenidos",
   "title_sidebar": "Contents",
   "toc_cell": true,
   "toc_position": {
    "height": "calc(100% - 180px)",
    "left": "10px",
    "top": "150px",
    "width": "225.35px"
   },
   "toc_section_display": true,
   "toc_window_display": true
  }
 },
 "nbformat": 4,
 "nbformat_minor": 5
}
