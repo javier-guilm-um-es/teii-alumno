{
 "cells": [
  {
   "cell_type": "markdown",
   "id": "shared-calibration",
   "metadata": {
    "toc": true
   },
   "source": [
    "<h1>Tabla de contenidos<span class=\"tocSkip\"></span></h1>\n",
    "<div class=\"toc\"><ul class=\"toc-item\"><li><span><a href=\"#Alumno\" data-toc-modified-id=\"Alumno-1\"><span class=\"toc-item-num\">1&nbsp;&nbsp;</span>Alumno</a></span></li><li><span><a href=\"#Ejercicios-de-Python-básico\" data-toc-modified-id=\"Ejercicios-de-Python-básico-2\"><span class=\"toc-item-num\">2&nbsp;&nbsp;</span>Ejercicios de Python básico</a></span><ul class=\"toc-item\"><li><span><a href=\"#Listas-y-diccionarios\" data-toc-modified-id=\"Listas-y-diccionarios-2.1\"><span class=\"toc-item-num\">2.1&nbsp;&nbsp;</span>Listas y diccionarios</a></span><ul class=\"toc-item\"><li><span><a href=\"#Dada-una-frase-sin-signos-de-puntuación,-calcula-la-lista-de-las-longitudes-de-las-palabras-que-contiene.\" data-toc-modified-id=\"Dada-una-frase-sin-signos-de-puntuación,-calcula-la-lista-de-las-longitudes-de-las-palabras-que-contiene.-2.1.1\"><span class=\"toc-item-num\">2.1.1&nbsp;&nbsp;</span>Dada una frase sin signos de puntuación, calcula la lista de las longitudes de las palabras que contiene.</a></span></li><li><span><a href=\"#Usando-list-comprehensions,-a-partir-de-una-lista-de-números,-obtén-la-lista-de-los-elementos-que-son-positivos.\" data-toc-modified-id=\"Usando-list-comprehensions,-a-partir-de-una-lista-de-números,-obtén-la-lista-de-los-elementos-que-son-positivos.-2.1.2\"><span class=\"toc-item-num\">2.1.2&nbsp;&nbsp;</span>Usando <em>list comprehensions</em>, a partir de una lista de números, obtén la lista de los elementos que son positivos.</a></span></li><li><span><a href=\"#Dado-el-siguiente-diccionario-con-pares-&quot;nombre&quot;:-peso,-extrae-una-lista-con-los-nombres-de-los-vehículos-que-pesan-menos-de-5000-kilos.\" data-toc-modified-id=\"Dado-el-siguiente-diccionario-con-pares-&quot;nombre&quot;:-peso,-extrae-una-lista-con-los-nombres-de-los-vehículos-que-pesan-menos-de-5000-kilos.-2.1.3\"><span class=\"toc-item-num\">2.1.3&nbsp;&nbsp;</span>Dado el siguiente diccionario con pares <code>\"nombre\": peso</code>, extrae una lista con los nombres de los vehículos que pesan menos de 5000 kilos.</a></span></li><li><span><a href=\"#Crea-una-lista-lst2-con-el-tipo-de-cada-elemento-de-la-lista-lst1.\" data-toc-modified-id=\"Crea-una-lista-lst2-con-el-tipo-de-cada-elemento-de-la-lista-lst1.-2.1.4\"><span class=\"toc-item-num\">2.1.4&nbsp;&nbsp;</span>Crea una lista <code>lst2</code> con el tipo de cada elemento de la lista <code>lst1</code>.</a></span></li><li><span><a href=\"#Usando-la-función-zip(),-crea-un-diccionario-que-forme-sus-pares-&quot;clave&quot;:-valor-a-partir-de-las-listas-lst1-y-lst2.\" data-toc-modified-id=\"Usando-la-función-zip(),-crea-un-diccionario-que-forme-sus-pares-&quot;clave&quot;:-valor-a-partir-de-las-listas-lst1-y-lst2.-2.1.5\"><span class=\"toc-item-num\">2.1.5&nbsp;&nbsp;</span>Usando la función <code>zip()</code>, crea un diccionario que forme sus pares <code>\"clave\": valor</code> a partir de las listas <code>lst1</code> y <code>lst2</code>.</a></span></li><li><span><a href=\"#Crea-una-lista-ordenada-de-tuplas-(&quot;nombre&quot;,-edad)-a-partir-de-las-listas-nombres-y-edades.\" data-toc-modified-id=\"Crea-una-lista-ordenada-de-tuplas-(&quot;nombre&quot;,-edad)-a-partir-de-las-listas-nombres-y-edades.-2.1.6\"><span class=\"toc-item-num\">2.1.6&nbsp;&nbsp;</span>Crea una lista ordenada de tuplas <code>(\"nombre\", edad)</code> a partir de las listas <code>nombres</code> y <code>edades</code>.</a></span></li><li><span><a href=\"#Crea-un-diccionario-que-asocie-cada-letra-del-rango-a-z-con-su-correspondiente-orden.\" data-toc-modified-id=\"Crea-un-diccionario-que-asocie-cada-letra-del-rango-a-z-con-su-correspondiente-orden.-2.1.7\"><span class=\"toc-item-num\">2.1.7&nbsp;&nbsp;</span>Crea un diccionario que asocie cada letra del rango a-z con su correspondiente orden.</a></span></li><li><span><a href=\"#Genera-un-diccionario-que-contenga-las-letras-del-rango-a-z-cuya-codificación-en-Unicode-sea-un-número-par-usando-dict-comprehensions.\" data-toc-modified-id=\"Genera-un-diccionario-que-contenga-las-letras-del-rango-a-z-cuya-codificación-en-Unicode-sea-un-número-par-usando-dict-comprehensions.-2.1.8\"><span class=\"toc-item-num\">2.1.8&nbsp;&nbsp;</span>Genera un diccionario que contenga las letras del rango a-z cuya codificación en Unicode sea un número par usando <em>dict comprehensions</em>.</a></span></li></ul></li><li><span><a href=\"#Cadenas\" data-toc-modified-id=\"Cadenas-2.2\"><span class=\"toc-item-num\">2.2&nbsp;&nbsp;</span>Cadenas</a></span><ul class=\"toc-item\"><li><span><a href=\"#Consigue-una-cadena-que-tenga-todos-los-nombres-de-los-vehículos-del-diccionario-vehicles-separados-por-comas.\" data-toc-modified-id=\"Consigue-una-cadena-que-tenga-todos-los-nombres-de-los-vehículos-del-diccionario-vehicles-separados-por-comas.-2.2.1\"><span class=\"toc-item-num\">2.2.1&nbsp;&nbsp;</span>Consigue una cadena que tenga todos los nombres de los vehículos del diccionario <code>vehicles</code> separados por comas.</a></span></li><li><span><a href=\"#Genera-una-cadena-con-retornos-de-carro,-de-manera-que-se-imprima-como-un-poema,-con-la-siguiente-lista-de-frases.\" data-toc-modified-id=\"Genera-una-cadena-con-retornos-de-carro,-de-manera-que-se-imprima-como-un-poema,-con-la-siguiente-lista-de-frases.-2.2.2\"><span class=\"toc-item-num\">2.2.2&nbsp;&nbsp;</span>Genera una cadena con retornos de carro, de manera que se imprima como un poema, con la siguiente lista de frases.</a></span></li><li><span><a href=\"#Convierte-cadena-con-una-fecha-en-formato-americano-'AAAA-MM-DD'-al-formato-'DD/MM/AAAA'.\" data-toc-modified-id=\"Convierte-cadena-con-una-fecha-en-formato-americano-'AAAA-MM-DD'-al-formato-'DD/MM/AAAA'.-2.2.3\"><span class=\"toc-item-num\">2.2.3&nbsp;&nbsp;</span>Convierte cadena con una fecha en formato americano 'AAAA-MM-DD' al formato 'DD/MM/AAAA'.</a></span></li></ul></li><li><span><a href=\"#Las-funciones-dir()-y-help()\" data-toc-modified-id=\"Las-funciones-dir()-y-help()-2.3\"><span class=\"toc-item-num\">2.3&nbsp;&nbsp;</span>Las funciones <code>dir()</code> y <code>help()</code></a></span><ul class=\"toc-item\"><li><span><a href=\"#Usa-estas-funciones-para-encontrar-todos-los-métodos-disponibles-para-cadenas.\" data-toc-modified-id=\"Usa-estas-funciones-para-encontrar-todos-los-métodos-disponibles-para-cadenas.-2.3.1\"><span class=\"toc-item-num\">2.3.1&nbsp;&nbsp;</span>Usa estas funciones para encontrar todos los métodos disponibles para cadenas.</a></span></li><li><span><a href=\"#Usa-las-mismas-funciones-para-pedir-ayuda-sobre-la-función-zip().\" data-toc-modified-id=\"Usa-las-mismas-funciones-para-pedir-ayuda-sobre-la-función-zip().-2.3.2\"><span class=\"toc-item-num\">2.3.2&nbsp;&nbsp;</span>Usa las mismas funciones para pedir ayuda sobre la función <code>zip()</code>.</a></span></li></ul></li></ul></li><li><span><a href=\"#Ejercicios-de-nivel-intermedio\" data-toc-modified-id=\"Ejercicios-de-nivel-intermedio-3\"><span class=\"toc-item-num\">3&nbsp;&nbsp;</span>Ejercicios de nivel intermedio</a></span><ul class=\"toc-item\"><li><span><a href=\"#Listas,-diccionarios,-conjuntos,-tuplas-y-cadenas\" data-toc-modified-id=\"Listas,-diccionarios,-conjuntos,-tuplas-y-cadenas-3.1\"><span class=\"toc-item-num\">3.1&nbsp;&nbsp;</span>Listas, diccionarios, conjuntos, tuplas y cadenas</a></span><ul class=\"toc-item\"><li><span><a href=\"#Programa-una-función-llamada-primos()\" data-toc-modified-id=\"Programa-una-función-llamada-primos()-3.1.1\"><span class=\"toc-item-num\">3.1.1&nbsp;&nbsp;</span>Programa una función llamada <code>primos()</code></a></span></li><li><span><a href=\"#Programa-una-función-lista_mayor_que()\" data-toc-modified-id=\"Programa-una-función-lista_mayor_que()-3.1.2\"><span class=\"toc-item-num\">3.1.2&nbsp;&nbsp;</span>Programa una función <code>lista_mayor_que()</code></a></span></li><li><span><a href=\"#Programa-una-función-llamada-is_valid_zipcode()\" data-toc-modified-id=\"Programa-una-función-llamada-is_valid_zipcode()-3.1.3\"><span class=\"toc-item-num\">3.1.3&nbsp;&nbsp;</span>Programa una función llamada <code>is_valid_zipcode()</code></a></span></li><li><span><a href=\"#Programa-una-función-llamada-word_search\" data-toc-modified-id=\"Programa-una-función-llamada-word_search-3.1.4\"><span class=\"toc-item-num\">3.1.4&nbsp;&nbsp;</span>Programa una función llamada <code>word_search</code></a></span></li><li><span><a href=\"#Programa-una-función-llamada-word_count()\" data-toc-modified-id=\"Programa-una-función-llamada-word_count()-3.1.5\"><span class=\"toc-item-num\">3.1.5&nbsp;&nbsp;</span>Programa una función llamada <code>word_count()</code></a></span></li><li><span><a href=\"#Convierte-una-lista-que-contiene-listas-(bidimensional)-en-una-lista-plana.\" data-toc-modified-id=\"Convierte-una-lista-que-contiene-listas-(bidimensional)-en-una-lista-plana.-3.1.6\"><span class=\"toc-item-num\">3.1.6&nbsp;&nbsp;</span>Convierte una lista que contiene listas (bidimensional) en una lista plana.</a></span></li><li><span><a href=\"#Programa-una-función-llamada-unique_word_count()\" data-toc-modified-id=\"Programa-una-función-llamada-unique_word_count()-3.1.7\"><span class=\"toc-item-num\">3.1.7&nbsp;&nbsp;</span>Programa una función llamada <code>unique_word_count()</code></a></span></li><li><span><a href=\"#Escribe-una-función-llamada-capital_letter_count()\" data-toc-modified-id=\"Escribe-una-función-llamada-capital_letter_count()-3.1.8\"><span class=\"toc-item-num\">3.1.8&nbsp;&nbsp;</span>Escribe una función llamada <code>capital_letter_count()</code></a></span></li></ul></li></ul></li></ul></div>"
   ]
  },
  {
   "cell_type": "markdown",
   "id": "39938e2f-7834-4881-8fe0-0091e412f110",
   "metadata": {},
   "source": [
    "# Alumno"
   ]
  },
  {
   "cell_type": "markdown",
   "id": "48332deb-2090-4822-8426-5df5bbaaf0ee",
   "metadata": {},
   "source": [
    "*- Jesús Aragón García*\n",
    "*- Javier Guil Molina*"
   ]
  },
  {
   "cell_type": "markdown",
   "id": "pressing-personality",
   "metadata": {},
   "source": [
    "# Ejercicios de Python básico"
   ]
  },
  {
   "cell_type": "markdown",
   "id": "literary-newsletter",
   "metadata": {},
   "source": [
    "## Listas y diccionarios"
   ]
  },
  {
   "cell_type": "markdown",
   "id": "assured-emperor",
   "metadata": {},
   "source": [
    "### Dada una frase sin signos de puntuación, calcula la lista de las longitudes de las palabras que contiene.\n",
    "\n",
    "Resuélvelo tanto con un bucle clásico como usando *list comprehensions*."
   ]
  },
  {
   "cell_type": "code",
   "execution_count": 32,
   "id": "working-carroll",
   "metadata": {},
   "outputs": [],
   "source": [
    "sentence = \"the quick brown fox jumps over the lazy dog\""
   ]
  },
  {
   "cell_type": "code",
   "execution_count": 33,
   "id": "875ea55b",
   "metadata": {},
   "outputs": [
    {
     "data": {
      "text/plain": [
       "[3, 5, 5, 3, 5, 4, 3, 4, 3]"
      ]
     },
     "execution_count": 33,
     "metadata": {},
     "output_type": "execute_result"
    }
   ],
   "source": [
    "# Solución con un bucle clásico\n",
    "longitudes = list()\n",
    "palabras = sentence.split()\n",
    "for palabra in palabras:\n",
    "    longitudes.append(len(palabra))\n",
    "longitudes"
   ]
  },
  {
   "cell_type": "code",
   "execution_count": 34,
   "id": "sensitive-office",
   "metadata": {},
   "outputs": [
    {
     "data": {
      "text/plain": [
       "[3, 5, 5, 3, 5, 4, 3, 4, 3]"
      ]
     },
     "execution_count": 34,
     "metadata": {},
     "output_type": "execute_result"
    }
   ],
   "source": [
    "# Solución con list comprehension\n",
    "palabras = sentence.split()\n",
    "longitudes = [len(palabra) for palabra in palabras]\n",
    "longitudes"
   ]
  },
  {
   "cell_type": "markdown",
   "id": "robust-expression",
   "metadata": {},
   "source": [
    "### Usando *list comprehensions*, a partir de una lista de números, obtén la lista de los elementos que son positivos."
   ]
  },
  {
   "cell_type": "code",
   "execution_count": 14,
   "id": "reverse-fiction",
   "metadata": {},
   "outputs": [],
   "source": [
    "numbers = [2.2, -3.4, 1.0, 5.6, -1.2]"
   ]
  },
  {
   "cell_type": "code",
   "execution_count": 17,
   "id": "5b72f916",
   "metadata": {},
   "outputs": [
    {
     "data": {
      "text/plain": [
       "[2.2, 1.0, 5.6]"
      ]
     },
     "execution_count": 17,
     "metadata": {},
     "output_type": "execute_result"
    }
   ],
   "source": [
    "# Solución\n",
    "positivos = [numero for numero in numbers if numero > 0]\n",
    "positivos"
   ]
  },
  {
   "cell_type": "markdown",
   "id": "sunset-identifier",
   "metadata": {},
   "source": [
    "### Dado el siguiente diccionario con pares `\"nombre\": peso`, extrae una lista con los nombres de los vehículos que pesan menos de 5000 kilos.\n",
    "\n",
    "Los nombres de la lista extraída deben estar todo en minúsculas."
   ]
  },
  {
   "cell_type": "code",
   "execution_count": 71,
   "id": "failing-championship",
   "metadata": {},
   "outputs": [],
   "source": [
    "vehicles = {\n",
    "    \"Sedan\": 1500,\n",
    "    \"SUV\": 2000,\n",
    "    \"Pickup\": 2500,\n",
    "    \"Minivan\": 1600,\n",
    "    \"Van\": 2400,\n",
    "    \"Semi\": 13600,\n",
    "    \"Bicycle\": 7,\n",
    "    \"Motorcycle\": 110\n",
    "}"
   ]
  },
  {
   "cell_type": "code",
   "execution_count": 24,
   "id": "homeless-graduation",
   "metadata": {},
   "outputs": [
    {
     "data": {
      "text/plain": [
       "['Sedan', 'SUV', 'Pickup', 'Minivan', 'Van', 'Bicycle', 'Motorcycle']"
      ]
     },
     "execution_count": 24,
     "metadata": {},
     "output_type": "execute_result"
    }
   ],
   "source": [
    "# Solución\n",
    "vehiculos = [vehiculo for vehiculo,peso in vehicles.items() if peso < 5000]\n",
    "vehiculos"
   ]
  },
  {
   "cell_type": "markdown",
   "id": "concrete-hurricane",
   "metadata": {},
   "source": [
    "### Crea una lista `lst2` con el tipo de cada elemento de la lista `lst1`.\n",
    "\n",
    "Resuélvelo tanto con un bucle clásico como usando *list comprehensions*."
   ]
  },
  {
   "cell_type": "code",
   "execution_count": 37,
   "id": "limiting-minority",
   "metadata": {},
   "outputs": [],
   "source": [
    "lst1 = [3.14, 66, \"osito\", True, [], {}]"
   ]
  },
  {
   "cell_type": "code",
   "execution_count": 38,
   "id": "confident-replication",
   "metadata": {
    "tags": []
   },
   "outputs": [
    {
     "data": {
      "text/plain": [
       "[float, int, str, bool, list, dict]"
      ]
     },
     "execution_count": 38,
     "metadata": {},
     "output_type": "execute_result"
    }
   ],
   "source": [
    "# Solución con bucle clásico\n",
    "lst2 = list()\n",
    "for elemento in lst1:\n",
    "    lst2.append(type(elemento))\n",
    "lst2"
   ]
  },
  {
   "cell_type": "code",
   "execution_count": 39,
   "id": "e7c8ed49-360a-4cc5-acdf-358a8fac098b",
   "metadata": {
    "tags": []
   },
   "outputs": [
    {
     "data": {
      "text/plain": [
       "[float, int, str, bool, list, dict]"
      ]
     },
     "execution_count": 39,
     "metadata": {},
     "output_type": "execute_result"
    }
   ],
   "source": [
    "# Solución con list comprehension\n",
    "lst2 = [type(elemento) for elemento in lst1]\n",
    "lst2"
   ]
  },
  {
   "cell_type": "markdown",
   "id": "known-watershed",
   "metadata": {},
   "source": [
    "### Usando la función `zip()`, crea un diccionario que forme sus pares `\"clave\": valor` a partir de las listas `lst1` y `lst2`."
   ]
  },
  {
   "cell_type": "code",
   "execution_count": 40,
   "id": "macro-filling",
   "metadata": {},
   "outputs": [],
   "source": [
    "lst1 = [\"Netflix\", \"Hulu\", \"Sling\", \"HBO\"]\n",
    "lst2 = [198, 166, 237, 125]"
   ]
  },
  {
   "cell_type": "code",
   "execution_count": 41,
   "id": "advance-science",
   "metadata": {},
   "outputs": [
    {
     "data": {
      "text/plain": [
       "{'Netflix': 198, 'Hulu': 166, 'Sling': 237, 'HBO': 125}"
      ]
     },
     "execution_count": 41,
     "metadata": {},
     "output_type": "execute_result"
    }
   ],
   "source": [
    "# Solución\n",
    "dic = {}\n",
    "for clave, valor in zip(lst1, lst2):\n",
    "    dic[clave] = valor\n",
    "dic"
   ]
  },
  {
   "cell_type": "markdown",
   "id": "mounted-preliminary",
   "metadata": {},
   "source": [
    "### Crea una lista ordenada de tuplas `(\"nombre\", edad)` a partir de las listas `nombres` y `edades`.\n",
    "\n",
    "Pista: Usa las funciones `zip()` y `sorted()`"
   ]
  },
  {
   "cell_type": "code",
   "execution_count": 51,
   "id": "mediterranean-mission",
   "metadata": {},
   "outputs": [],
   "source": [
    "nombres = [\"Mike\", \"Danny\", \"Jim\", \"Annie\"]\n",
    "edades = [4, 12, 7, 19]"
   ]
  },
  {
   "cell_type": "code",
   "execution_count": 52,
   "id": "dominican-ocean",
   "metadata": {},
   "outputs": [
    {
     "data": {
      "text/plain": [
       "[('Annie', 19), ('Danny', 12), ('Jim', 7), ('Mike', 4)]"
      ]
     },
     "execution_count": 52,
     "metadata": {},
     "output_type": "execute_result"
    }
   ],
   "source": [
    "# Solución\n",
    "listaordenada = [tupla for tupla in sorted(zip(nombres, edades))]\n",
    "listaordenada"
   ]
  },
  {
   "cell_type": "markdown",
   "id": "former-crawford",
   "metadata": {},
   "source": [
    "### Crea un diccionario que asocie cada letra del rango a-z con su correspondiente orden. \n",
    "\n",
    "Pista: Usa las funciones `ord()` (que devuelve el código Unicode de un carácter) y `chr()` (que devuelve la letra asociada a su código Unicode).\n",
    "\n",
    "Resuélvelo tanto con un bucle clásico como usando *dict comprehensions*."
   ]
  },
  {
   "cell_type": "code",
   "execution_count": 60,
   "id": "dominican-motorcycle",
   "metadata": {},
   "outputs": [
    {
     "data": {
      "text/plain": [
       "{'a': 97,\n",
       " 'b': 98,\n",
       " 'c': 99,\n",
       " 'd': 100,\n",
       " 'e': 101,\n",
       " 'f': 102,\n",
       " 'g': 103,\n",
       " 'h': 104,\n",
       " 'i': 105,\n",
       " 'j': 106,\n",
       " 'k': 107,\n",
       " 'l': 108,\n",
       " 'm': 109,\n",
       " 'n': 110,\n",
       " 'o': 111,\n",
       " 'p': 112,\n",
       " 'q': 113,\n",
       " 'r': 114,\n",
       " 's': 115,\n",
       " 't': 116,\n",
       " 'u': 117,\n",
       " 'v': 118,\n",
       " 'w': 119,\n",
       " 'x': 120,\n",
       " 'y': 121}"
      ]
     },
     "execution_count": 60,
     "metadata": {},
     "output_type": "execute_result"
    }
   ],
   "source": [
    "# Solución con bucle clásico\n",
    "dic = {}\n",
    "for codletra in range (ord('a'), ord('z')):\n",
    "    dic[chr(codletra)] = codletra\n",
    "dic"
   ]
  },
  {
   "cell_type": "code",
   "execution_count": 68,
   "id": "cf81cbf9",
   "metadata": {},
   "outputs": [
    {
     "data": {
      "text/plain": [
       "{'a': 97,\n",
       " 'b': 98,\n",
       " 'c': 99,\n",
       " 'd': 100,\n",
       " 'e': 101,\n",
       " 'f': 102,\n",
       " 'g': 103,\n",
       " 'h': 104,\n",
       " 'i': 105,\n",
       " 'j': 106,\n",
       " 'k': 107,\n",
       " 'l': 108,\n",
       " 'm': 109,\n",
       " 'n': 110,\n",
       " 'o': 111,\n",
       " 'p': 112,\n",
       " 'q': 113,\n",
       " 'r': 114,\n",
       " 's': 115,\n",
       " 't': 116,\n",
       " 'u': 117,\n",
       " 'v': 118,\n",
       " 'w': 119,\n",
       " 'x': 120,\n",
       " 'y': 121}"
      ]
     },
     "execution_count": 68,
     "metadata": {},
     "output_type": "execute_result"
    }
   ],
   "source": [
    "# Solución con dict comprehension\n",
    "dic = {chr(codletra):codletra for codletra in range (ord('a'), ord('z'))}\n",
    "dic"
   ]
  },
  {
   "cell_type": "markdown",
   "id": "ceramic-genre",
   "metadata": {},
   "source": [
    "### Genera un diccionario que contenga las letras del rango a-z cuya codificación en Unicode sea un número par usando *dict comprehensions*.\n",
    "\n",
    "Puedes partir del diccionario del ejercicio anterior."
   ]
  },
  {
   "cell_type": "code",
   "execution_count": 70,
   "id": "clinical-motorcycle",
   "metadata": {},
   "outputs": [
    {
     "data": {
      "text/plain": [
       "{'b': 98,\n",
       " 'd': 100,\n",
       " 'f': 102,\n",
       " 'h': 104,\n",
       " 'j': 106,\n",
       " 'l': 108,\n",
       " 'n': 110,\n",
       " 'p': 112,\n",
       " 'r': 114,\n",
       " 't': 116,\n",
       " 'v': 118,\n",
       " 'x': 120}"
      ]
     },
     "execution_count": 70,
     "metadata": {},
     "output_type": "execute_result"
    }
   ],
   "source": [
    "# Solución\n",
    "dic = {chr(codletra):codletra for codletra in range (ord('a'), ord('z')) if codletra % 2 == 0}\n",
    "dic"
   ]
  },
  {
   "cell_type": "markdown",
   "id": "direct-rocket",
   "metadata": {},
   "source": [
    "## Cadenas"
   ]
  },
  {
   "cell_type": "markdown",
   "id": "changing-excuse",
   "metadata": {},
   "source": [
    "### Consigue una cadena que tenga todos los nombres de los vehículos del diccionario `vehicles` separados por comas.\n",
    "\n",
    "Pista: Usa la función `join()`"
   ]
  },
  {
   "cell_type": "code",
   "execution_count": 82,
   "id": "technical-reservation",
   "metadata": {},
   "outputs": [
    {
     "data": {
      "text/plain": [
       "'Sedan, SUV, Pickup, Minivan, Van, Semi, Bicycle, Motorcycle'"
      ]
     },
     "execution_count": 82,
     "metadata": {},
     "output_type": "execute_result"
    }
   ],
   "source": [
    "# Solución\n",
    "cadena = \", \".join(vehicles.keys())\n",
    "cadena"
   ]
  },
  {
   "cell_type": "markdown",
   "id": "incorporate-madison",
   "metadata": {},
   "source": [
    "### Genera una cadena con retornos de carro, de manera que se imprima como un poema, con la siguiente lista de frases.\n",
    "\n",
    "Pista: Usa la función `join()`"
   ]
  },
  {
   "cell_type": "raw",
   "id": "7ae5c3d9",
   "metadata": {},
   "source": [
    "frases = ['Aquí la envidia y mentira',\n",
    "          'me tuvieron encerrrado.',\n",
    "          'Dichoso el humilde estado',\n",
    "          'del sabio que se retira',\n",
    "          'de aqueste mundo malvado.']"
   ]
  },
  {
   "cell_type": "code",
   "execution_count": 94,
   "id": "palestinian-tablet",
   "metadata": {},
   "outputs": [
    {
     "name": "stdout",
     "output_type": "stream",
     "text": [
      "Aquí la envidia y mentira\n",
      "me tuvieron encerrrado.\n",
      "Dichoso el humilde estado\n",
      "del sabio que se retira\n",
      "de aqueste mundo malvado.\n"
     ]
    }
   ],
   "source": [
    "# Solución\n",
    "poema = \"\\n\".join(frases)\n",
    "print(poema)"
   ]
  },
  {
   "cell_type": "markdown",
   "id": "revolutionary-provincial",
   "metadata": {},
   "source": [
    "### Convierte cadena con una fecha en formato americano 'AAAA-MM-DD' al formato 'DD/MM/AAAA'.\n",
    "\n",
    "Pista: Usa las funciones `split()` y `join()`"
   ]
  },
  {
   "cell_type": "code",
   "execution_count": 95,
   "id": "abandoned-latex",
   "metadata": {},
   "outputs": [
    {
     "name": "stdout",
     "output_type": "stream",
     "text": [
      "1 2 3\n"
     ]
    }
   ],
   "source": [
    "# Pista: la siguiente línea te puede facilitar la tarea.\n",
    "\n",
    "a, b, c = [1, 2, 3]\n",
    "print(a,b,c)"
   ]
  },
  {
   "cell_type": "code",
   "execution_count": 100,
   "id": "pressed-habitat",
   "metadata": {},
   "outputs": [
    {
     "data": {
      "text/plain": [
       "'12/04/2022'"
      ]
     },
     "execution_count": 100,
     "metadata": {},
     "output_type": "execute_result"
    }
   ],
   "source": [
    "# Solución\n",
    "fecha_original = \"2022-04-12\"\n",
    "años, meses, dias = fecha_original.split(\"-\")\n",
    "fecha_final = \"/\".join([dias, meses, años])\n",
    "fecha_final"
   ]
  },
  {
   "cell_type": "markdown",
   "id": "thermal-johnston",
   "metadata": {},
   "source": [
    "## Las funciones `dir()` y `help()` "
   ]
  },
  {
   "cell_type": "markdown",
   "id": "mental-particle",
   "metadata": {},
   "source": [
    "La función `dir()` devuelve información sobre los atributos y métodos de los objetos Python. Por ejemplo:"
   ]
  },
  {
   "cell_type": "code",
   "execution_count": 101,
   "id": "described-toolbox",
   "metadata": {},
   "outputs": [
    {
     "data": {
      "text/plain": [
       "['__add__',\n",
       " '__class__',\n",
       " '__contains__',\n",
       " '__delattr__',\n",
       " '__delitem__',\n",
       " '__dir__',\n",
       " '__doc__',\n",
       " '__eq__',\n",
       " '__format__',\n",
       " '__ge__',\n",
       " '__getattribute__',\n",
       " '__getitem__',\n",
       " '__gt__',\n",
       " '__hash__',\n",
       " '__iadd__',\n",
       " '__imul__',\n",
       " '__init__',\n",
       " '__init_subclass__',\n",
       " '__iter__',\n",
       " '__le__',\n",
       " '__len__',\n",
       " '__lt__',\n",
       " '__mul__',\n",
       " '__ne__',\n",
       " '__new__',\n",
       " '__reduce__',\n",
       " '__reduce_ex__',\n",
       " '__repr__',\n",
       " '__reversed__',\n",
       " '__rmul__',\n",
       " '__setattr__',\n",
       " '__setitem__',\n",
       " '__sizeof__',\n",
       " '__str__',\n",
       " '__subclasshook__',\n",
       " 'append',\n",
       " 'clear',\n",
       " 'copy',\n",
       " 'count',\n",
       " 'extend',\n",
       " 'index',\n",
       " 'insert',\n",
       " 'pop',\n",
       " 'remove',\n",
       " 'reverse',\n",
       " 'sort']"
      ]
     },
     "execution_count": 101,
     "metadata": {},
     "output_type": "execute_result"
    }
   ],
   "source": [
    "dir(list())"
   ]
  },
  {
   "cell_type": "markdown",
   "id": "corresponding-baltimore",
   "metadata": {},
   "source": [
    "Además la función `help()` nos da información acerca del objeto que le pasemos. Por ejemplo:"
   ]
  },
  {
   "cell_type": "code",
   "execution_count": 102,
   "id": "crude-pledge",
   "metadata": {},
   "outputs": [
    {
     "name": "stdout",
     "output_type": "stream",
     "text": [
      "Help on list object:\n",
      "\n",
      "class list(object)\n",
      " |  list(iterable=(), /)\n",
      " |  \n",
      " |  Built-in mutable sequence.\n",
      " |  \n",
      " |  If no argument is given, the constructor creates a new empty list.\n",
      " |  The argument must be an iterable if specified.\n",
      " |  \n",
      " |  Methods defined here:\n",
      " |  \n",
      " |  __add__(self, value, /)\n",
      " |      Return self+value.\n",
      " |  \n",
      " |  __contains__(self, key, /)\n",
      " |      Return key in self.\n",
      " |  \n",
      " |  __delitem__(self, key, /)\n",
      " |      Delete self[key].\n",
      " |  \n",
      " |  __eq__(self, value, /)\n",
      " |      Return self==value.\n",
      " |  \n",
      " |  __ge__(self, value, /)\n",
      " |      Return self>=value.\n",
      " |  \n",
      " |  __getattribute__(self, name, /)\n",
      " |      Return getattr(self, name).\n",
      " |  \n",
      " |  __getitem__(...)\n",
      " |      x.__getitem__(y) <==> x[y]\n",
      " |  \n",
      " |  __gt__(self, value, /)\n",
      " |      Return self>value.\n",
      " |  \n",
      " |  __iadd__(self, value, /)\n",
      " |      Implement self+=value.\n",
      " |  \n",
      " |  __imul__(self, value, /)\n",
      " |      Implement self*=value.\n",
      " |  \n",
      " |  __init__(self, /, *args, **kwargs)\n",
      " |      Initialize self.  See help(type(self)) for accurate signature.\n",
      " |  \n",
      " |  __iter__(self, /)\n",
      " |      Implement iter(self).\n",
      " |  \n",
      " |  __le__(self, value, /)\n",
      " |      Return self<=value.\n",
      " |  \n",
      " |  __len__(self, /)\n",
      " |      Return len(self).\n",
      " |  \n",
      " |  __lt__(self, value, /)\n",
      " |      Return self<value.\n",
      " |  \n",
      " |  __mul__(self, value, /)\n",
      " |      Return self*value.\n",
      " |  \n",
      " |  __ne__(self, value, /)\n",
      " |      Return self!=value.\n",
      " |  \n",
      " |  __repr__(self, /)\n",
      " |      Return repr(self).\n",
      " |  \n",
      " |  __reversed__(self, /)\n",
      " |      Return a reverse iterator over the list.\n",
      " |  \n",
      " |  __rmul__(self, value, /)\n",
      " |      Return value*self.\n",
      " |  \n",
      " |  __setitem__(self, key, value, /)\n",
      " |      Set self[key] to value.\n",
      " |  \n",
      " |  __sizeof__(self, /)\n",
      " |      Return the size of the list in memory, in bytes.\n",
      " |  \n",
      " |  append(self, object, /)\n",
      " |      Append object to the end of the list.\n",
      " |  \n",
      " |  clear(self, /)\n",
      " |      Remove all items from list.\n",
      " |  \n",
      " |  copy(self, /)\n",
      " |      Return a shallow copy of the list.\n",
      " |  \n",
      " |  count(self, value, /)\n",
      " |      Return number of occurrences of value.\n",
      " |  \n",
      " |  extend(self, iterable, /)\n",
      " |      Extend list by appending elements from the iterable.\n",
      " |  \n",
      " |  index(self, value, start=0, stop=9223372036854775807, /)\n",
      " |      Return first index of value.\n",
      " |      \n",
      " |      Raises ValueError if the value is not present.\n",
      " |  \n",
      " |  insert(self, index, object, /)\n",
      " |      Insert object before index.\n",
      " |  \n",
      " |  pop(self, index=-1, /)\n",
      " |      Remove and return item at index (default last).\n",
      " |      \n",
      " |      Raises IndexError if list is empty or index is out of range.\n",
      " |  \n",
      " |  remove(self, value, /)\n",
      " |      Remove first occurrence of value.\n",
      " |      \n",
      " |      Raises ValueError if the value is not present.\n",
      " |  \n",
      " |  reverse(self, /)\n",
      " |      Reverse *IN PLACE*.\n",
      " |  \n",
      " |  sort(self, /, *, key=None, reverse=False)\n",
      " |      Stable sort *IN PLACE*.\n",
      " |  \n",
      " |  ----------------------------------------------------------------------\n",
      " |  Static methods defined here:\n",
      " |  \n",
      " |  __new__(*args, **kwargs) from builtins.type\n",
      " |      Create and return a new object.  See help(type) for accurate signature.\n",
      " |  \n",
      " |  ----------------------------------------------------------------------\n",
      " |  Data and other attributes defined here:\n",
      " |  \n",
      " |  __hash__ = None\n",
      "\n"
     ]
    }
   ],
   "source": [
    "help(list())"
   ]
  },
  {
   "cell_type": "code",
   "execution_count": 103,
   "id": "suited-latin",
   "metadata": {},
   "outputs": [
    {
     "name": "stdout",
     "output_type": "stream",
     "text": [
      "Help on built-in function join:\n",
      "\n",
      "join(iterable, /) method of builtins.str instance\n",
      "    Concatenate any number of strings.\n",
      "    \n",
      "    The string whose method is called is inserted in between each given string.\n",
      "    The result is returned as a new string.\n",
      "    \n",
      "    Example: '.'.join(['ab', 'pq', 'rs']) -> 'ab.pq.rs'\n",
      "\n"
     ]
    }
   ],
   "source": [
    "help('.'.join)"
   ]
  },
  {
   "cell_type": "markdown",
   "id": "extreme-scanning",
   "metadata": {},
   "source": [
    "### Usa estas funciones para encontrar todos los métodos disponibles para cadenas."
   ]
  },
  {
   "cell_type": "code",
   "execution_count": 107,
   "id": "norman-kingdom",
   "metadata": {},
   "outputs": [
    {
     "data": {
      "text/plain": [
       "['__add__',\n",
       " '__class__',\n",
       " '__contains__',\n",
       " '__delattr__',\n",
       " '__dir__',\n",
       " '__doc__',\n",
       " '__eq__',\n",
       " '__format__',\n",
       " '__ge__',\n",
       " '__getattribute__',\n",
       " '__getitem__',\n",
       " '__getnewargs__',\n",
       " '__gt__',\n",
       " '__hash__',\n",
       " '__init__',\n",
       " '__init_subclass__',\n",
       " '__iter__',\n",
       " '__le__',\n",
       " '__len__',\n",
       " '__lt__',\n",
       " '__mod__',\n",
       " '__mul__',\n",
       " '__ne__',\n",
       " '__new__',\n",
       " '__reduce__',\n",
       " '__reduce_ex__',\n",
       " '__repr__',\n",
       " '__rmod__',\n",
       " '__rmul__',\n",
       " '__setattr__',\n",
       " '__sizeof__',\n",
       " '__str__',\n",
       " '__subclasshook__',\n",
       " 'capitalize',\n",
       " 'casefold',\n",
       " 'center',\n",
       " 'count',\n",
       " 'encode',\n",
       " 'endswith',\n",
       " 'expandtabs',\n",
       " 'find',\n",
       " 'format',\n",
       " 'format_map',\n",
       " 'index',\n",
       " 'isalnum',\n",
       " 'isalpha',\n",
       " 'isascii',\n",
       " 'isdecimal',\n",
       " 'isdigit',\n",
       " 'isidentifier',\n",
       " 'islower',\n",
       " 'isnumeric',\n",
       " 'isprintable',\n",
       " 'isspace',\n",
       " 'istitle',\n",
       " 'isupper',\n",
       " 'join',\n",
       " 'ljust',\n",
       " 'lower',\n",
       " 'lstrip',\n",
       " 'maketrans',\n",
       " 'partition',\n",
       " 'replace',\n",
       " 'rfind',\n",
       " 'rindex',\n",
       " 'rjust',\n",
       " 'rpartition',\n",
       " 'rsplit',\n",
       " 'rstrip',\n",
       " 'split',\n",
       " 'splitlines',\n",
       " 'startswith',\n",
       " 'strip',\n",
       " 'swapcase',\n",
       " 'title',\n",
       " 'translate',\n",
       " 'upper',\n",
       " 'zfill']"
      ]
     },
     "execution_count": 107,
     "metadata": {},
     "output_type": "execute_result"
    }
   ],
   "source": [
    "# Solución\n",
    "cadena = \"hola\"\n",
    "dir(type(cadena))"
   ]
  },
  {
   "cell_type": "markdown",
   "id": "precious-school",
   "metadata": {},
   "source": [
    "### Usa las mismas funciones para pedir ayuda sobre la función `zip()`."
   ]
  },
  {
   "cell_type": "code",
   "execution_count": 106,
   "id": "interpreted-identity",
   "metadata": {},
   "outputs": [
    {
     "name": "stdout",
     "output_type": "stream",
     "text": [
      "Help on zip object:\n",
      "\n",
      "class zip(object)\n",
      " |  zip(*iterables) --> zip object\n",
      " |  \n",
      " |  Return a zip object whose .__next__() method returns a tuple where\n",
      " |  the i-th element comes from the i-th iterable argument.  The .__next__()\n",
      " |  method continues until the shortest iterable in the argument sequence\n",
      " |  is exhausted and then it raises StopIteration.\n",
      " |  \n",
      " |  Methods defined here:\n",
      " |  \n",
      " |  __getattribute__(self, name, /)\n",
      " |      Return getattr(self, name).\n",
      " |  \n",
      " |  __iter__(self, /)\n",
      " |      Implement iter(self).\n",
      " |  \n",
      " |  __next__(self, /)\n",
      " |      Implement next(self).\n",
      " |  \n",
      " |  __reduce__(...)\n",
      " |      Return state information for pickling.\n",
      " |  \n",
      " |  ----------------------------------------------------------------------\n",
      " |  Static methods defined here:\n",
      " |  \n",
      " |  __new__(*args, **kwargs) from builtins.type\n",
      " |      Create and return a new object.  See help(type) for accurate signature.\n",
      "\n"
     ]
    }
   ],
   "source": [
    "# Solución\n",
    "help(zip())"
   ]
  },
  {
   "cell_type": "markdown",
   "id": "utility-nickel",
   "metadata": {},
   "source": [
    "# Ejercicios de nivel intermedio"
   ]
  },
  {
   "cell_type": "markdown",
   "id": "passive-aviation",
   "metadata": {},
   "source": [
    "## Listas, diccionarios, conjuntos, tuplas y cadenas"
   ]
  },
  {
   "cell_type": "markdown",
   "id": "cooperative-ribbon",
   "metadata": {},
   "source": [
    "### Programa una función llamada `primos()` \n",
    "\n",
    "Esta función debe recibir un número y devolver una lista con los números primos que se encuentran entre 2 y ese número.\n",
    "\n",
    " Hazlo con bucles tradicionales y resuélvelo también con *list comprehensions*."
   ]
  },
  {
   "cell_type": "code",
   "execution_count": 7,
   "id": "helpful-damages",
   "metadata": {},
   "outputs": [
    {
     "name": "stdout",
     "output_type": "stream",
     "text": [
      "[2, 3, 5, 7, 11, 13, 17, 19, 23, 29, 31, 37, 41, 43, 47]\n",
      "[2, 3, 5, 7, 11, 13, 17, 19, 23, 29, 31, 37, 41, 43, 47]\n"
     ]
    }
   ],
   "source": [
    "# Solución\n",
    "def es_primo(num):\n",
    "    for n in range(2, num):\n",
    "        if num % n == 0:\n",
    "            return False\n",
    "    return True\n",
    "\n",
    "def primos_bucle(num):\n",
    "    primos = list()\n",
    "    for n in range(2, num):\n",
    "        if(es_primo(n)):\n",
    "            primos.append(n)\n",
    "    return primos\n",
    "\n",
    "def primos_comprehensions(num):\n",
    "    primos = [n for n in range(2, num) if es_primo(n)]\n",
    "    return primos\n",
    "\n",
    "print(primos_bucle(50))\n",
    "print(primos_comprehensions(50))"
   ]
  },
  {
   "cell_type": "markdown",
   "id": "breeding-cloud",
   "metadata": {},
   "source": [
    "### Programa una función `lista_mayor_que()`\n",
    "\n",
    "Esta función debe recibir una lista de números y un número, y devolver una lista de booleanos indicando si cada número de la lista original es mayor estrictamente que dicho número. Por ejemplo:"
   ]
  },
  {
   "cell_type": "markdown",
   "id": "controversial-clear",
   "metadata": {},
   "source": [
    "`lista_mayor_que([1,2,3,4,5], 3)`\n",
    "\n",
    "devolvería la siguiente lista:\n",
    "\n",
    "`[False, False, False, True, True]`"
   ]
  },
  {
   "cell_type": "code",
   "execution_count": 11,
   "id": "registered-posting",
   "metadata": {},
   "outputs": [
    {
     "data": {
      "text/plain": [
       "[False, False, False, True, True]"
      ]
     },
     "execution_count": 11,
     "metadata": {},
     "output_type": "execute_result"
    }
   ],
   "source": [
    "# Solución\n",
    "def lista_mayor_que(lista, num):\n",
    "    resultados = [(n > num) for n in lista]\n",
    "    return resultados\n",
    "\n",
    "lista_mayor_que([1,2,3,4,5], 3)"
   ]
  },
  {
   "cell_type": "markdown",
   "id": "differential-messenger",
   "metadata": {},
   "source": [
    "### Programa una función llamada `is_valid_zipcode()`\n",
    "Esta función recibe una cadena y devuelve un *booleano* indicando si la cadena es un código postal válido. Consideraremos que una cadena es un código postal válido si está compuesta de 5 dígitos."
   ]
  },
  {
   "cell_type": "code",
   "execution_count": 30,
   "id": "approved-veteran",
   "metadata": {},
   "outputs": [
    {
     "data": {
      "text/plain": [
       "True"
      ]
     },
     "execution_count": 30,
     "metadata": {},
     "output_type": "execute_result"
    }
   ],
   "source": [
    "# Solución\n",
    "def is_valid_zipcode(cadena):\n",
    "    if(cadena.isdigit() and len(cadena) == 5):\n",
    "        return True\n",
    "    else:\n",
    "        return False\n",
    "    \n",
    "is_valid_zipcode(\"56676\")"
   ]
  },
  {
   "cell_type": "markdown",
   "id": "intelligent-juice",
   "metadata": {},
   "source": [
    "### Programa una función llamada `word_search` \n",
    "Esta función toma como argumentos una lista de cadenas y una cadena con una palabra a buscar, y devuelve la lista de los índices de las cadenas que contienen dicha palabra, independientemente de que haya mayúsculas o minúsculas. Hay que buscar palabras enteras, no partes de otras palabras. En la lista de cadenas puede haber caracteres no alfabéticos (símbolos) tras alguna palabra y eso no debe impedir que se detecte. \n",
    "\n",
    "NOTA: puedes asumir que los únicos símbolos que aparecen son el punto y la coma."
   ]
  },
  {
   "cell_type": "code",
   "execution_count": 125,
   "id": "parliamentary-rates",
   "metadata": {},
   "outputs": [],
   "source": [
    "lista = [\"No por mucho madrugar amanece más Temprano.\",\n",
    "         \"Ellos se compraron un coche\",\n",
    "         \"Sopor\",\n",
    "         \"siempre insoportable\"]"
   ]
  },
  {
   "cell_type": "code",
   "execution_count": 126,
   "id": "c45a8922",
   "metadata": {},
   "outputs": [
    {
     "data": {
      "text/plain": [
       "[0]"
      ]
     },
     "execution_count": 126,
     "metadata": {},
     "output_type": "execute_result"
    }
   ],
   "source": [
    "# Solución\n",
    "def word_search(lista, palabra):\n",
    "    coincidencias = list()\n",
    "    k = 0\n",
    "    for cadena in lista:\n",
    "        cadena = cadena.replace('.', '')\n",
    "        cadena = cadena.replace(',', '')\n",
    "        palabras = cadena.split()\n",
    "        for p in palabras:\n",
    "            if(p.casefold() == palabra.casefold()):\n",
    "                coincidencias.append(k)\n",
    "                break\n",
    "        k = k + 1\n",
    "    return coincidencias\n",
    "\n",
    "word_search(lista, \"temprano\")"
   ]
  },
  {
   "cell_type": "markdown",
   "id": "featured-october",
   "metadata": {},
   "source": [
    "### Programa una función llamada `word_count()`\n",
    "\n",
    "Esta función debe recibir como parámetro la ruta a un fichero de texto, compuesto por diferentes líneas que contienen palabras sin signos de puntuación, y devolverá el número de palabras que contiene el fichero."
   ]
  },
  {
   "cell_type": "code",
   "execution_count": 128,
   "id": "ec38f689",
   "metadata": {},
   "outputs": [],
   "source": [
    "!echo \"Hola buenas tardes\"  > pruebas.txt\n",
    "!echo \"Hola que tal\"  >> pruebas.txt\n",
    "!echo \"Me llamo Montoya\"  >> pruebas.txt\n",
    "!echo \"Realmente me llamo Alex\"  >> pruebas.txt"
   ]
  },
  {
   "cell_type": "code",
   "execution_count": 129,
   "id": "removed-governor",
   "metadata": {},
   "outputs": [
    {
     "data": {
      "text/plain": [
       "13"
      ]
     },
     "execution_count": 129,
     "metadata": {},
     "output_type": "execute_result"
    }
   ],
   "source": [
    "# Solución\n",
    "def word_count(ruta_fichero):\n",
    "    fichero = open(ruta_fichero)\n",
    "    num_palabras = 0\n",
    "    while True:\n",
    "        linea = fichero.readline()\n",
    "        if not linea:\n",
    "            break\n",
    "        else:\n",
    "            num_palabras = num_palabras + len(linea.split())\n",
    "    return num_palabras\n",
    "\n",
    "word_count(\"pruebas.txt\")"
   ]
  },
  {
   "cell_type": "markdown",
   "id": "packed-scene",
   "metadata": {},
   "source": [
    "### Convierte una lista que contiene listas (bidimensional) en una lista plana.\n",
    "\n",
    "Hazlo usando una *list comprehension*"
   ]
  },
  {
   "cell_type": "code",
   "execution_count": 89,
   "id": "pretty-wealth",
   "metadata": {},
   "outputs": [],
   "source": [
    "listas = [[1,2,3],[4,5,6]]"
   ]
  },
  {
   "cell_type": "code",
   "execution_count": 91,
   "id": "ca2b6867",
   "metadata": {},
   "outputs": [
    {
     "data": {
      "text/plain": [
       "[1, 2, 3, 4, 5, 6]"
      ]
     },
     "execution_count": 91,
     "metadata": {},
     "output_type": "execute_result"
    }
   ],
   "source": [
    "# Solución\n",
    "listaFinal = [elemento for lista in listas for elemento in lista]\n",
    "listaFinal"
   ]
  },
  {
   "cell_type": "markdown",
   "id": "general-kazakhstan",
   "metadata": {},
   "source": [
    "### Programa una función llamada `unique_word_count()` \n",
    "Esta función debe recibir como parámetro la ruta a un fichero de texto, compuesto por diferentes líneas que contienen palabras sin signos de puntuación, y devolver una lista con todas las palabras diferentes que contiene el fichero ordenadas alfabéticamente (no tengas en cuenta que las tildes se ordenan incorrectamente), independientemente de que haya mayúsculas o minúsculas."
   ]
  },
  {
   "cell_type": "code",
   "execution_count": 101,
   "id": "domestic-azerbaijan",
   "metadata": {},
   "outputs": [
    {
     "data": {
      "text/plain": [
       "['alex',\n",
       " 'buenas',\n",
       " 'hola',\n",
       " 'llamo',\n",
       " 'me',\n",
       " 'montoya',\n",
       " 'que',\n",
       " 'realmente',\n",
       " 'tal',\n",
       " 'tarde']"
      ]
     },
     "execution_count": 101,
     "metadata": {},
     "output_type": "execute_result"
    }
   ],
   "source": [
    "# Solución\n",
    "def unique_word_count(ruta_fichero):\n",
    "    fichero = open(ruta_fichero)\n",
    "    palabras_conjunto = set()\n",
    "    while True:\n",
    "        linea = fichero.readline()\n",
    "        if not linea:\n",
    "            break\n",
    "        else:\n",
    "            for palabra in linea.split():\n",
    "                palabras_conjunto.add(palabra.lower())\n",
    "    lista_palabras = list(palabras_conjunto)\n",
    "    lista_palabras.sort()\n",
    "    return lista_palabras\n",
    "\n",
    "unique_word_count(\"pruebas.txt\")"
   ]
  },
  {
   "cell_type": "markdown",
   "id": "056dc67e",
   "metadata": {},
   "source": [
    "### Escribe una función llamada `capital_letter_count()`\n",
    "Esta función debe recibir como parámetro la ruta a un fichero de texto, compuesto por diferentes líneas que contienen palabras sin signos de puntuación, y devolver devuelve una lista de tuplas `(carácter, apariciones)` con las tuplas ordenadas alfabéticamente (no tengas en cuenta que las tildes se ordenan incorrectamente)."
   ]
  },
  {
   "cell_type": "code",
   "execution_count": 135,
   "id": "c390ba01",
   "metadata": {},
   "outputs": [
    {
     "data": {
      "text/plain": [
       "[('a', 10),\n",
       " ('b', 1),\n",
       " ('d', 1),\n",
       " ('e', 9),\n",
       " ('h', 2),\n",
       " ('l', 9),\n",
       " ('m', 6),\n",
       " ('n', 3),\n",
       " ('o', 6),\n",
       " ('q', 1),\n",
       " ('r', 2),\n",
       " ('s', 2),\n",
       " ('t', 4),\n",
       " ('u', 2),\n",
       " ('x', 1),\n",
       " ('y', 1)]"
      ]
     },
     "execution_count": 135,
     "metadata": {},
     "output_type": "execute_result"
    }
   ],
   "source": [
    "# Solución\n",
    "def capital_letter_count(ruta_fichero):\n",
    "    fichero = open(ruta_fichero)\n",
    "    dic_letras = {}\n",
    "    while True:\n",
    "        linea = fichero.readline()\n",
    "        if not linea:\n",
    "            break\n",
    "        else:\n",
    "            linea = linea.replace(' ', '')\n",
    "            linea = linea.replace('\\n', '')\n",
    "            for letra in linea:\n",
    "                letra = letra.lower()\n",
    "                if(letra in dic_letras):\n",
    "                    dic_letras[letra] = dic_letras[letra] + 1\n",
    "                else:\n",
    "                    dic_letras[letra] = 1\n",
    "    lista_sol = [(caracter, apariciones) for caracter, apariciones in dic_letras.items()]\n",
    "    lista_sol.sort()\n",
    "    return lista_sol\n",
    "\n",
    "capital_letter_count(\"pruebas.txt\")"
   ]
  }
 ],
 "metadata": {
  "kernelspec": {
   "display_name": "Python 3 (ipykernel)",
   "language": "python",
   "name": "python3"
  },
  "language_info": {
   "codemirror_mode": {
    "name": "ipython",
    "version": 3
   },
   "file_extension": ".py",
   "mimetype": "text/x-python",
   "name": "python",
   "nbconvert_exporter": "python",
   "pygments_lexer": "ipython3",
   "version": "3.8.10"
  },
  "toc": {
   "base_numbering": 1,
   "nav_menu": {},
   "number_sections": true,
   "sideBar": true,
   "skip_h1_title": false,
   "title_cell": "Tabla de contenidos",
   "title_sidebar": "Contents",
   "toc_cell": true,
   "toc_position": {
    "height": "calc(100% - 180px)",
    "left": "10px",
    "top": "150px",
    "width": "462.35px"
   },
   "toc_section_display": true,
   "toc_window_display": true
  }
 },
 "nbformat": 4,
 "nbformat_minor": 5
}
