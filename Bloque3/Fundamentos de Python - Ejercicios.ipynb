{
 "cells": [
  {
   "cell_type": "markdown",
   "id": "shared-calibration",
   "metadata": {
    "toc": true
   },
   "source": [
    "<h1>Tabla de contenidos<span class=\"tocSkip\"></span></h1>\n",
    "<div class=\"toc\"><ul class=\"toc-item\"><li><span><a href=\"#Alumno\" data-toc-modified-id=\"Alumno-1\"><span class=\"toc-item-num\">1&nbsp;&nbsp;</span>Alumno</a></span></li><li><span><a href=\"#Ejercicios-de-Python-básico\" data-toc-modified-id=\"Ejercicios-de-Python-básico-2\"><span class=\"toc-item-num\">2&nbsp;&nbsp;</span>Ejercicios de Python básico</a></span><ul class=\"toc-item\"><li><span><a href=\"#Listas-y-diccionarios\" data-toc-modified-id=\"Listas-y-diccionarios-2.1\"><span class=\"toc-item-num\">2.1&nbsp;&nbsp;</span>Listas y diccionarios</a></span><ul class=\"toc-item\"><li><span><a href=\"#Dada-una-frase-sin-signos-de-puntuación,-calcula-la-lista-de-las-longitudes-de-las-palabras-que-contiene.\" data-toc-modified-id=\"Dada-una-frase-sin-signos-de-puntuación,-calcula-la-lista-de-las-longitudes-de-las-palabras-que-contiene.-2.1.1\"><span class=\"toc-item-num\">2.1.1&nbsp;&nbsp;</span>Dada una frase sin signos de puntuación, calcula la lista de las longitudes de las palabras que contiene.</a></span></li><li><span><a href=\"#Usando-list-comprehensions,-a-partir-de-una-lista-de-números,-obtén-la-lista-de-los-elementos-que-son-positivos.\" data-toc-modified-id=\"Usando-list-comprehensions,-a-partir-de-una-lista-de-números,-obtén-la-lista-de-los-elementos-que-son-positivos.-2.1.2\"><span class=\"toc-item-num\">2.1.2&nbsp;&nbsp;</span>Usando <em>list comprehensions</em>, a partir de una lista de números, obtén la lista de los elementos que son positivos.</a></span></li><li><span><a href=\"#Dado-el-siguiente-diccionario-con-pares-&quot;nombre&quot;:-peso,-extrae-una-lista-con-los-nombres-de-los-vehículos-que-pesan-menos-de-5000-kilos.\" data-toc-modified-id=\"Dado-el-siguiente-diccionario-con-pares-&quot;nombre&quot;:-peso,-extrae-una-lista-con-los-nombres-de-los-vehículos-que-pesan-menos-de-5000-kilos.-2.1.3\"><span class=\"toc-item-num\">2.1.3&nbsp;&nbsp;</span>Dado el siguiente diccionario con pares <code>\"nombre\": peso</code>, extrae una lista con los nombres de los vehículos que pesan menos de 5000 kilos.</a></span></li><li><span><a href=\"#Crea-una-lista-lst2-con-el-tipo-de-cada-elemento-de-la-lista-lst1.\" data-toc-modified-id=\"Crea-una-lista-lst2-con-el-tipo-de-cada-elemento-de-la-lista-lst1.-2.1.4\"><span class=\"toc-item-num\">2.1.4&nbsp;&nbsp;</span>Crea una lista <code>lst2</code> con el tipo de cada elemento de la lista <code>lst1</code>.</a></span></li><li><span><a href=\"#Usando-la-función-zip(),-crea-un-diccionario-que-forme-sus-pares-&quot;clave&quot;:-valor-a-partir-de-las-listas-lst1-y-lst2.\" data-toc-modified-id=\"Usando-la-función-zip(),-crea-un-diccionario-que-forme-sus-pares-&quot;clave&quot;:-valor-a-partir-de-las-listas-lst1-y-lst2.-2.1.5\"><span class=\"toc-item-num\">2.1.5&nbsp;&nbsp;</span>Usando la función <code>zip()</code>, crea un diccionario que forme sus pares <code>\"clave\": valor</code> a partir de las listas <code>lst1</code> y <code>lst2</code>.</a></span></li><li><span><a href=\"#Crea-una-lista-ordenada-de-tuplas-(&quot;nombre&quot;,-edad)-a-partir-de-las-listas-nombres-y-edades.\" data-toc-modified-id=\"Crea-una-lista-ordenada-de-tuplas-(&quot;nombre&quot;,-edad)-a-partir-de-las-listas-nombres-y-edades.-2.1.6\"><span class=\"toc-item-num\">2.1.6&nbsp;&nbsp;</span>Crea una lista ordenada de tuplas <code>(\"nombre\", edad)</code> a partir de las listas <code>nombres</code> y <code>edades</code>.</a></span></li><li><span><a href=\"#Crea-un-diccionario-que-asocie-cada-letra-del-rango-a-z-con-su-correspondiente-orden.\" data-toc-modified-id=\"Crea-un-diccionario-que-asocie-cada-letra-del-rango-a-z-con-su-correspondiente-orden.-2.1.7\"><span class=\"toc-item-num\">2.1.7&nbsp;&nbsp;</span>Crea un diccionario que asocie cada letra del rango a-z con su correspondiente orden.</a></span></li><li><span><a href=\"#Genera-un-diccionario-que-contenga-las-letras-del-rango-a-z-cuya-codificación-en-Unicode-sea-un-número-par-usando-dict-comprehensions.\" data-toc-modified-id=\"Genera-un-diccionario-que-contenga-las-letras-del-rango-a-z-cuya-codificación-en-Unicode-sea-un-número-par-usando-dict-comprehensions.-2.1.8\"><span class=\"toc-item-num\">2.1.8&nbsp;&nbsp;</span>Genera un diccionario que contenga las letras del rango a-z cuya codificación en Unicode sea un número par usando <em>dict comprehensions</em>.</a></span></li></ul></li><li><span><a href=\"#Cadenas\" data-toc-modified-id=\"Cadenas-2.2\"><span class=\"toc-item-num\">2.2&nbsp;&nbsp;</span>Cadenas</a></span><ul class=\"toc-item\"><li><span><a href=\"#Consigue-una-cadena-que-tenga-todos-los-nombres-de-los-vehículos-del-diccionario-vehicles-separados-por-comas.\" data-toc-modified-id=\"Consigue-una-cadena-que-tenga-todos-los-nombres-de-los-vehículos-del-diccionario-vehicles-separados-por-comas.-2.2.1\"><span class=\"toc-item-num\">2.2.1&nbsp;&nbsp;</span>Consigue una cadena que tenga todos los nombres de los vehículos del diccionario <code>vehicles</code> separados por comas.</a></span></li><li><span><a href=\"#Genera-una-cadena-con-retornos-de-carro,-de-manera-que-se-imprima-como-un-poema,-con-la-siguiente-lista-de-frases.\" data-toc-modified-id=\"Genera-una-cadena-con-retornos-de-carro,-de-manera-que-se-imprima-como-un-poema,-con-la-siguiente-lista-de-frases.-2.2.2\"><span class=\"toc-item-num\">2.2.2&nbsp;&nbsp;</span>Genera una cadena con retornos de carro, de manera que se imprima como un poema, con la siguiente lista de frases.</a></span></li><li><span><a href=\"#Convierte-cadena-con-una-fecha-en-formato-americano-'AAAA-MM-DD'-al-formato-'DD/MM/AAAA'.\" data-toc-modified-id=\"Convierte-cadena-con-una-fecha-en-formato-americano-'AAAA-MM-DD'-al-formato-'DD/MM/AAAA'.-2.2.3\"><span class=\"toc-item-num\">2.2.3&nbsp;&nbsp;</span>Convierte cadena con una fecha en formato americano 'AAAA-MM-DD' al formato 'DD/MM/AAAA'.</a></span></li></ul></li><li><span><a href=\"#Las-funciones-dir()-y-help()\" data-toc-modified-id=\"Las-funciones-dir()-y-help()-2.3\"><span class=\"toc-item-num\">2.3&nbsp;&nbsp;</span>Las funciones <code>dir()</code> y <code>help()</code></a></span><ul class=\"toc-item\"><li><span><a href=\"#Usa-estas-funciones-para-encontrar-todos-los-métodos-disponibles-para-cadenas.\" data-toc-modified-id=\"Usa-estas-funciones-para-encontrar-todos-los-métodos-disponibles-para-cadenas.-2.3.1\"><span class=\"toc-item-num\">2.3.1&nbsp;&nbsp;</span>Usa estas funciones para encontrar todos los métodos disponibles para cadenas.</a></span></li><li><span><a href=\"#Usa-las-mismas-funciones-para-pedir-ayuda-sobre-la-función-zip().\" data-toc-modified-id=\"Usa-las-mismas-funciones-para-pedir-ayuda-sobre-la-función-zip().-2.3.2\"><span class=\"toc-item-num\">2.3.2&nbsp;&nbsp;</span>Usa las mismas funciones para pedir ayuda sobre la función <code>zip()</code>.</a></span></li></ul></li></ul></li><li><span><a href=\"#Ejercicios-de-nivel-intermedio\" data-toc-modified-id=\"Ejercicios-de-nivel-intermedio-3\"><span class=\"toc-item-num\">3&nbsp;&nbsp;</span>Ejercicios de nivel intermedio</a></span><ul class=\"toc-item\"><li><span><a href=\"#Listas,-diccionarios,-conjuntos,-tuplas-y-cadenas\" data-toc-modified-id=\"Listas,-diccionarios,-conjuntos,-tuplas-y-cadenas-3.1\"><span class=\"toc-item-num\">3.1&nbsp;&nbsp;</span>Listas, diccionarios, conjuntos, tuplas y cadenas</a></span><ul class=\"toc-item\"><li><span><a href=\"#Programa-una-función-llamada-primos()\" data-toc-modified-id=\"Programa-una-función-llamada-primos()-3.1.1\"><span class=\"toc-item-num\">3.1.1&nbsp;&nbsp;</span>Programa una función llamada <code>primos()</code></a></span></li><li><span><a href=\"#Programa-una-función-lista_mayor_que()\" data-toc-modified-id=\"Programa-una-función-lista_mayor_que()-3.1.2\"><span class=\"toc-item-num\">3.1.2&nbsp;&nbsp;</span>Programa una función <code>lista_mayor_que()</code></a></span></li><li><span><a href=\"#Programa-una-función-llamada-is_valid_zipcode()\" data-toc-modified-id=\"Programa-una-función-llamada-is_valid_zipcode()-3.1.3\"><span class=\"toc-item-num\">3.1.3&nbsp;&nbsp;</span>Programa una función llamada <code>is_valid_zipcode()</code></a></span></li><li><span><a href=\"#Programa-una-función-llamada-word_search\" data-toc-modified-id=\"Programa-una-función-llamada-word_search-3.1.4\"><span class=\"toc-item-num\">3.1.4&nbsp;&nbsp;</span>Programa una función llamada <code>word_search</code></a></span></li><li><span><a href=\"#Programa-una-función-llamada-word_count()\" data-toc-modified-id=\"Programa-una-función-llamada-word_count()-3.1.5\"><span class=\"toc-item-num\">3.1.5&nbsp;&nbsp;</span>Programa una función llamada <code>word_count()</code></a></span></li><li><span><a href=\"#Convierte-una-lista-que-contiene-listas-(bidimensional)-en-una-lista-plana.\" data-toc-modified-id=\"Convierte-una-lista-que-contiene-listas-(bidimensional)-en-una-lista-plana.-3.1.6\"><span class=\"toc-item-num\">3.1.6&nbsp;&nbsp;</span>Convierte una lista que contiene listas (bidimensional) en una lista plana.</a></span></li><li><span><a href=\"#Programa-una-función-llamada-unique_word_count()\" data-toc-modified-id=\"Programa-una-función-llamada-unique_word_count()-3.1.7\"><span class=\"toc-item-num\">3.1.7&nbsp;&nbsp;</span>Programa una función llamada <code>unique_word_count()</code></a></span></li><li><span><a href=\"#Escribe-una-función-llamada-capital_letter_count()\" data-toc-modified-id=\"Escribe-una-función-llamada-capital_letter_count()-3.1.8\"><span class=\"toc-item-num\">3.1.8&nbsp;&nbsp;</span>Escribe una función llamada <code>capital_letter_count()</code></a></span></li></ul></li></ul></li></ul></div>"
   ]
  },
  {
   "cell_type": "markdown",
   "id": "39938e2f-7834-4881-8fe0-0091e412f110",
   "metadata": {},
   "source": [
    "# Alumno"
   ]
  },
  {
   "cell_type": "markdown",
   "id": "48332deb-2090-4822-8426-5df5bbaaf0ee",
   "metadata": {},
   "source": [
    "*Sustituye esta frase por tu nombre y apellidos.*"
   ]
  },
  {
   "cell_type": "markdown",
   "id": "pressing-personality",
   "metadata": {},
   "source": [
    "# Ejercicios de Python básico"
   ]
  },
  {
   "cell_type": "markdown",
   "id": "literary-newsletter",
   "metadata": {},
   "source": [
    "## Listas y diccionarios"
   ]
  },
  {
   "cell_type": "markdown",
   "id": "assured-emperor",
   "metadata": {},
   "source": [
    "### Dada una frase sin signos de puntuación, calcula la lista de las longitudes de las palabras que contiene.\n",
    "\n",
    "Resuélvelo tanto con un bucle clásico como usando *list comprehensions*."
   ]
  },
  {
   "cell_type": "code",
   "execution_count": null,
   "id": "working-carroll",
   "metadata": {},
   "outputs": [],
   "source": [
    "sentence = \"the quick brown fox jumps over the lazy dog\""
   ]
  },
  {
   "cell_type": "code",
   "execution_count": null,
   "id": "875ea55b",
   "metadata": {},
   "outputs": [],
   "source": [
    "# Solución con un bucle clásico\n"
   ]
  },
  {
   "cell_type": "code",
   "execution_count": null,
   "id": "sensitive-office",
   "metadata": {},
   "outputs": [],
   "source": [
    "# Solución con list comprehension\n"
   ]
  },
  {
   "cell_type": "markdown",
   "id": "robust-expression",
   "metadata": {},
   "source": [
    "### Usando *list comprehensions*, a partir de una lista de números, obtén la lista de los elementos que son positivos."
   ]
  },
  {
   "cell_type": "code",
   "execution_count": null,
   "id": "reverse-fiction",
   "metadata": {},
   "outputs": [],
   "source": [
    "numbers = [2.2, -3.4, 1.0, 5.6, -1.2]"
   ]
  },
  {
   "cell_type": "code",
   "execution_count": null,
   "id": "5b72f916",
   "metadata": {},
   "outputs": [],
   "source": [
    "# Solución\n"
   ]
  },
  {
   "cell_type": "markdown",
   "id": "sunset-identifier",
   "metadata": {},
   "source": [
    "### Dado el siguiente diccionario con pares `\"nombre\": peso`, extrae una lista con los nombres de los vehículos que pesan menos de 5000 kilos.\n",
    "\n",
    "Los nombres de la lista extraída deben estar todo en minúsculas."
   ]
  },
  {
   "cell_type": "code",
   "execution_count": null,
   "id": "failing-championship",
   "metadata": {},
   "outputs": [],
   "source": [
    "vehicles = {\n",
    "    \"Sedan\": 1500,\n",
    "    \"SUV\": 2000,\n",
    "    \"Pickup\": 2500,\n",
    "    \"Minivan\": 1600,\n",
    "    \"Van\": 2400,\n",
    "    \"Semi\": 13600,\n",
    "    \"Bicycle\": 7,\n",
    "    \"Motorcycle\": 110\n",
    "}"
   ]
  },
  {
   "cell_type": "code",
   "execution_count": null,
   "id": "homeless-graduation",
   "metadata": {},
   "outputs": [],
   "source": [
    "# Solución\n"
   ]
  },
  {
   "cell_type": "markdown",
   "id": "concrete-hurricane",
   "metadata": {},
   "source": [
    "### Crea una lista `lst2` con el tipo de cada elemento de la lista `lst1`.\n",
    "\n",
    "Resuélvelo tanto con un bucle clásico como usando *list comprehensions*."
   ]
  },
  {
   "cell_type": "code",
   "execution_count": null,
   "id": "limiting-minority",
   "metadata": {},
   "outputs": [],
   "source": [
    "lst1 = [3.14, 66, \"osito\", True, [], {}]"
   ]
  },
  {
   "cell_type": "code",
   "execution_count": null,
   "id": "confident-replication",
   "metadata": {
    "tags": []
   },
   "outputs": [],
   "source": [
    "# Solución con bucle clásico\n"
   ]
  },
  {
   "cell_type": "code",
   "execution_count": null,
   "id": "e7c8ed49-360a-4cc5-acdf-358a8fac098b",
   "metadata": {
    "tags": []
   },
   "outputs": [],
   "source": [
    "# Solución con list comprehension\n"
   ]
  },
  {
   "cell_type": "markdown",
   "id": "known-watershed",
   "metadata": {},
   "source": [
    "### Usando la función `zip()`, crea un diccionario que forme sus pares `\"clave\": valor` a partir de las listas `lst1` y `lst2`."
   ]
  },
  {
   "cell_type": "code",
   "execution_count": null,
   "id": "macro-filling",
   "metadata": {},
   "outputs": [],
   "source": [
    "lst1 = [\"Netflix\", \"Hulu\", \"Sling\", \"HBO\"]\n",
    "lst2 = [198, 166, 237, 125]"
   ]
  },
  {
   "cell_type": "code",
   "execution_count": null,
   "id": "advance-science",
   "metadata": {},
   "outputs": [],
   "source": [
    "# Solución\n"
   ]
  },
  {
   "cell_type": "markdown",
   "id": "mounted-preliminary",
   "metadata": {},
   "source": [
    "### Crea una lista ordenada de tuplas `(\"nombre\", edad)` a partir de las listas `nombres` y `edades`.\n",
    "\n",
    "Pista: Usa las funciones `zip()` y `sorted()`"
   ]
  },
  {
   "cell_type": "code",
   "execution_count": null,
   "id": "mediterranean-mission",
   "metadata": {},
   "outputs": [],
   "source": [
    "nombres = [\"Mike\", \"Danny\", \"Jim\", \"Annie\"]\n",
    "edades = [4, 12, 7, 19]"
   ]
  },
  {
   "cell_type": "code",
   "execution_count": null,
   "id": "dominican-ocean",
   "metadata": {},
   "outputs": [],
   "source": [
    "# Solución\n"
   ]
  },
  {
   "cell_type": "markdown",
   "id": "former-crawford",
   "metadata": {},
   "source": [
    "### Crea un diccionario que asocie cada letra del rango a-z con su correspondiente orden. \n",
    "\n",
    "Pista: Usa las funciones `ord()` (que devuelve el código Unicode de un carácter) y `chr()` (que devuelve la letra asociada a su código Unicode).\n",
    "\n",
    "Resuélvelo tanto con un bucle clásico como usando *dict comprehensions*."
   ]
  },
  {
   "cell_type": "code",
   "execution_count": null,
   "id": "dominican-motorcycle",
   "metadata": {},
   "outputs": [],
   "source": [
    "# Solución con bucle clásico\n"
   ]
  },
  {
   "cell_type": "code",
   "execution_count": null,
   "id": "cf81cbf9",
   "metadata": {},
   "outputs": [],
   "source": [
    "# Solución con dict comprehension\n"
   ]
  },
  {
   "cell_type": "markdown",
   "id": "ceramic-genre",
   "metadata": {},
   "source": [
    "### Genera un diccionario que contenga las letras del rango a-z cuya codificación en Unicode sea un número par usando *dict comprehensions*.\n",
    "\n",
    "Puedes partir del diccionario del ejercicio anterior."
   ]
  },
  {
   "cell_type": "code",
   "execution_count": null,
   "id": "clinical-motorcycle",
   "metadata": {},
   "outputs": [],
   "source": [
    "# Solución\n"
   ]
  },
  {
   "cell_type": "markdown",
   "id": "direct-rocket",
   "metadata": {},
   "source": [
    "## Cadenas"
   ]
  },
  {
   "cell_type": "markdown",
   "id": "changing-excuse",
   "metadata": {},
   "source": [
    "### Consigue una cadena que tenga todos los nombres de los vehículos del diccionario `vehicles` separados por comas.\n",
    "\n",
    "Pista: Usa la función `join()`"
   ]
  },
  {
   "cell_type": "code",
   "execution_count": null,
   "id": "technical-reservation",
   "metadata": {},
   "outputs": [],
   "source": [
    "# Solución\n"
   ]
  },
  {
   "cell_type": "markdown",
   "id": "incorporate-madison",
   "metadata": {},
   "source": [
    "### Genera una cadena con retornos de carro, de manera que se imprima como un poema, con la siguiente lista de frases.\n",
    "\n",
    "Pista: Usa la función `join()`"
   ]
  },
  {
   "cell_type": "code",
   "execution_count": null,
   "id": "absent-coupon",
   "metadata": {},
   "outputs": [],
   "source": [
    "frases = ['Aquí la envidia y mentira',\n",
    "          'me tuvieron encerrrado.',\n",
    "          'Dichoso el humilde estado',\n",
    "          'del sabio que se retira',\n",
    "          'de aqueste mundo malvado.']"
   ]
  },
  {
   "cell_type": "code",
   "execution_count": null,
   "id": "palestinian-tablet",
   "metadata": {},
   "outputs": [],
   "source": [
    "# Solución\n"
   ]
  },
  {
   "cell_type": "markdown",
   "id": "revolutionary-provincial",
   "metadata": {},
   "source": [
    "### Convierte cadena con una fecha en formato americano 'AAAA-MM-DD' al formato 'DD/MM/AAAA'.\n",
    "\n",
    "Pista: Usa las funciones `split()` y `join()`"
   ]
  },
  {
   "cell_type": "code",
   "execution_count": null,
   "id": "abandoned-latex",
   "metadata": {},
   "outputs": [],
   "source": [
    "# Pista: la siguiente línea te puede facilitar la tarea.\n",
    "\n",
    "a, b, c = [1, 2, 3]\n",
    "print(a,b,c)"
   ]
  },
  {
   "cell_type": "code",
   "execution_count": null,
   "id": "pressed-habitat",
   "metadata": {},
   "outputs": [],
   "source": [
    "# Solución\n"
   ]
  },
  {
   "cell_type": "markdown",
   "id": "thermal-johnston",
   "metadata": {},
   "source": [
    "## Las funciones `dir()` y `help()` "
   ]
  },
  {
   "cell_type": "markdown",
   "id": "mental-particle",
   "metadata": {},
   "source": [
    "La función `dir()` devuelve información sobre los atributos y métodos de los objetos Python. Por ejemplo:"
   ]
  },
  {
   "cell_type": "code",
   "execution_count": null,
   "id": "described-toolbox",
   "metadata": {},
   "outputs": [],
   "source": [
    "dir(list())"
   ]
  },
  {
   "cell_type": "markdown",
   "id": "corresponding-baltimore",
   "metadata": {},
   "source": [
    "Además la función `help()` nos da información acerca del objeto que le pasemos. Por ejemplo:"
   ]
  },
  {
   "cell_type": "code",
   "execution_count": null,
   "id": "crude-pledge",
   "metadata": {},
   "outputs": [],
   "source": [
    "help(list())"
   ]
  },
  {
   "cell_type": "code",
   "execution_count": null,
   "id": "suited-latin",
   "metadata": {},
   "outputs": [],
   "source": [
    "help('.'.join)"
   ]
  },
  {
   "cell_type": "markdown",
   "id": "extreme-scanning",
   "metadata": {},
   "source": [
    "### Usa estas funciones para encontrar todos los métodos disponibles para cadenas."
   ]
  },
  {
   "cell_type": "code",
   "execution_count": null,
   "id": "norman-kingdom",
   "metadata": {},
   "outputs": [],
   "source": [
    "# Solución\n",
    "\n"
   ]
  },
  {
   "cell_type": "markdown",
   "id": "precious-school",
   "metadata": {},
   "source": [
    "### Usa las mismas funciones para pedir ayuda sobre la función `zip()`."
   ]
  },
  {
   "cell_type": "code",
   "execution_count": null,
   "id": "interpreted-identity",
   "metadata": {},
   "outputs": [],
   "source": [
    "# Solución\n",
    "\n"
   ]
  },
  {
   "cell_type": "markdown",
   "id": "utility-nickel",
   "metadata": {},
   "source": [
    "# Ejercicios de nivel intermedio"
   ]
  },
  {
   "cell_type": "markdown",
   "id": "passive-aviation",
   "metadata": {},
   "source": [
    "## Listas, diccionarios, conjuntos, tuplas y cadenas"
   ]
  },
  {
   "cell_type": "markdown",
   "id": "cooperative-ribbon",
   "metadata": {},
   "source": [
    "### Programa una función llamada `primos()` \n",
    "\n",
    "Esta función debe recibir un número y devolver una lista con los números primos que se encuentran entre 2 y ese número.\n",
    "\n",
    " Hazlo con bucles tradicionales y resuélvelo también con *list comprehensions*."
   ]
  },
  {
   "cell_type": "code",
   "execution_count": null,
   "id": "helpful-damages",
   "metadata": {},
   "outputs": [],
   "source": [
    "# Solución\n"
   ]
  },
  {
   "cell_type": "markdown",
   "id": "breeding-cloud",
   "metadata": {},
   "source": [
    "### Programa una función `lista_mayor_que()`\n",
    "\n",
    "Esta función debe recibir una lista de números y un número, y devolver una lista de booleanos indicando si cada número de la lista original es mayor estrictamente que dicho número. Por ejemplo:"
   ]
  },
  {
   "cell_type": "markdown",
   "id": "controversial-clear",
   "metadata": {},
   "source": [
    "`lista_mayor_que([1,2,3,4,5], 3)`\n",
    "\n",
    "devolvería la siguiente lista:\n",
    "\n",
    "`[False, False, False, True, True]`"
   ]
  },
  {
   "cell_type": "code",
   "execution_count": null,
   "id": "registered-posting",
   "metadata": {},
   "outputs": [],
   "source": [
    "# Solución\n",
    "\n"
   ]
  },
  {
   "cell_type": "markdown",
   "id": "differential-messenger",
   "metadata": {},
   "source": [
    "### Programa una función llamada `is_valid_zipcode()`\n",
    "Esta función recibe una cadena y devuelve un *booleano* indicando si la cadena es un código postal válido. Consideraremos que una cadena es un código postal válido si está compuesta de 5 dígitos."
   ]
  },
  {
   "cell_type": "code",
   "execution_count": null,
   "id": "approved-veteran",
   "metadata": {},
   "outputs": [],
   "source": [
    "# Solución\n"
   ]
  },
  {
   "cell_type": "markdown",
   "id": "intelligent-juice",
   "metadata": {},
   "source": [
    "### Programa una función llamada `word_search` \n",
    "Esta función toma como argumentos una lista de cadenas y una cadena con una palabra a buscar, y devuelve la lista de los índices de las cadenas que contienen dicha palabra, independientemente de que haya mayúsculas o minúsculas. Hay que buscar palabras enteras, no partes de otras palabras. En la lista de cadenas puede haber caracteres no alfabéticos (símbolos) tras alguna palabra y eso no debe impedir que se detecte. \n",
    "\n",
    "NOTA: puedes asumir que los únicos símbolos que aparecen son el punto y la coma."
   ]
  },
  {
   "cell_type": "code",
   "execution_count": null,
   "id": "parliamentary-rates",
   "metadata": {},
   "outputs": [],
   "source": [
    "lista = [\"No por mucho madrugar amanece más temprano.\",\n",
    "         \"Ellos se compraron un coche\",\n",
    "         \"Sopor\",\n",
    "         \"siempre insoportable\"]"
   ]
  },
  {
   "cell_type": "code",
   "execution_count": null,
   "id": "c45a8922",
   "metadata": {},
   "outputs": [],
   "source": [
    "# Solución\n",
    "\n"
   ]
  },
  {
   "cell_type": "markdown",
   "id": "featured-october",
   "metadata": {},
   "source": [
    "### Programa una función llamada `word_count()`\n",
    "\n",
    "Esta función debe recibir como parámetro la ruta a un fichero de texto, compuesto por diferentes líneas que contienen palabras sin signos de puntuación, y devolverá el número de palabras que contiene el fichero."
   ]
  },
  {
   "cell_type": "code",
   "execution_count": null,
   "id": "removed-governor",
   "metadata": {},
   "outputs": [],
   "source": [
    "# Solución\n",
    "\n"
   ]
  },
  {
   "cell_type": "markdown",
   "id": "packed-scene",
   "metadata": {},
   "source": [
    "### Convierte una lista que contiene listas (bidimensional) en una lista plana.\n",
    "\n",
    "Hazlo usando una *list comprehension*"
   ]
  },
  {
   "cell_type": "code",
   "execution_count": null,
   "id": "pretty-wealth",
   "metadata": {},
   "outputs": [],
   "source": [
    "listas = [[1,2,3],[4,5,6]]"
   ]
  },
  {
   "cell_type": "code",
   "execution_count": null,
   "id": "ca2b6867",
   "metadata": {},
   "outputs": [],
   "source": [
    "# Solución\n"
   ]
  },
  {
   "cell_type": "markdown",
   "id": "general-kazakhstan",
   "metadata": {},
   "source": [
    "### Programa una función llamada `unique_word_count()` \n",
    "Esta función debe recibir como parámetro la ruta a un fichero de texto, compuesto por diferentes líneas que contienen palabras sin signos de puntuación, y devolver una lista con todas las palabras diferentes que contiene el fichero ordenadas alfabéticamente (no tengas en cuenta que las tildes se ordenan incorrectamente), independientemente de que haya mayúsculas o minúsculas."
   ]
  },
  {
   "cell_type": "code",
   "execution_count": null,
   "id": "domestic-azerbaijan",
   "metadata": {},
   "outputs": [],
   "source": [
    "# Solución\n"
   ]
  },
  {
   "cell_type": "markdown",
   "id": "056dc67e",
   "metadata": {},
   "source": [
    "### Escribe una función llamada `capital_letter_count()`\n",
    "Esta función debe recibir como parámetro la ruta a un fichero de texto, compuesto por diferentes líneas que contienen palabras sin signos de puntuación, y devolver devuelve una lista de tuplas `(carácter, apariciones)` con las tuplas ordenadas alfabéticamente (no tengas en cuenta que las tildes se ordenan incorrectamente)."
   ]
  },
  {
   "cell_type": "code",
   "execution_count": null,
   "id": "c390ba01",
   "metadata": {},
   "outputs": [],
   "source": [
    "# Solución\n"
   ]
  }
 ],
 "metadata": {
  "kernelspec": {
   "display_name": "Python 3 (ipykernel)",
   "language": "python",
   "name": "python3"
  },
  "language_info": {
   "codemirror_mode": {
    "name": "ipython",
    "version": 3
   },
   "file_extension": ".py",
   "mimetype": "text/x-python",
   "name": "python",
   "nbconvert_exporter": "python",
   "pygments_lexer": "ipython3",
   "version": "3.7.12"
  },
  "toc": {
   "base_numbering": 1,
   "nav_menu": {},
   "number_sections": true,
   "sideBar": true,
   "skip_h1_title": false,
   "title_cell": "Tabla de contenidos",
   "title_sidebar": "Contents",
   "toc_cell": true,
   "toc_position": {
    "height": "calc(100% - 180px)",
    "left": "10px",
    "top": "150px",
    "width": "462.35px"
   },
   "toc_section_display": true,
   "toc_window_display": true
  }
 },
 "nbformat": 4,
 "nbformat_minor": 5
}
