{
 "cells": [
  {
   "cell_type": "markdown",
   "id": "complete-variety",
   "metadata": {},
   "source": [
    "# Procesamiento de datos con Pandas en el subpaquete `teii.finance`"
   ]
  },
  {
   "cell_type": "markdown",
   "id": "appointed-swaziland",
   "metadata": {},
   "source": [
    "## Constructor de la clase derivada `TimesSeriesFinanceClient`"
   ]
  },
  {
   "cell_type": "code",
   "execution_count": null,
   "id": "seeing-toronto",
   "metadata": {
    "ExecuteTime": {
     "end_time": "2021-05-08T16:01:42.686665Z",
     "start_time": "2021-05-08T16:01:42.362025Z"
    }
   },
   "outputs": [],
   "source": [
    "import datetime\n",
    "import json\n",
    "import numpy as np\n",
    "import pandas as pd\n",
    "import requests\n",
    "from importlib import resources"
   ]
  },
  {
   "cell_type": "code",
   "execution_count": null,
   "id": "increasing-catalyst",
   "metadata": {
    "ExecuteTime": {
     "end_time": "2021-05-08T16:01:42.702044Z",
     "start_time": "2021-05-08T16:01:42.690086Z"
    }
   },
   "outputs": [],
   "source": [
    "pd.__version__"
   ]
  },
  {
   "cell_type": "code",
   "execution_count": null,
   "id": "correct-scratch",
   "metadata": {
    "ExecuteTime": {
     "end_time": "2021-05-08T16:01:42.722249Z",
     "start_time": "2021-05-08T16:01:42.704242Z"
    }
   },
   "outputs": [],
   "source": [
    "_data_field2name_type = {\n",
    "            \"1. open\":                  (\"open\",     \"float\"),\n",
    "            \"2. high\":                  (\"high\",     \"float\"),\n",
    "            \"3. low\":                   (\"low\",      \"float\"),\n",
    "            \"4. close\":                 (\"close\",    \"float\"),\n",
    "            \"5. adjusted close\":        (\"aclose\",   \"float\"),\n",
    "            \"6. volume\":                (\"volume\",   \"int\"),\n",
    "            \"7. dividend amount\":       (\"dividend\", \"float\"),\n",
    "        }"
   ]
  },
  {
   "cell_type": "code",
   "execution_count": null,
   "id": "allied-sight",
   "metadata": {
    "ExecuteTime": {
     "end_time": "2021-05-08T16:01:42.736409Z",
     "start_time": "2021-05-08T16:01:42.725326Z"
    }
   },
   "outputs": [],
   "source": [
    "# Usamos IBM porque AMZN no repartió dividendos\n",
    "query = 'https://www.alphavantage.co/query?function=TIME_SERIES_WEEKLY_ADJUSTED&symbol=IBM&outputsize=full&apikey=MY_ALPHA_VANTAGE_API_KEY&data_type=json'"
   ]
  },
  {
   "cell_type": "code",
   "execution_count": null,
   "id": "eec0853d",
   "metadata": {},
   "outputs": [],
   "source": [
    "download_data = False   # Poner a True si queremos descargarnos los datos de la web"
   ]
  },
  {
   "cell_type": "code",
   "execution_count": null,
   "id": "dedicated-sister",
   "metadata": {
    "ExecuteTime": {
     "end_time": "2021-05-08T16:01:44.499873Z",
     "start_time": "2021-05-08T16:01:44.386385Z"
    },
    "tags": []
   },
   "outputs": [],
   "source": [
    "if download_data:\n",
    "    # Realizamos la consulta\n",
    "    response = requests.get(query)\n",
    "    # print(response)\n",
    "    # Extraemos los datos de la respuesta\n",
    "    json_data_downloaded = response.json()\n",
    "    # print(json.dumps(json_data_downloaded, indent=2))\n",
    "    with open(f\"TIME_SERIES_WEEKLY_ADJUSTED.IBM.json\", 'w') as outfile:\n",
    "            outfile.write(json.dumps(json_data_downloaded, indent=4))\n",
    "else:\n",
    "    with resources.open_text('teii.finance.data', 'TIME_SERIES_WEEKLY_ADJUSTED.IBM.json') as json_fid:\n",
    "        json_data_downloaded = json.load(json_fid)"
   ]
  },
  {
   "cell_type": "code",
   "execution_count": null,
   "id": "following-length",
   "metadata": {
    "ExecuteTime": {
     "end_time": "2021-05-08T16:01:44.507887Z",
     "start_time": "2021-05-08T16:01:44.502737Z"
    }
   },
   "outputs": [],
   "source": [
    "json_metadata = json_data_downloaded['Meta Data']\n",
    "print(json.dumps(json_metadata, indent=2))"
   ]
  },
  {
   "cell_type": "code",
   "execution_count": null,
   "id": "preliminary-familiar",
   "metadata": {
    "ExecuteTime": {
     "end_time": "2021-05-08T16:01:44.586439Z",
     "start_time": "2021-05-08T16:01:44.516393Z"
    },
    "tags": [
     "outputPrepend"
    ]
   },
   "outputs": [],
   "source": [
    "json_data = json_data_downloaded['Weekly Adjusted Time Series']\n",
    "print(json.dumps(json_data, indent=2))"
   ]
  },
  {
   "cell_type": "code",
   "execution_count": null,
   "id": "sharing-wilderness",
   "metadata": {
    "ExecuteTime": {
     "end_time": "2021-05-08T16:01:44.614598Z",
     "start_time": "2021-05-08T16:01:44.588673Z"
    }
   },
   "outputs": [],
   "source": [
    "# Build Panda's data frame\n",
    "data_frame = pd.DataFrame.from_dict(json_data, orient='index', dtype=float)"
   ]
  },
  {
   "cell_type": "code",
   "execution_count": null,
   "id": "featured-daniel",
   "metadata": {
    "ExecuteTime": {
     "end_time": "2021-05-08T16:01:44.654649Z",
     "start_time": "2021-05-08T16:01:44.616230Z"
    },
    "scrolled": true
   },
   "outputs": [],
   "source": [
    "data_frame.describe()"
   ]
  },
  {
   "cell_type": "code",
   "execution_count": null,
   "id": "foster-trash",
   "metadata": {
    "ExecuteTime": {
     "end_time": "2021-05-08T16:01:44.660377Z",
     "start_time": "2021-05-08T16:01:44.656086Z"
    }
   },
   "outputs": [],
   "source": [
    "# Diccionario con las conversiones de nombre de las columnas\n",
    "{key: name_type[0] for key, name_type in _data_field2name_type.items()}"
   ]
  },
  {
   "cell_type": "code",
   "execution_count": null,
   "id": "specified-bankruptcy",
   "metadata": {
    "ExecuteTime": {
     "end_time": "2021-05-08T16:01:44.665136Z",
     "start_time": "2021-05-08T16:01:44.661793Z"
    }
   },
   "outputs": [],
   "source": [
    "# Rename data fields\n",
    "data_frame = data_frame.rename(columns={key: name_type[0] for key, name_type in _data_field2name_type.items()})"
   ]
  },
  {
   "cell_type": "code",
   "execution_count": null,
   "id": "equipped-botswana",
   "metadata": {
    "ExecuteTime": {
     "end_time": "2021-05-08T16:01:44.680202Z",
     "start_time": "2021-05-08T16:01:44.666578Z"
    }
   },
   "outputs": [],
   "source": [
    "data_frame.head()"
   ]
  },
  {
   "cell_type": "code",
   "execution_count": null,
   "id": "promising-drunk",
   "metadata": {
    "ExecuteTime": {
     "end_time": "2021-05-08T16:01:44.685905Z",
     "start_time": "2021-05-08T16:01:44.681769Z"
    }
   },
   "outputs": [],
   "source": [
    "# Diccionario con las conversiones de tipos de las columnas\n",
    "{name_type[0]: name_type[1] for key, name_type in _data_field2name_type.items()}"
   ]
  },
  {
   "cell_type": "code",
   "execution_count": null,
   "id": "entitled-tourist",
   "metadata": {
    "ExecuteTime": {
     "end_time": "2021-05-08T16:01:44.701721Z",
     "start_time": "2021-05-08T16:01:44.691969Z"
    }
   },
   "outputs": [],
   "source": [
    "# Set data field types\n",
    "data_frame = data_frame.astype(dtype={name_type[0]: name_type[1] for key, name_type in _data_field2name_type.items()})\n",
    "\n",
    "data_frame.dtypes"
   ]
  },
  {
   "cell_type": "code",
   "execution_count": null,
   "id": "novel-watershed",
   "metadata": {
    "ExecuteTime": {
     "end_time": "2021-05-08T16:01:44.708742Z",
     "start_time": "2021-05-08T16:01:44.703179Z"
    }
   },
   "outputs": [],
   "source": [
    "# Set index type to datetime\n",
    "data_frame.index = data_frame.index.astype(\"datetime64[ns]\")\n",
    "\n",
    "data_frame.index"
   ]
  },
  {
   "cell_type": "code",
   "execution_count": null,
   "id": "amateur-nightmare",
   "metadata": {
    "ExecuteTime": {
     "end_time": "2021-05-08T16:01:44.723486Z",
     "start_time": "2021-05-08T16:01:44.710237Z"
    }
   },
   "outputs": [],
   "source": [
    "# Sort data\n",
    "data_frame = data_frame.sort_index(ascending=True)\n",
    "\n",
    "data_frame.head()"
   ]
  },
  {
   "cell_type": "markdown",
   "id": "civilian-baking",
   "metadata": {},
   "source": [
    "A partir de aquí ya tenemos en `data_frame` los datos con los que vamos a trabajar, así que podemos usar este notebook para hacer las pruebas necesarias para extraer lo que nos piden en los métodos de `TimesSeriesFinanceClient()`."
   ]
  },
  {
   "cell_type": "markdown",
   "id": "44680c7d",
   "metadata": {},
   "source": [
    "## Solución a `weekly_volume()`"
   ]
  },
  {
   "cell_type": "code",
   "execution_count": null,
   "id": "d9057f66",
   "metadata": {},
   "outputs": [],
   "source": []
  },
  {
   "cell_type": "markdown",
   "id": "norman-shade",
   "metadata": {},
   "source": [
    "## Solución a `yearly_dividends()`"
   ]
  },
  {
   "cell_type": "code",
   "execution_count": null,
   "id": "desirable-tuesday",
   "metadata": {
    "ExecuteTime": {
     "end_time": "2021-05-08T16:01:44.733503Z",
     "start_time": "2021-05-08T16:01:44.725287Z"
    }
   },
   "outputs": [],
   "source": []
  },
  {
   "cell_type": "markdown",
   "id": "trained-reggae",
   "metadata": {},
   "source": [
    "## Solución a `yearly_dividends_per_quarter()`"
   ]
  },
  {
   "cell_type": "code",
   "execution_count": null,
   "id": "light-honor",
   "metadata": {
    "ExecuteTime": {
     "end_time": "2021-05-08T16:01:45.310024Z",
     "start_time": "2021-05-08T16:01:45.115461Z"
    }
   },
   "outputs": [],
   "source": []
  },
  {
   "cell_type": "markdown",
   "id": "liquid-organization",
   "metadata": {},
   "source": [
    "## Solución a `highest_weekly_variation()`"
   ]
  },
  {
   "cell_type": "code",
   "execution_count": null,
   "id": "multiple-summit",
   "metadata": {
    "ExecuteTime": {
     "end_time": "2021-05-08T16:01:45.320584Z",
     "start_time": "2021-05-08T16:01:45.314842Z"
    }
   },
   "outputs": [],
   "source": []
  },
  {
   "cell_type": "markdown",
   "id": "welcome-distribution",
   "metadata": {
    "ExecuteTime": {
     "end_time": "2021-05-08T11:20:47.097483Z",
     "start_time": "2021-05-08T11:20:47.083998Z"
    }
   },
   "source": [
    "## Solución a `highest_monthly_mean_variation()`"
   ]
  },
  {
   "cell_type": "code",
   "execution_count": null,
   "id": "metallic-heater",
   "metadata": {
    "ExecuteTime": {
     "end_time": "2021-05-08T16:01:45.331766Z",
     "start_time": "2021-05-08T16:01:45.322040Z"
    }
   },
   "outputs": [],
   "source": []
  }
 ],
 "metadata": {
  "kernelspec": {
   "display_name": "Python 3 (ipykernel)",
   "language": "python",
   "name": "python3"
  },
  "language_info": {
   "codemirror_mode": {
    "name": "ipython",
    "version": 3
   },
   "file_extension": ".py",
   "mimetype": "text/x-python",
   "name": "python",
   "nbconvert_exporter": "python",
   "pygments_lexer": "ipython3",
   "version": "3.7.12"
  },
  "toc": {
   "base_numbering": 1,
   "nav_menu": {},
   "number_sections": true,
   "sideBar": true,
   "skip_h1_title": false,
   "title_cell": "Table of Contents",
   "title_sidebar": "Contents",
   "toc_cell": false,
   "toc_position": {},
   "toc_section_display": true,
   "toc_window_display": false
  }
 },
 "nbformat": 4,
 "nbformat_minor": 5
}
